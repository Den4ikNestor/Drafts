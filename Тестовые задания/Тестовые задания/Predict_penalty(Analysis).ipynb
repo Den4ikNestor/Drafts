{
 "cells": [
  {
   "cell_type": "code",
   "execution_count": 1,
   "metadata": {},
   "outputs": [],
   "source": [
    "import numpy as np\n",
    "import pandas as pd\n",
    "import matplotlib.pyplot as plt\n",
    "%matplotlib inline\n",
    "import seaborn as sns\n",
    "from sklearn.impute import SimpleImputer\n",
    "\n",
    "import warnings\n",
    "warnings.simplefilter(\"ignore\")"
   ]
  },
  {
   "cell_type": "code",
   "execution_count": 2,
   "metadata": {},
   "outputs": [],
   "source": [
    "dates_train = ['ticket_issued_date', 'hearing_date', 'payment_date']\n",
    "dates_test = ['ticket_issued_date', 'hearing_date']\n",
    "train = pd.read_csv(\"../Тестовые задания/train_2.csv\", index_col = 0, parse_dates = [i for i in dates_train])\n",
    "test =  pd.read_csv(\"../Тестовые задания/test_2.csv\", index_col = 0, parse_dates = [i for i in dates_test])"
   ]
  },
  {
   "cell_type": "markdown",
   "metadata": {},
   "source": [
    "# EDA"
   ]
  },
  {
   "cell_type": "code",
   "execution_count": 3,
   "metadata": {},
   "outputs": [
    {
     "name": "stdout",
     "output_type": "stream",
     "text": [
      "(225000, 34) (25305, 27)\n",
      "0.8989033379277281 0.10109666207227183\n",
      "\n"
     ]
    }
   ],
   "source": [
    "print(train.shape, test.shape)\n",
    "rows = train.shape[0] + test.shape[0]\n",
    "print(train.shape[0] / rows, test.shape[0] / rows)\n",
    "print()"
   ]
  },
  {
   "cell_type": "code",
   "execution_count": 4,
   "metadata": {},
   "outputs": [
    {
     "data": {
      "text/html": [
       "<div>\n",
       "<style scoped>\n",
       "    .dataframe tbody tr th:only-of-type {\n",
       "        vertical-align: middle;\n",
       "    }\n",
       "\n",
       "    .dataframe tbody tr th {\n",
       "        vertical-align: top;\n",
       "    }\n",
       "\n",
       "    .dataframe thead th {\n",
       "        text-align: right;\n",
       "    }\n",
       "</style>\n",
       "<table border=\"1\" class=\"dataframe\">\n",
       "  <thead>\n",
       "    <tr style=\"text-align: right;\">\n",
       "      <th></th>\n",
       "      <th>ticket_id</th>\n",
       "      <th>agency_name</th>\n",
       "      <th>inspector_name</th>\n",
       "      <th>violator_name</th>\n",
       "      <th>violation_street_number</th>\n",
       "      <th>violation_street_name</th>\n",
       "      <th>violation_zip_code</th>\n",
       "      <th>mailing_address_str_number</th>\n",
       "      <th>mailing_address_str_name</th>\n",
       "      <th>city</th>\n",
       "      <th>...</th>\n",
       "      <th>clean_up_cost</th>\n",
       "      <th>judgment_amount</th>\n",
       "      <th>payment_amount</th>\n",
       "      <th>balance_due</th>\n",
       "      <th>payment_date</th>\n",
       "      <th>payment_status</th>\n",
       "      <th>collection_status</th>\n",
       "      <th>grafitti_status</th>\n",
       "      <th>compliance_detail</th>\n",
       "      <th>compliance</th>\n",
       "    </tr>\n",
       "  </thead>\n",
       "  <tbody>\n",
       "    <tr>\n",
       "      <th>0</th>\n",
       "      <td>22056</td>\n",
       "      <td>Buildings, Safety Engineering &amp; Env Department</td>\n",
       "      <td>Sims, Martinzie</td>\n",
       "      <td>INVESTMENT INC., MIDWEST MORTGAGE</td>\n",
       "      <td>2900.0</td>\n",
       "      <td>TYLER</td>\n",
       "      <td>NaN</td>\n",
       "      <td>3.0</td>\n",
       "      <td>S. WICKER</td>\n",
       "      <td>CHICAGO</td>\n",
       "      <td>...</td>\n",
       "      <td>0.0</td>\n",
       "      <td>305.0</td>\n",
       "      <td>0.0</td>\n",
       "      <td>305.0</td>\n",
       "      <td>NaT</td>\n",
       "      <td>NO PAYMENT APPLIED</td>\n",
       "      <td>NaN</td>\n",
       "      <td>NaN</td>\n",
       "      <td>non-compliant by no payment</td>\n",
       "      <td>0.0</td>\n",
       "    </tr>\n",
       "    <tr>\n",
       "      <th>1</th>\n",
       "      <td>27586</td>\n",
       "      <td>Buildings, Safety Engineering &amp; Env Department</td>\n",
       "      <td>Williams, Darrin</td>\n",
       "      <td>Michigan, Covenant House</td>\n",
       "      <td>4311.0</td>\n",
       "      <td>CENTRAL</td>\n",
       "      <td>NaN</td>\n",
       "      <td>2959.0</td>\n",
       "      <td>Martin Luther King</td>\n",
       "      <td>Detroit</td>\n",
       "      <td>...</td>\n",
       "      <td>0.0</td>\n",
       "      <td>855.0</td>\n",
       "      <td>780.0</td>\n",
       "      <td>75.0</td>\n",
       "      <td>2005-06-02</td>\n",
       "      <td>PAID IN FULL</td>\n",
       "      <td>NaN</td>\n",
       "      <td>NaN</td>\n",
       "      <td>compliant by late payment within 1 month</td>\n",
       "      <td>1.0</td>\n",
       "    </tr>\n",
       "    <tr>\n",
       "      <th>2</th>\n",
       "      <td>22062</td>\n",
       "      <td>Buildings, Safety Engineering &amp; Env Department</td>\n",
       "      <td>Sims, Martinzie</td>\n",
       "      <td>SANDERS, DERRON</td>\n",
       "      <td>1449.0</td>\n",
       "      <td>LONGFELLOW</td>\n",
       "      <td>NaN</td>\n",
       "      <td>23658.0</td>\n",
       "      <td>P.O. BOX</td>\n",
       "      <td>DETROIT</td>\n",
       "      <td>...</td>\n",
       "      <td>0.0</td>\n",
       "      <td>0.0</td>\n",
       "      <td>0.0</td>\n",
       "      <td>0.0</td>\n",
       "      <td>NaT</td>\n",
       "      <td>NO PAYMENT APPLIED</td>\n",
       "      <td>NaN</td>\n",
       "      <td>NaN</td>\n",
       "      <td>not responsible by disposition</td>\n",
       "      <td>NaN</td>\n",
       "    </tr>\n",
       "    <tr>\n",
       "      <th>3</th>\n",
       "      <td>22084</td>\n",
       "      <td>Buildings, Safety Engineering &amp; Env Department</td>\n",
       "      <td>Sims, Martinzie</td>\n",
       "      <td>MOROSI, MIKE</td>\n",
       "      <td>1441.0</td>\n",
       "      <td>LONGFELLOW</td>\n",
       "      <td>NaN</td>\n",
       "      <td>5.0</td>\n",
       "      <td>ST. CLAIR</td>\n",
       "      <td>DETROIT</td>\n",
       "      <td>...</td>\n",
       "      <td>0.0</td>\n",
       "      <td>0.0</td>\n",
       "      <td>0.0</td>\n",
       "      <td>0.0</td>\n",
       "      <td>NaT</td>\n",
       "      <td>NO PAYMENT APPLIED</td>\n",
       "      <td>NaN</td>\n",
       "      <td>NaN</td>\n",
       "      <td>not responsible by disposition</td>\n",
       "      <td>NaN</td>\n",
       "    </tr>\n",
       "    <tr>\n",
       "      <th>4</th>\n",
       "      <td>22093</td>\n",
       "      <td>Buildings, Safety Engineering &amp; Env Department</td>\n",
       "      <td>Sims, Martinzie</td>\n",
       "      <td>NATHANIEL, NEAL</td>\n",
       "      <td>2449.0</td>\n",
       "      <td>CHURCHILL</td>\n",
       "      <td>NaN</td>\n",
       "      <td>7449.0</td>\n",
       "      <td>CHURCHILL</td>\n",
       "      <td>DETROIT</td>\n",
       "      <td>...</td>\n",
       "      <td>0.0</td>\n",
       "      <td>0.0</td>\n",
       "      <td>0.0</td>\n",
       "      <td>0.0</td>\n",
       "      <td>NaT</td>\n",
       "      <td>NO PAYMENT APPLIED</td>\n",
       "      <td>NaN</td>\n",
       "      <td>NaN</td>\n",
       "      <td>not responsible by disposition</td>\n",
       "      <td>NaN</td>\n",
       "    </tr>\n",
       "  </tbody>\n",
       "</table>\n",
       "<p>5 rows × 34 columns</p>\n",
       "</div>"
      ],
      "text/plain": [
       "   ticket_id                                     agency_name  \\\n",
       "0      22056  Buildings, Safety Engineering & Env Department   \n",
       "1      27586  Buildings, Safety Engineering & Env Department   \n",
       "2      22062  Buildings, Safety Engineering & Env Department   \n",
       "3      22084  Buildings, Safety Engineering & Env Department   \n",
       "4      22093  Buildings, Safety Engineering & Env Department   \n",
       "\n",
       "     inspector_name                      violator_name  \\\n",
       "0   Sims, Martinzie  INVESTMENT INC., MIDWEST MORTGAGE   \n",
       "1  Williams, Darrin           Michigan, Covenant House   \n",
       "2   Sims, Martinzie                    SANDERS, DERRON   \n",
       "3   Sims, Martinzie                       MOROSI, MIKE   \n",
       "4   Sims, Martinzie                    NATHANIEL, NEAL   \n",
       "\n",
       "   violation_street_number violation_street_name  violation_zip_code  \\\n",
       "0                   2900.0                 TYLER                 NaN   \n",
       "1                   4311.0               CENTRAL                 NaN   \n",
       "2                   1449.0            LONGFELLOW                 NaN   \n",
       "3                   1441.0            LONGFELLOW                 NaN   \n",
       "4                   2449.0             CHURCHILL                 NaN   \n",
       "\n",
       "   mailing_address_str_number mailing_address_str_name     city  ...  \\\n",
       "0                         3.0                S. WICKER  CHICAGO  ...   \n",
       "1                      2959.0       Martin Luther King  Detroit  ...   \n",
       "2                     23658.0                 P.O. BOX  DETROIT  ...   \n",
       "3                         5.0                ST. CLAIR  DETROIT  ...   \n",
       "4                      7449.0                CHURCHILL  DETROIT  ...   \n",
       "\n",
       "  clean_up_cost judgment_amount payment_amount balance_due payment_date  \\\n",
       "0           0.0           305.0            0.0       305.0          NaT   \n",
       "1           0.0           855.0          780.0        75.0   2005-06-02   \n",
       "2           0.0             0.0            0.0         0.0          NaT   \n",
       "3           0.0             0.0            0.0         0.0          NaT   \n",
       "4           0.0             0.0            0.0         0.0          NaT   \n",
       "\n",
       "       payment_status collection_status grafitti_status  \\\n",
       "0  NO PAYMENT APPLIED               NaN             NaN   \n",
       "1        PAID IN FULL               NaN             NaN   \n",
       "2  NO PAYMENT APPLIED               NaN             NaN   \n",
       "3  NO PAYMENT APPLIED               NaN             NaN   \n",
       "4  NO PAYMENT APPLIED               NaN             NaN   \n",
       "\n",
       "                          compliance_detail  compliance  \n",
       "0               non-compliant by no payment         0.0  \n",
       "1  compliant by late payment within 1 month         1.0  \n",
       "2            not responsible by disposition         NaN  \n",
       "3            not responsible by disposition         NaN  \n",
       "4            not responsible by disposition         NaN  \n",
       "\n",
       "[5 rows x 34 columns]"
      ]
     },
     "execution_count": 4,
     "metadata": {},
     "output_type": "execute_result"
    }
   ],
   "source": [
    "train.head()"
   ]
  },
  {
   "cell_type": "code",
   "execution_count": 5,
   "metadata": {},
   "outputs": [
    {
     "name": "stdout",
     "output_type": "stream",
     "text": [
      "<class 'pandas.core.frame.DataFrame'>\n",
      "Int64Index: 225000 entries, 0 to 224999\n",
      "Data columns (total 34 columns):\n",
      "ticket_id                     225000 non-null int64\n",
      "agency_name                   225000 non-null object\n",
      "inspector_name                225000 non-null object\n",
      "violator_name                 224969 non-null object\n",
      "violation_street_number       225000 non-null float64\n",
      "violation_street_name         225000 non-null object\n",
      "violation_zip_code            0 non-null float64\n",
      "mailing_address_str_number    222105 non-null float64\n",
      "mailing_address_str_name      224996 non-null object\n",
      "city                          225000 non-null object\n",
      "state                         224979 non-null object\n",
      "zip_code                      224999 non-null object\n",
      "non_us_str_code               1 non-null object\n",
      "country                       225000 non-null object\n",
      "ticket_issued_date            225000 non-null datetime64[ns]\n",
      "hearing_date                  214104 non-null datetime64[ns]\n",
      "violation_code                225000 non-null object\n",
      "violation_description         225000 non-null object\n",
      "disposition                   225000 non-null object\n",
      "fine_amount                   224999 non-null float64\n",
      "admin_fee                     225000 non-null float64\n",
      "state_fee                     225000 non-null float64\n",
      "late_fee                      225000 non-null float64\n",
      "discount_amount               225000 non-null float64\n",
      "clean_up_cost                 225000 non-null float64\n",
      "judgment_amount               225000 non-null float64\n",
      "payment_amount                225000 non-null float64\n",
      "balance_due                   225000 non-null float64\n",
      "payment_date                  38138 non-null datetime64[ns]\n",
      "payment_status                225000 non-null object\n",
      "collection_status             32744 non-null object\n",
      "grafitti_status               0 non-null float64\n",
      "compliance_detail             225000 non-null object\n",
      "compliance                    144528 non-null float64\n",
      "dtypes: datetime64[ns](3), float64(14), int64(1), object(16)\n",
      "memory usage: 60.1+ MB\n"
     ]
    }
   ],
   "source": [
    "train.info()"
   ]
  },
  {
   "cell_type": "code",
   "execution_count": 6,
   "metadata": {
    "collapsed": true
   },
   "outputs": [
    {
     "data": {
      "text/plain": [
       "object            16\n",
       "float64           14\n",
       "datetime64[ns]     3\n",
       "int64              1\n",
       "dtype: int64"
      ]
     },
     "execution_count": 6,
     "metadata": {},
     "output_type": "execute_result"
    }
   ],
   "source": [
    "train.dtypes.value_counts()"
   ]
  },
  {
   "cell_type": "code",
   "execution_count": 7,
   "metadata": {
    "collapsed": true
   },
   "outputs": [
    {
     "data": {
      "text/plain": [
       "9-1-36(a)               92469\n",
       "9-1-81(a)               41330\n",
       "22-2-88                 28720\n",
       "9-1-104                 18092\n",
       "22-2-45                  5208\n",
       "9-1-105                  4860\n",
       "9-1-43(a) - (Dwellin     4252\n",
       "9-1-110(a)               3994\n",
       "22-2-22                  3755\n",
       "9-1-103(C)               3278\n",
       "19450901                 2947\n",
       "22-2-43                  2744\n",
       "22-2-88(b)               2253\n",
       "22-2-17                  1940\n",
       "22-2-83(a)(b)(c)          849\n",
       "61-81.0100/32.0066        811\n",
       "22-2-83                   633\n",
       "9-1-43(a) - (Structu      598\n",
       "9-1-206                   334\n",
       "9-1-209                   310\n",
       "22-2-21(b)                261\n",
       "22-2-61                   259\n",
       "61-5-21                   257\n",
       "9-1-101                   247\n",
       "9-1-107                   205\n",
       "9-1-43(a) - (Stories      171\n",
       "9-1-111                   169\n",
       "20130901                  167\n",
       "22-2-88(a)                165\n",
       "9-1-201(a)                165\n",
       "                        ...  \n",
       "61-116.0100/32.0031         1\n",
       "9-1-375                     1\n",
       "61-120.0100/32.0066         1\n",
       "9-1-310                     1\n",
       "9-1-354                     1\n",
       "61-4-38                     1\n",
       "22-2-42(b)                  1\n",
       "61-96.0100/32.0066          1\n",
       "9-1-406                     1\n",
       "61-130.0000/130.0300        1\n",
       "9-1-83 - (Structures        1\n",
       "9-1-352                     1\n",
       "61-116.0100/32.0076B        1\n",
       "61-114.0100/32.0031         1\n",
       "9-1-502                     1\n",
       "61-118.0100/32.0066         1\n",
       "61-122.0100/32.0066         1\n",
       "61-14-452(2)                1\n",
       "9-1-433                     1\n",
       "9-1-501                     1\n",
       "22-2-97                     1\n",
       "9-1-471                     1\n",
       "61-85.0100/32.0066          1\n",
       "9-1-215                     1\n",
       "61-4-35                     1\n",
       "9-1-377                     1\n",
       "9-1-443(b)                  1\n",
       "61-111.0100/32.0066         1\n",
       "61-86.0100/45.0807          1\n",
       "61-105.0100/32.066          1\n",
       "Name: violation_code, Length: 216, dtype: int64"
      ]
     },
     "execution_count": 7,
     "metadata": {},
     "output_type": "execute_result"
    }
   ],
   "source": [
    "train['violation_code'].value_counts()"
   ]
  },
  {
   "cell_type": "code",
   "execution_count": 8,
   "metadata": {
    "collapsed": true
   },
   "outputs": [
    {
     "data": {
      "text/plain": [
       "Failure of owner to obtain certificate of compliance                                                                                                                                                                               92469\n",
       "Failure to obtain certificate of registration for rental property                                                                                                                                                                  41330\n",
       "Failure of owner to keep property, its sidewalks, or adjoining public property free from solid waste                                                                                                                               28719\n",
       "Excessive weeds or plant growth one- or two-family dwelling or commercial Building                                                                                                                                                 18092\n",
       "Violation of time limit for approved containers to remain at curbside - early or late                                                                                                                                               5208\n",
       "Rodent harborage one-or two-family dwelling or commercial building                                                                                                                                                                  4860\n",
       "Inoperable motor vehicle(s) one- or two-family dwelling or commercial building                                                                                                                                                      3994\n",
       "Bulk solid waste deposited more than 24 hours before designated time                                                                                                                                                                3876\n",
       "Failure of owner of one- or two-family dwelling to comply with an emergency or imminent danger order concerining an unsafe or unsanitar                                                                                             3612\n",
       "Removal of snow and ice from sidewalks                                                                                                                                                                                              3278\n",
       "Failure of owner to comply with an emergency or imminent danger order of one- or two-family dwelling or building                                                                                                                    2947\n",
       "Improper placement of Courville container between collections                                                                                                                                                                       2744\n",
       "Allowing bulk solid waste to lie or accumulate on or about the premises                                                                                                                                                             2253\n",
       "Improper storage and separation of solid waste for collection day                                                                                                                                                                   1976\n",
       "Dumping,  or deposting solid waste of five (5) cubic feet or more from any motor vehicle upon any public or private property or street                                                                                               849\n",
       "Open Storage/ Residential/ Inoperable Vehicles (R1)                                                                                                                                                                                  811\n",
       "Fail to comply with an Emergency or imminent danger order concerining an unsafe or unsanitary structure or unlawful occupancy (1 or 2 f                                                                                              640\n",
       "Dumping, storing or depositing solid waste on any publicly-owned property, or private property or water, without a permit                                                                                                            633\n",
       "Failure of owner of any other structure, except buildings with five (5) or more stories, to comply with an emergency or imminent danger order concerning an unsafe or unsanitary structure or unlawful occupancy                     571\n",
       "Defective roof or drainage one- or two-family dwelling or commercial building                                                                                                                                                        334\n",
       "Failure to maintain balcony, deck, porch, or stairway one- or two-family dwelling or commercial building                                                                                                                             310\n",
       "Failing to secure City or Private solid waste collection containers and services                                                                                                                                                     256\n",
       "Failure to remove animal waste on public/private property                                                                                                                                                                            248\n",
       "Unlawful accumulation of solid waste one- or two-family dwelling or commercial building                                                                                                                                              247\n",
       "Failure to maintain accessory structure(s) one-or two- family dwelling or commercial building                                                                                                                                        205\n",
       "Failure of owner to remove graffiti or maintain or restore property free of graffiti.                                                                                                                                                169\n",
       "Failure to maintain vacant one- or two- family dwelling or building                                                                                                                                                                  167\n",
       "Failure of owner of a building with five (5) or more stories to comply with an emergency or imminent danger order concerning an unsafe                                                                                               165\n",
       "Failure to maintain exterior of one- or two-family dwelling, building, premises or commercial structure in good repair, structurally sound or in a sanitary condition to prevent threat to the public health, safety or welfare      165\n",
       "Noncompliance/Grant Condition/BZA/BSE                                                                                                                                                                                                153\n",
       "                                                                                                                                                                                                                                   ...  \n",
       "Improper transport of  hazardous waste                                                                                                                                                                                                 1\n",
       "Failure to obtain a lead clearance for rental property -  all other structures, except buildings with five (5) or more stories                                                                                                         1\n",
       "Open Storage/ Non-residential/ Inoperable Vehicles (SD3)                                                                                                                                                                               1\n",
       "Failure to provide sufficient lighting for common hall(s), stairway(s) , or means of egress for building                                                                                                                               1\n",
       "Failure to obtain Certificate of Compliance for rental property                                                                                                                                                                        1\n",
       "Open Storage/ Non-residential/ Inoperable Vehicles (B6)                                                                                                                                                                                1\n",
       "Open Storage/ Non-residential/ Inoperable Vehicles (SD1)                                                                                                                                                                               1\n",
       "Open Storage/ Residential/ Commercial Vehicles (R6)                                                                                                                                                                                    1\n",
       "Owner or occupant failure to exterminate public or shared area or exterior property two family dwelling or building                                                                                                                    1\n",
       "Failure to provide openable window for habitable space(s)  one- or two- family dwelling or building                                                                                                                                    1\n",
       "Open Storage/ Non-residential/ Other (M4)                                                                                                                                                                                              1\n",
       "Failed to comply with other land use or procedural requirements - Other unlawful storage(Non-RESIDENTIAL)                                                                                                                              1\n",
       "Failed to secure permit required for erection or alteration of a building or structure                                                                                                                                                 1\n",
       "Failure to abate unlawful occupancy of Building,Premises or Structure - Emergency Order - 5 stories or more                                                                                                                            1\n",
       "Open Storage/ Non-residential/ Other (TM)                                                                                                                                                                                              1\n",
       "Failure to maintain at least one (1) elevator in an occupied building or structure with two or more elevators                                                                                                                          1\n",
       "Failure to maintain elevator, dumbwaiter, or escalator or display current certification of inspection one- or two- family dwelling or building                                                                                         1\n",
       "Open Storage/ Non-residential/ Inoperable Vehicles (P1)                                                                                                                                                                                1\n",
       "Failed to comply or maintain a grant condition                                                                                                                                                                                         1\n",
       "Banner/ Sinage/ Antenna (R1,R2,R3,R4,R5,R6,SD4)                                                                                                                                                                                        1\n",
       "Open Storage/ Non-residential/ Inoperable Vehicles (M5)                                                                                                                                                                                1\n",
       "Failure of owner to provide or maintain required mechanical or electrical equipment and facilities one- or two- family dwellings or bui                                                                                                1\n",
       "Open Storage/ Non-residential/ Refuse (W1)                                                                                                                                                                                             1\n",
       "Projection/Encroachment                                                                                                                                                                                                                1\n",
       "Failure to provide approved or required mail receptacle(s)  one- or two-family dwelling or commercial building                                                                                                                         1\n",
       "Other Dimensional Noncompliance                                                                                                                                                                                                        1\n",
       "Failure to provide required local exhaust ventilation system one- or two- family dwelling or building                                                                                                                                  1\n",
       "Failure to maintain safety control(s) for fuel-burning appliance or equipment one- or two family dwelling or building                                                                                                                  1\n",
       "Use of kitchen or other non-habitable space(s) for sleeping purposes one- or two family dwelling or building                                                                                                                           1\n",
       "Open Storage/ Residential/ Inoperable Vehicles (R5)                                                                                                                                                                                    1\n",
       "Name: violation_description, Length: 236, dtype: int64"
      ]
     },
     "execution_count": 8,
     "metadata": {},
     "output_type": "execute_result"
    }
   ],
   "source": [
    "train['violation_description'].value_counts()"
   ]
  },
  {
   "cell_type": "code",
   "execution_count": 9,
   "metadata": {
    "collapsed": true
   },
   "outputs": [
    {
     "data": {
      "text/plain": [
       "Responsible by Default                124354\n",
       "Not responsible by Dismissal           43454\n",
       "Not responsible by City Dismissal      30106\n",
       "Responsible by Admission               12861\n",
       "Responsible by Determination            7244\n",
       "Not responsible by Determination        6348\n",
       "PENDING JUDGMENT                         294\n",
       "SET-ASIDE (PENDING JUDGMENT)             270\n",
       "Responsible (Fine Waived) by Deter        69\n",
       "Name: disposition, dtype: int64"
      ]
     },
     "execution_count": 9,
     "metadata": {},
     "output_type": "execute_result"
    }
   ],
   "source": [
    "train['disposition'].value_counts()"
   ]
  },
  {
   "cell_type": "code",
   "execution_count": 10,
   "metadata": {
    "collapsed": true
   },
   "outputs": [
    {
     "data": {
      "text/plain": [
       "0.0        80541\n",
       "305.0      74737\n",
       "85.0       14484\n",
       "140.0      11928\n",
       "250.0       9535\n",
       "280.0       6931\n",
       "580.0       4590\n",
       "3880.0      3785\n",
       "360.0       3674\n",
       "1130.0      3576\n",
       "130.0       2852\n",
       "80.0        2398\n",
       "2780.0      1409\n",
       "57.5        1173\n",
       "230.0       1115\n",
       "167.5        570\n",
       "530.0        326\n",
       "11030.0      195\n",
       "1680.0       184\n",
       "855.0        147\n",
       "1030.0       144\n",
       "55.0         139\n",
       "330.0         87\n",
       "5530.0        85\n",
       "415.0         82\n",
       "3530.0        74\n",
       "155.0         66\n",
       "1350.0        40\n",
       "2530.0        39\n",
       "470.0         26\n",
       "7730.0        13\n",
       "1530.0        12\n",
       "690.0         10\n",
       "780.0         10\n",
       "2230.0         4\n",
       "1955.0         2\n",
       "134.5          2\n",
       "206.0          2\n",
       "1405.0         2\n",
       "380.0          1\n",
       "8830.0         1\n",
       "300.0          1\n",
       "217.0          1\n",
       "195.0          1\n",
       "525.0          1\n",
       "430.0          1\n",
       "3330.0         1\n",
       "2994.5         1\n",
       "750.5          1\n",
       "1097.0         1\n",
       "Name: judgment_amount, dtype: int64"
      ]
     },
     "execution_count": 10,
     "metadata": {},
     "output_type": "execute_result"
    }
   ],
   "source": [
    "train['judgment_amount'].value_counts()"
   ]
  },
  {
   "cell_type": "markdown",
   "metadata": {},
   "source": [
    "### Additional fields"
   ]
  },
  {
   "cell_type": "code",
   "execution_count": 11,
   "metadata": {},
   "outputs": [
    {
     "data": {
      "text/plain": [
       "collection_status  compliance\n",
       "IN COLLECTION      0.0           32629\n",
       "                   1.0             115\n",
       "Name: compliance, dtype: int64"
      ]
     },
     "execution_count": 11,
     "metadata": {},
     "output_type": "execute_result"
    }
   ],
   "source": [
    "train.groupby(['collection_status'])['compliance'].value_counts()"
   ]
  },
  {
   "cell_type": "markdown",
   "metadata": {},
   "source": [
    "### Exploring the main fields of dataset"
   ]
  },
  {
   "cell_type": "code",
   "execution_count": 12,
   "metadata": {},
   "outputs": [
    {
     "data": {
      "text/plain": [
       "((10487, 34), (134041, 34))"
      ]
     },
     "execution_count": 12,
     "metadata": {},
     "output_type": "execute_result"
    }
   ],
   "source": [
    "train_paid = train[train['compliance'] == 1]\n",
    "train_not_paid = train[train['compliance'] == 0]\n",
    "train_paid.shape, train_not_paid.shape"
   ]
  },
  {
   "cell_type": "code",
   "execution_count": 13,
   "metadata": {},
   "outputs": [
    {
     "data": {
      "text/plain": [
       "-35 days +11:00:00    27\n",
       "-14 days +11:00:00    25\n",
       "-27 days +11:00:00    23\n",
       "-35 days +09:00:00    22\n",
       "-20 days +11:00:00    20\n",
       "dtype: int64"
      ]
     },
     "execution_count": 13,
     "metadata": {},
     "output_type": "execute_result"
    }
   ],
   "source": [
    "duration = (train_not_paid['ticket_issued_date'] - train_not_paid['payment_date']).value_counts()\n",
    "duration.head()"
   ]
  },
  {
   "cell_type": "code",
   "execution_count": 14,
   "metadata": {},
   "outputs": [
    {
     "data": {
      "image/png": "[encoded data removed]",
      "text/plain": [
       "<Figure size 1440x720 with 2 Axes>"
      ]
     },
     "metadata": {
      "needs_background": "light"
     },
     "output_type": "display_data"
    }
   ],
   "source": [
    "# Гипотеза о том, что у неплателищиков накопились непосильные платежи, неверна. Суммы налогов у обеих групп \n",
    "# распределены почти одинково. Большая часть налогов не превышает 500 платежных едининц\n",
    "plt.figure(figsize=(20,10))\n",
    "plt.subplot(2,2,1)\n",
    "plt.hist(train_paid['judgment_amount'],50);\n",
    "plt.title('Сумма платежа тех, кто заплатил');\n",
    "plt.subplot(2,2,2)\n",
    "plt.hist(train_not_paid['judgment_amount'],50);\n",
    "plt.title('Сумма платежа тех, кто не заплатил');"
   ]
  },
  {
   "cell_type": "code",
   "execution_count": 15,
   "metadata": {},
   "outputs": [
    {
     "data": {
      "text/plain": [
       "DETROIT       124717\n",
       "SOUTHFIELD     12563\n",
       "Detroit         9394\n",
       "detroit         3681\n",
       "DEARBORN        3204\n",
       "Name: city, dtype: int64"
      ]
     },
     "execution_count": 15,
     "metadata": {},
     "output_type": "execute_result"
    }
   ],
   "source": [
    "train['city'].value_counts().head()"
   ]
  },
  {
   "cell_type": "code",
   "execution_count": 16,
   "metadata": {},
   "outputs": [
    {
     "data": {
      "text/plain": [
       "MI    206415\n",
       "CA      4346\n",
       "TX      2076\n",
       "FL      1918\n",
       "IL      1177\n",
       "Name: state, dtype: int64"
      ]
     },
     "execution_count": 16,
     "metadata": {},
     "output_type": "execute_result"
    }
   ],
   "source": [
    "train['state'].value_counts().head()"
   ]
  },
  {
   "cell_type": "code",
   "execution_count": 17,
   "metadata": {},
   "outputs": [
    {
     "data": {
      "text/plain": [
       "<matplotlib.axes._subplots.AxesSubplot at 0x188eb0b34e0>"
      ]
     },
     "execution_count": 17,
     "metadata": {},
     "output_type": "execute_result"
    },
    {
     "data": {
      "image/png": "[encoded data removed]",
      "text/plain": [
       "<Figure size 432x432 with 2 Axes>"
      ]
     },
     "metadata": {
      "needs_background": "light"
     },
     "output_type": "display_data"
    }
   ],
   "source": [
    "# Также гипотеза о том, что плательщики и неплательщики как-то связаны с городом, страной проживания и штатом, не подтвердилась\n",
    "plt.figure(figsize = (6, 6))\n",
    "plt.subplot(2,1,1)\n",
    "train_paid['country'].value_counts().head(10).plot(kind = 'bar', sort_columns = False, )\n",
    "plt.subplot(2,1,2)\n",
    "train_not_paid['country'].value_counts().head(10).plot(kind = 'bar', sort_columns = False, )"
   ]
  },
  {
   "cell_type": "code",
   "execution_count": 51,
   "metadata": {},
   "outputs": [],
   "source": [
    "train_num = (train.select_dtypes('float64'))"
   ]
  },
  {
   "cell_type": "code",
   "execution_count": 52,
   "metadata": {},
   "outputs": [
    {
     "data": {
      "text/html": [
       "<div>\n",
       "<style scoped>\n",
       "    .dataframe tbody tr th:only-of-type {\n",
       "        vertical-align: middle;\n",
       "    }\n",
       "\n",
       "    .dataframe tbody tr th {\n",
       "        vertical-align: top;\n",
       "    }\n",
       "\n",
       "    .dataframe thead th {\n",
       "        text-align: right;\n",
       "    }\n",
       "</style>\n",
       "<table border=\"1\" class=\"dataframe\">\n",
       "  <thead>\n",
       "    <tr style=\"text-align: right;\">\n",
       "      <th></th>\n",
       "      <th>violation_street_number</th>\n",
       "      <th>mailing_address_str_number</th>\n",
       "      <th>fine_amount</th>\n",
       "      <th>admin_fee</th>\n",
       "      <th>state_fee</th>\n",
       "      <th>late_fee</th>\n",
       "      <th>discount_amount</th>\n",
       "      <th>clean_up_cost</th>\n",
       "      <th>judgment_amount</th>\n",
       "      <th>payment_amount</th>\n",
       "      <th>balance_due</th>\n",
       "      <th>compliance</th>\n",
       "    </tr>\n",
       "  </thead>\n",
       "  <tbody>\n",
       "    <tr>\n",
       "      <th>1</th>\n",
       "      <td>4311.0</td>\n",
       "      <td>2959.0</td>\n",
       "      <td>750.0</td>\n",
       "      <td>20.0</td>\n",
       "      <td>10.0</td>\n",
       "      <td>75.0</td>\n",
       "      <td>0.0</td>\n",
       "      <td>0.0</td>\n",
       "      <td>855.0</td>\n",
       "      <td>780.0</td>\n",
       "      <td>75.0</td>\n",
       "      <td>1.0</td>\n",
       "    </tr>\n",
       "    <tr>\n",
       "      <th>18</th>\n",
       "      <td>14715.0</td>\n",
       "      <td>14715.0</td>\n",
       "      <td>100.0</td>\n",
       "      <td>20.0</td>\n",
       "      <td>10.0</td>\n",
       "      <td>10.0</td>\n",
       "      <td>0.0</td>\n",
       "      <td>0.0</td>\n",
       "      <td>140.0</td>\n",
       "      <td>130.0</td>\n",
       "      <td>10.0</td>\n",
       "      <td>1.0</td>\n",
       "    </tr>\n",
       "    <tr>\n",
       "      <th>19</th>\n",
       "      <td>14715.0</td>\n",
       "      <td>141715.0</td>\n",
       "      <td>100.0</td>\n",
       "      <td>20.0</td>\n",
       "      <td>10.0</td>\n",
       "      <td>10.0</td>\n",
       "      <td>0.0</td>\n",
       "      <td>0.0</td>\n",
       "      <td>140.0</td>\n",
       "      <td>130.0</td>\n",
       "      <td>10.0</td>\n",
       "      <td>1.0</td>\n",
       "    </tr>\n",
       "    <tr>\n",
       "      <th>37</th>\n",
       "      <td>15439.0</td>\n",
       "      <td>15439.0</td>\n",
       "      <td>250.0</td>\n",
       "      <td>20.0</td>\n",
       "      <td>10.0</td>\n",
       "      <td>25.0</td>\n",
       "      <td>0.0</td>\n",
       "      <td>0.0</td>\n",
       "      <td>305.0</td>\n",
       "      <td>280.0</td>\n",
       "      <td>25.0</td>\n",
       "      <td>1.0</td>\n",
       "    </tr>\n",
       "    <tr>\n",
       "      <th>41</th>\n",
       "      <td>2900.0</td>\n",
       "      <td>29.0</td>\n",
       "      <td>250.0</td>\n",
       "      <td>20.0</td>\n",
       "      <td>10.0</td>\n",
       "      <td>0.0</td>\n",
       "      <td>25.0</td>\n",
       "      <td>0.0</td>\n",
       "      <td>280.0</td>\n",
       "      <td>255.0</td>\n",
       "      <td>0.0</td>\n",
       "      <td>1.0</td>\n",
       "    </tr>\n",
       "  </tbody>\n",
       "</table>\n",
       "</div>"
      ],
      "text/plain": [
       "    violation_street_number  mailing_address_str_number  fine_amount  \\\n",
       "1                    4311.0                      2959.0        750.0   \n",
       "18                  14715.0                     14715.0        100.0   \n",
       "19                  14715.0                    141715.0        100.0   \n",
       "37                  15439.0                     15439.0        250.0   \n",
       "41                   2900.0                        29.0        250.0   \n",
       "\n",
       "    admin_fee  state_fee  late_fee  discount_amount  clean_up_cost  \\\n",
       "1        20.0       10.0      75.0              0.0            0.0   \n",
       "18       20.0       10.0      10.0              0.0            0.0   \n",
       "19       20.0       10.0      10.0              0.0            0.0   \n",
       "37       20.0       10.0      25.0              0.0            0.0   \n",
       "41       20.0       10.0       0.0             25.0            0.0   \n",
       "\n",
       "    judgment_amount  payment_amount  balance_due  compliance  \n",
       "1             855.0           780.0         75.0         1.0  \n",
       "18            140.0           130.0         10.0         1.0  \n",
       "19            140.0           130.0         10.0         1.0  \n",
       "37            305.0           280.0         25.0         1.0  \n",
       "41            280.0           255.0          0.0         1.0  "
      ]
     },
     "execution_count": 52,
     "metadata": {},
     "output_type": "execute_result"
    }
   ],
   "source": [
    "train_num.drop(columns=['violation_zip_code', 'grafitti_status'], axis = 1, inplace = True)\n",
    "train_num_paid = train_num[train_num['compliance'] == 1]\n",
    "train_num_paid.head()"
   ]
  },
  {
   "cell_type": "code",
   "execution_count": 64,
   "metadata": {},
   "outputs": [
    {
     "data": {
      "text/plain": [
       "balance_due                  -0.127687\n",
       "late_fee                     -0.082698\n",
       "judgment_amount              -0.048786\n",
       "fine_amount                  -0.045255\n",
       "mailing_address_str_number   -0.009663\n",
       "violation_street_number      -0.002502\n",
       "discount_amount               0.162697\n",
       "payment_amount                0.212672\n",
       "compliance                    1.000000\n",
       "Name: compliance, dtype: float64"
      ]
     },
     "execution_count": 64,
     "metadata": {},
     "output_type": "execute_result"
    }
   ],
   "source": [
    "# как видно корреляция численных столбцов с целевой переменной недостаточно высока, но все же есть. Наиболее сильно она \n",
    "# проявляется у переменных payment_amount, discount_amount и balance_due. Если бы данные как в train выборке, так и в test\n",
    "# выборке содержали данные об оплате штрафов (налогов) за каждый месяц (например, в виде транзакций), либо хотя бы за пол-года\n",
    "# + остаточная сумма в каждом месяце, возможно это бы повлияло на результат целевой переменной.\n",
    "train_num.dropna().corr()['compliance'].dropna().sort_values()"
   ]
  },
  {
   "cell_type": "markdown",
   "metadata": {},
   "source": [
    "### Imputation of missing values"
   ]
  },
  {
   "cell_type": "code",
   "execution_count": 25,
   "metadata": {},
   "outputs": [],
   "source": [
    "def missing_values(file):\n",
    "    sum_miss_val = file.isnull().sum()\n",
    "    percent_miss_val = sum_miss_val * 100 / len(file)\n",
    "    miss_val_table = pd.concat([sum_miss_val, percent_miss_val], axis = 1)\n",
    "    miss_val_table = miss_val_table.rename(columns = {0 : 'Missing values', \n",
    "                                                      1 : '% of Total values'})\n",
    "    miss_val_table = miss_val_table[miss_val_table.iloc[:,1] != 0].sort_values(\n",
    "        '% of Total values', ascending=False).round(1)\n",
    "    return miss_val_table"
   ]
  },
  {
   "cell_type": "code",
   "execution_count": 8,
   "metadata": {},
   "outputs": [
    {
     "data": {
      "text/html": [
       "<div>\n",
       "<style scoped>\n",
       "    .dataframe tbody tr th:only-of-type {\n",
       "        vertical-align: middle;\n",
       "    }\n",
       "\n",
       "    .dataframe tbody tr th {\n",
       "        vertical-align: top;\n",
       "    }\n",
       "\n",
       "    .dataframe thead th {\n",
       "        text-align: right;\n",
       "    }\n",
       "</style>\n",
       "<table border=\"1\" class=\"dataframe\">\n",
       "  <thead>\n",
       "    <tr style=\"text-align: right;\">\n",
       "      <th></th>\n",
       "      <th>Missing values</th>\n",
       "      <th>% of Total values</th>\n",
       "    </tr>\n",
       "  </thead>\n",
       "  <tbody>\n",
       "    <tr>\n",
       "      <th>violation_zip_code</th>\n",
       "      <td>225000</td>\n",
       "      <td>100.0</td>\n",
       "    </tr>\n",
       "    <tr>\n",
       "      <th>grafitti_status</th>\n",
       "      <td>225000</td>\n",
       "      <td>100.0</td>\n",
       "    </tr>\n",
       "    <tr>\n",
       "      <th>non_us_str_code</th>\n",
       "      <td>224999</td>\n",
       "      <td>100.0</td>\n",
       "    </tr>\n",
       "    <tr>\n",
       "      <th>collection_status</th>\n",
       "      <td>192256</td>\n",
       "      <td>85.4</td>\n",
       "    </tr>\n",
       "    <tr>\n",
       "      <th>payment_date</th>\n",
       "      <td>186862</td>\n",
       "      <td>83.0</td>\n",
       "    </tr>\n",
       "    <tr>\n",
       "      <th>compliance</th>\n",
       "      <td>80472</td>\n",
       "      <td>35.8</td>\n",
       "    </tr>\n",
       "    <tr>\n",
       "      <th>hearing_date</th>\n",
       "      <td>10896</td>\n",
       "      <td>4.8</td>\n",
       "    </tr>\n",
       "    <tr>\n",
       "      <th>mailing_address_str_number</th>\n",
       "      <td>2895</td>\n",
       "      <td>1.3</td>\n",
       "    </tr>\n",
       "    <tr>\n",
       "      <th>violator_name</th>\n",
       "      <td>31</td>\n",
       "      <td>0.0</td>\n",
       "    </tr>\n",
       "    <tr>\n",
       "      <th>state</th>\n",
       "      <td>21</td>\n",
       "      <td>0.0</td>\n",
       "    </tr>\n",
       "    <tr>\n",
       "      <th>mailing_address_str_name</th>\n",
       "      <td>4</td>\n",
       "      <td>0.0</td>\n",
       "    </tr>\n",
       "    <tr>\n",
       "      <th>zip_code</th>\n",
       "      <td>1</td>\n",
       "      <td>0.0</td>\n",
       "    </tr>\n",
       "    <tr>\n",
       "      <th>fine_amount</th>\n",
       "      <td>1</td>\n",
       "      <td>0.0</td>\n",
       "    </tr>\n",
       "  </tbody>\n",
       "</table>\n",
       "</div>"
      ],
      "text/plain": [
       "                            Missing values  % of Total values\n",
       "violation_zip_code                  225000              100.0\n",
       "grafitti_status                     225000              100.0\n",
       "non_us_str_code                     224999              100.0\n",
       "collection_status                   192256               85.4\n",
       "payment_date                        186862               83.0\n",
       "compliance                           80472               35.8\n",
       "hearing_date                         10896                4.8\n",
       "mailing_address_str_number            2895                1.3\n",
       "violator_name                           31                0.0\n",
       "state                                   21                0.0\n",
       "mailing_address_str_name                 4                0.0\n",
       "zip_code                                 1                0.0\n",
       "fine_amount                              1                0.0"
      ]
     },
     "execution_count": 8,
     "metadata": {},
     "output_type": "execute_result"
    }
   ],
   "source": [
    "missing_values(train)"
   ]
  },
  {
   "cell_type": "code",
   "execution_count": 9,
   "metadata": {},
   "outputs": [
    {
     "data": {
      "text/html": [
       "<div>\n",
       "<style scoped>\n",
       "    .dataframe tbody tr th:only-of-type {\n",
       "        vertical-align: middle;\n",
       "    }\n",
       "\n",
       "    .dataframe tbody tr th {\n",
       "        vertical-align: top;\n",
       "    }\n",
       "\n",
       "    .dataframe thead th {\n",
       "        text-align: right;\n",
       "    }\n",
       "</style>\n",
       "<table border=\"1\" class=\"dataframe\">\n",
       "  <thead>\n",
       "    <tr style=\"text-align: right;\">\n",
       "      <th></th>\n",
       "      <th>Missing values</th>\n",
       "      <th>% of Total values</th>\n",
       "    </tr>\n",
       "  </thead>\n",
       "  <tbody>\n",
       "    <tr>\n",
       "      <th>violation_zip_code</th>\n",
       "      <td>144528</td>\n",
       "      <td>100.0</td>\n",
       "    </tr>\n",
       "    <tr>\n",
       "      <th>grafitti_status</th>\n",
       "      <td>144528</td>\n",
       "      <td>100.0</td>\n",
       "    </tr>\n",
       "    <tr>\n",
       "      <th>non_us_str_code</th>\n",
       "      <td>144527</td>\n",
       "      <td>100.0</td>\n",
       "    </tr>\n",
       "    <tr>\n",
       "      <th>collection_status</th>\n",
       "      <td>111784</td>\n",
       "      <td>77.3</td>\n",
       "    </tr>\n",
       "    <tr>\n",
       "      <th>payment_date</th>\n",
       "      <td>107756</td>\n",
       "      <td>74.6</td>\n",
       "    </tr>\n",
       "    <tr>\n",
       "      <th>mailing_address_str_number</th>\n",
       "      <td>2108</td>\n",
       "      <td>1.5</td>\n",
       "    </tr>\n",
       "    <tr>\n",
       "      <th>hearing_date</th>\n",
       "      <td>190</td>\n",
       "      <td>0.1</td>\n",
       "    </tr>\n",
       "    <tr>\n",
       "      <th>violator_name</th>\n",
       "      <td>24</td>\n",
       "      <td>0.0</td>\n",
       "    </tr>\n",
       "    <tr>\n",
       "      <th>state</th>\n",
       "      <td>19</td>\n",
       "      <td>0.0</td>\n",
       "    </tr>\n",
       "    <tr>\n",
       "      <th>mailing_address_str_name</th>\n",
       "      <td>3</td>\n",
       "      <td>0.0</td>\n",
       "    </tr>\n",
       "    <tr>\n",
       "      <th>zip_code</th>\n",
       "      <td>1</td>\n",
       "      <td>0.0</td>\n",
       "    </tr>\n",
       "  </tbody>\n",
       "</table>\n",
       "</div>"
      ],
      "text/plain": [
       "                            Missing values  % of Total values\n",
       "violation_zip_code                  144528              100.0\n",
       "grafitti_status                     144528              100.0\n",
       "non_us_str_code                     144527              100.0\n",
       "collection_status                   111784               77.3\n",
       "payment_date                        107756               74.6\n",
       "mailing_address_str_number            2108                1.5\n",
       "hearing_date                           190                0.1\n",
       "violator_name                           24                0.0\n",
       "state                                   19                0.0\n",
       "mailing_address_str_name                 3                0.0\n",
       "zip_code                                 1                0.0"
      ]
     },
     "execution_count": 9,
     "metadata": {},
     "output_type": "execute_result"
    }
   ],
   "source": [
    "# Удаляем все строки, где в столбце 'compliance' значение NaN\n",
    "train.dropna(subset = ['compliance'], inplace = True)\n",
    "missing_values(train)"
   ]
  },
  {
   "cell_type": "code",
   "execution_count": 11,
   "metadata": {},
   "outputs": [
    {
     "data": {
      "text/html": [
       "<div>\n",
       "<style scoped>\n",
       "    .dataframe tbody tr th:only-of-type {\n",
       "        vertical-align: middle;\n",
       "    }\n",
       "\n",
       "    .dataframe tbody tr th {\n",
       "        vertical-align: top;\n",
       "    }\n",
       "\n",
       "    .dataframe thead th {\n",
       "        text-align: right;\n",
       "    }\n",
       "</style>\n",
       "<table border=\"1\" class=\"dataframe\">\n",
       "  <thead>\n",
       "    <tr style=\"text-align: right;\">\n",
       "      <th></th>\n",
       "      <th>Missing values</th>\n",
       "      <th>% of Total values</th>\n",
       "    </tr>\n",
       "  </thead>\n",
       "  <tbody>\n",
       "    <tr>\n",
       "      <th>hearing_date</th>\n",
       "      <td>182</td>\n",
       "      <td>0.1</td>\n",
       "    </tr>\n",
       "  </tbody>\n",
       "</table>\n",
       "</div>"
      ],
      "text/plain": [
       "              Missing values  % of Total values\n",
       "hearing_date             182                0.1"
      ]
     },
     "execution_count": 11,
     "metadata": {},
     "output_type": "execute_result"
    }
   ],
   "source": [
    "# Следующие столбцы имеют небольшое количество пропущенных данных в отношении количества строк выборки, поэтому строкм\n",
    "# с пропущенными значениями можно удалить\n",
    "miss_columns_train = ['fine_amount', 'zip_code', 'mailing_address_str_name', 'state', 'violator_name', 'mailing_address_str_number']\n",
    "\n",
    "# удаляем некоторые столбцы, потому что первые 3 пустые и не содержат ни одного значения, а\n",
    "# последние 2 столбца в drop_columns не пригодятся, потому что их нет в test.csv\n",
    "drop_columns_train = ['violation_zip_code', 'grafitti_status', 'non_us_str_code', 'collection_status', 'payment_date'] \n",
    "\n",
    "train.dropna(subset = miss_columns_train, inplace = True)\n",
    "train.drop(columns=drop_columns_train, axis = 1, inplace = True)\n",
    "missing_values(train)"
   ]
  },
  {
   "cell_type": "code",
   "execution_count": 12,
   "metadata": {},
   "outputs": [
    {
     "data": {
      "text/plain": [
       "142376"
      ]
     },
     "execution_count": 12,
     "metadata": {},
     "output_type": "execute_result"
    }
   ],
   "source": [
    "# 144 528 строк с Not null values было в столбце 'compliance', что является 64% от исходного датасета\n",
    "train.shape[0]"
   ]
  },
  {
   "cell_type": "markdown",
   "metadata": {},
   "source": [
    "Учитывая то, что после удаления столбцов с нулевыми значениями + удаление всех строк, где столбец с результатом содержит значение null, в стобце 'hearing_date' осталось всего лишь 182 строки с нулевым значением, что является всего лишь 0.001% от текущей выборке, поэтому придется удалить ещё и эти строки (со значением NaN в этом стобце)"
   ]
  },
  {
   "cell_type": "code",
   "execution_count": 13,
   "metadata": {},
   "outputs": [
    {
     "data": {
      "text/plain": [
       "142194"
      ]
     },
     "execution_count": 13,
     "metadata": {},
     "output_type": "execute_result"
    }
   ],
   "source": [
    "train.dropna(subset=['hearing_date'], inplace = True)\n",
    "train.shape[0]"
   ]
  },
  {
   "cell_type": "code",
   "execution_count": 14,
   "metadata": {},
   "outputs": [],
   "source": [
    "# Не забудем также в выборке train удалить столбцы, которых нет в выборке test\n",
    "drop_columns_no_test = ['payment_amount', 'payment_status', 'balance_due', 'compliance_detail']\n",
    "train.drop(columns=drop_columns_no_test, axis = 1, inplace = True)"
   ]
  },
  {
   "cell_type": "code",
   "execution_count": 15,
   "metadata": {},
   "outputs": [
    {
     "data": {
      "text/plain": [
       "(142194, 25)"
      ]
     },
     "execution_count": 15,
     "metadata": {},
     "output_type": "execute_result"
    }
   ],
   "source": [
    "train.shape"
   ]
  },
  {
   "cell_type": "code",
   "execution_count": 16,
   "metadata": {},
   "outputs": [
    {
     "data": {
      "text/html": [
       "<div>\n",
       "<style scoped>\n",
       "    .dataframe tbody tr th:only-of-type {\n",
       "        vertical-align: middle;\n",
       "    }\n",
       "\n",
       "    .dataframe tbody tr th {\n",
       "        vertical-align: top;\n",
       "    }\n",
       "\n",
       "    .dataframe thead th {\n",
       "        text-align: right;\n",
       "    }\n",
       "</style>\n",
       "<table border=\"1\" class=\"dataframe\">\n",
       "  <thead>\n",
       "    <tr style=\"text-align: right;\">\n",
       "      <th></th>\n",
       "      <th>Missing values</th>\n",
       "      <th>% of Total values</th>\n",
       "    </tr>\n",
       "  </thead>\n",
       "  <tbody>\n",
       "    <tr>\n",
       "      <th>violation_zip_code</th>\n",
       "      <td>25305</td>\n",
       "      <td>100.0</td>\n",
       "    </tr>\n",
       "    <tr>\n",
       "      <th>grafitti_status</th>\n",
       "      <td>25304</td>\n",
       "      <td>100.0</td>\n",
       "    </tr>\n",
       "    <tr>\n",
       "      <th>non_us_str_code</th>\n",
       "      <td>25303</td>\n",
       "      <td>100.0</td>\n",
       "    </tr>\n",
       "    <tr>\n",
       "      <th>hearing_date</th>\n",
       "      <td>1595</td>\n",
       "      <td>6.3</td>\n",
       "    </tr>\n",
       "    <tr>\n",
       "      <th>mailing_address_str_number</th>\n",
       "      <td>707</td>\n",
       "      <td>2.8</td>\n",
       "    </tr>\n",
       "    <tr>\n",
       "      <th>state</th>\n",
       "      <td>72</td>\n",
       "      <td>0.3</td>\n",
       "    </tr>\n",
       "    <tr>\n",
       "      <th>violator_name</th>\n",
       "      <td>3</td>\n",
       "      <td>0.0</td>\n",
       "    </tr>\n",
       "  </tbody>\n",
       "</table>\n",
       "</div>"
      ],
      "text/plain": [
       "                            Missing values  % of Total values\n",
       "violation_zip_code                   25305              100.0\n",
       "grafitti_status                      25304              100.0\n",
       "non_us_str_code                      25303              100.0\n",
       "hearing_date                          1595                6.3\n",
       "mailing_address_str_number             707                2.8\n",
       "state                                   72                0.3\n",
       "violator_name                            3                0.0"
      ]
     },
     "execution_count": 16,
     "metadata": {},
     "output_type": "execute_result"
    }
   ],
   "source": [
    "missing_values(test)"
   ]
  },
  {
   "cell_type": "code",
   "execution_count": 17,
   "metadata": {},
   "outputs": [],
   "source": [
    "# Проведем аналогичные действия только теперь для выборки test\n",
    "miss_columns_test = ['hearing_date', 'mailing_address_str_number', 'state', 'violator_name']\n",
    "drop_columns_test = ['violation_zip_code', 'grafitti_status', 'non_us_str_code']\n",
    "test.drop(columns = drop_columns_test, axis = 1, inplace = True)\n",
    "test.dropna(subset=miss_columns_test, inplace = True)"
   ]
  },
  {
   "cell_type": "code",
   "execution_count": 18,
   "metadata": {},
   "outputs": [
    {
     "data": {
      "text/plain": [
       "((142194, 25), (22957, 24))"
      ]
     },
     "execution_count": 18,
     "metadata": {},
     "output_type": "execute_result"
    }
   ],
   "source": [
    "# После преобразования датасетов с пропущенными значениями в отношении исходной выборки размерностями (225000, 34) (25305, 27)\n",
    "# текущие выборки имеют следующие размерности:\n",
    "train.shape, test.shape"
   ]
  },
  {
   "cell_type": "code",
   "execution_count": 19,
   "metadata": {},
   "outputs": [
    {
     "data": {
      "text/html": [
       "<div>\n",
       "<style scoped>\n",
       "    .dataframe tbody tr th:only-of-type {\n",
       "        vertical-align: middle;\n",
       "    }\n",
       "\n",
       "    .dataframe tbody tr th {\n",
       "        vertical-align: top;\n",
       "    }\n",
       "\n",
       "    .dataframe thead th {\n",
       "        text-align: right;\n",
       "    }\n",
       "</style>\n",
       "<table border=\"1\" class=\"dataframe\">\n",
       "  <thead>\n",
       "    <tr style=\"text-align: right;\">\n",
       "      <th></th>\n",
       "      <th>ticket_id</th>\n",
       "      <th>agency_name</th>\n",
       "      <th>inspector_name</th>\n",
       "      <th>violator_name</th>\n",
       "      <th>violation_street_number</th>\n",
       "      <th>violation_street_name</th>\n",
       "      <th>mailing_address_str_number</th>\n",
       "      <th>mailing_address_str_name</th>\n",
       "      <th>city</th>\n",
       "      <th>state</th>\n",
       "      <th>...</th>\n",
       "      <th>violation_description</th>\n",
       "      <th>disposition</th>\n",
       "      <th>fine_amount</th>\n",
       "      <th>admin_fee</th>\n",
       "      <th>state_fee</th>\n",
       "      <th>late_fee</th>\n",
       "      <th>discount_amount</th>\n",
       "      <th>clean_up_cost</th>\n",
       "      <th>judgment_amount</th>\n",
       "      <th>compliance</th>\n",
       "    </tr>\n",
       "  </thead>\n",
       "  <tbody>\n",
       "    <tr>\n",
       "      <th>0</th>\n",
       "      <td>22056</td>\n",
       "      <td>Buildings, Safety Engineering &amp; Env Department</td>\n",
       "      <td>Sims, Martinzie</td>\n",
       "      <td>INVESTMENT INC., MIDWEST MORTGAGE</td>\n",
       "      <td>2900.0</td>\n",
       "      <td>TYLER</td>\n",
       "      <td>3.0</td>\n",
       "      <td>S. WICKER</td>\n",
       "      <td>CHICAGO</td>\n",
       "      <td>IL</td>\n",
       "      <td>...</td>\n",
       "      <td>Failure of owner to obtain certificate of comp...</td>\n",
       "      <td>Responsible by Default</td>\n",
       "      <td>250.0</td>\n",
       "      <td>20.0</td>\n",
       "      <td>10.0</td>\n",
       "      <td>25.0</td>\n",
       "      <td>0.0</td>\n",
       "      <td>0.0</td>\n",
       "      <td>305.0</td>\n",
       "      <td>0.0</td>\n",
       "    </tr>\n",
       "    <tr>\n",
       "      <th>1</th>\n",
       "      <td>27586</td>\n",
       "      <td>Buildings, Safety Engineering &amp; Env Department</td>\n",
       "      <td>Williams, Darrin</td>\n",
       "      <td>Michigan, Covenant House</td>\n",
       "      <td>4311.0</td>\n",
       "      <td>CENTRAL</td>\n",
       "      <td>2959.0</td>\n",
       "      <td>Martin Luther King</td>\n",
       "      <td>Detroit</td>\n",
       "      <td>MI</td>\n",
       "      <td>...</td>\n",
       "      <td>Failed To Secure Permit For Lawful Use Of Buil...</td>\n",
       "      <td>Responsible by Determination</td>\n",
       "      <td>750.0</td>\n",
       "      <td>20.0</td>\n",
       "      <td>10.0</td>\n",
       "      <td>75.0</td>\n",
       "      <td>0.0</td>\n",
       "      <td>0.0</td>\n",
       "      <td>855.0</td>\n",
       "      <td>1.0</td>\n",
       "    </tr>\n",
       "    <tr>\n",
       "      <th>5</th>\n",
       "      <td>22046</td>\n",
       "      <td>Buildings, Safety Engineering &amp; Env Department</td>\n",
       "      <td>Sims, Martinzie</td>\n",
       "      <td>KASIMU, UKWELI</td>\n",
       "      <td>6478.0</td>\n",
       "      <td>NORTHFIELD</td>\n",
       "      <td>2755.0</td>\n",
       "      <td>E. 17TH</td>\n",
       "      <td>LOG BEACH</td>\n",
       "      <td>CA</td>\n",
       "      <td>...</td>\n",
       "      <td>Failure of owner to obtain certificate of comp...</td>\n",
       "      <td>Responsible by Default</td>\n",
       "      <td>250.0</td>\n",
       "      <td>20.0</td>\n",
       "      <td>10.0</td>\n",
       "      <td>25.0</td>\n",
       "      <td>0.0</td>\n",
       "      <td>0.0</td>\n",
       "      <td>305.0</td>\n",
       "      <td>0.0</td>\n",
       "    </tr>\n",
       "    <tr>\n",
       "      <th>6</th>\n",
       "      <td>18738</td>\n",
       "      <td>Buildings, Safety Engineering &amp; Env Department</td>\n",
       "      <td>Williams, Darrin</td>\n",
       "      <td>Deerwood Development Group Inc, Deer</td>\n",
       "      <td>8027.0</td>\n",
       "      <td>BRENTWOOD</td>\n",
       "      <td>476.0</td>\n",
       "      <td>Garfield</td>\n",
       "      <td>Clinton</td>\n",
       "      <td>MI</td>\n",
       "      <td>...</td>\n",
       "      <td>Failed To Secure Permit For Lawful Use Of Land</td>\n",
       "      <td>Responsible by Default</td>\n",
       "      <td>750.0</td>\n",
       "      <td>20.0</td>\n",
       "      <td>10.0</td>\n",
       "      <td>75.0</td>\n",
       "      <td>0.0</td>\n",
       "      <td>0.0</td>\n",
       "      <td>855.0</td>\n",
       "      <td>0.0</td>\n",
       "    </tr>\n",
       "    <tr>\n",
       "      <th>7</th>\n",
       "      <td>18735</td>\n",
       "      <td>Buildings, Safety Engineering &amp; Env Department</td>\n",
       "      <td>Williams, Darrin</td>\n",
       "      <td>Rafee Auto Services L.L.C., RAF</td>\n",
       "      <td>8228.0</td>\n",
       "      <td>MT ELLIOTT</td>\n",
       "      <td>8228.0</td>\n",
       "      <td>Mt. Elliott</td>\n",
       "      <td>Detroit</td>\n",
       "      <td>MI</td>\n",
       "      <td>...</td>\n",
       "      <td>Noncompliance/Grant Condition/BZA/BSE</td>\n",
       "      <td>Responsible by Default</td>\n",
       "      <td>100.0</td>\n",
       "      <td>20.0</td>\n",
       "      <td>10.0</td>\n",
       "      <td>10.0</td>\n",
       "      <td>0.0</td>\n",
       "      <td>0.0</td>\n",
       "      <td>140.0</td>\n",
       "      <td>0.0</td>\n",
       "    </tr>\n",
       "  </tbody>\n",
       "</table>\n",
       "<p>5 rows × 25 columns</p>\n",
       "</div>"
      ],
      "text/plain": [
       "   ticket_id                                     agency_name  \\\n",
       "0      22056  Buildings, Safety Engineering & Env Department   \n",
       "1      27586  Buildings, Safety Engineering & Env Department   \n",
       "5      22046  Buildings, Safety Engineering & Env Department   \n",
       "6      18738  Buildings, Safety Engineering & Env Department   \n",
       "7      18735  Buildings, Safety Engineering & Env Department   \n",
       "\n",
       "     inspector_name                         violator_name  \\\n",
       "0   Sims, Martinzie     INVESTMENT INC., MIDWEST MORTGAGE   \n",
       "1  Williams, Darrin              Michigan, Covenant House   \n",
       "5   Sims, Martinzie                        KASIMU, UKWELI   \n",
       "6  Williams, Darrin  Deerwood Development Group Inc, Deer   \n",
       "7  Williams, Darrin       Rafee Auto Services L.L.C., RAF   \n",
       "\n",
       "   violation_street_number violation_street_name  mailing_address_str_number  \\\n",
       "0                   2900.0                 TYLER                         3.0   \n",
       "1                   4311.0               CENTRAL                      2959.0   \n",
       "5                   6478.0            NORTHFIELD                      2755.0   \n",
       "6                   8027.0             BRENTWOOD                       476.0   \n",
       "7                   8228.0            MT ELLIOTT                      8228.0   \n",
       "\n",
       "  mailing_address_str_name       city state  ...  \\\n",
       "0                S. WICKER    CHICAGO    IL  ...   \n",
       "1       Martin Luther King    Detroit    MI  ...   \n",
       "5                  E. 17TH  LOG BEACH    CA  ...   \n",
       "6                 Garfield    Clinton    MI  ...   \n",
       "7              Mt. Elliott    Detroit    MI  ...   \n",
       "\n",
       "                               violation_description  \\\n",
       "0  Failure of owner to obtain certificate of comp...   \n",
       "1  Failed To Secure Permit For Lawful Use Of Buil...   \n",
       "5  Failure of owner to obtain certificate of comp...   \n",
       "6     Failed To Secure Permit For Lawful Use Of Land   \n",
       "7              Noncompliance/Grant Condition/BZA/BSE   \n",
       "\n",
       "                    disposition fine_amount admin_fee state_fee late_fee  \\\n",
       "0        Responsible by Default       250.0      20.0      10.0     25.0   \n",
       "1  Responsible by Determination       750.0      20.0      10.0     75.0   \n",
       "5        Responsible by Default       250.0      20.0      10.0     25.0   \n",
       "6        Responsible by Default       750.0      20.0      10.0     75.0   \n",
       "7        Responsible by Default       100.0      20.0      10.0     10.0   \n",
       "\n",
       "  discount_amount  clean_up_cost  judgment_amount  compliance  \n",
       "0             0.0            0.0            305.0         0.0  \n",
       "1             0.0            0.0            855.0         1.0  \n",
       "5             0.0            0.0            305.0         0.0  \n",
       "6             0.0            0.0            855.0         0.0  \n",
       "7             0.0            0.0            140.0         0.0  \n",
       "\n",
       "[5 rows x 25 columns]"
      ]
     },
     "execution_count": 19,
     "metadata": {},
     "output_type": "execute_result"
    }
   ],
   "source": [
    "train.head()"
   ]
  },
  {
   "cell_type": "code",
   "execution_count": null,
   "metadata": {},
   "outputs": [],
   "source": []
  },
  {
   "cell_type": "code",
   "execution_count": null,
   "metadata": {},
   "outputs": [],
   "source": []
  },
  {
   "cell_type": "code",
   "execution_count": 10,
   "metadata": {},
   "outputs": [
    {
     "data": {
      "text/plain": [
       "0    250.0\n",
       "1    750.0\n",
       "2    250.0\n",
       "3    250.0\n",
       "4    250.0\n",
       "Name: fine_amount, dtype: float64"
      ]
     },
     "execution_count": 10,
     "metadata": {},
     "output_type": "execute_result"
    }
   ],
   "source": [
    "train['fine_amount'].head()"
   ]
  },
  {
   "cell_type": "code",
   "execution_count": 13,
   "metadata": {},
   "outputs": [
    {
     "data": {
      "text/plain": [
       "PO BOX    8459\n",
       "Name: mailing_address_str_name, dtype: int64"
      ]
     },
     "execution_count": 13,
     "metadata": {},
     "output_type": "execute_result"
    }
   ],
   "source": [
    "train['mailing_address_str_name'].value_counts().head(1)"
   ]
  },
  {
   "cell_type": "code",
   "execution_count": 15,
   "metadata": {},
   "outputs": [
    {
     "ename": "AttributeError",
     "evalue": "'numpy.ndarray' object has no attribute 'info'",
     "output_type": "error",
     "traceback": [
      "\u001b[1;31m---------------------------------------------------------------------------\u001b[0m",
      "\u001b[1;31mAttributeError\u001b[0m                            Traceback (most recent call last)",
      "\u001b[1;32m<ipython-input-15-2b4af8231375>\u001b[0m in \u001b[0;36m<module>\u001b[1;34m()\u001b[0m\n\u001b[0;32m      3\u001b[0m \u001b[0mimputer\u001b[0m\u001b[1;33m.\u001b[0m\u001b[0mfit\u001b[0m\u001b[1;33m(\u001b[0m\u001b[0mmiss_train\u001b[0m\u001b[1;33m)\u001b[0m\u001b[1;33m\u001b[0m\u001b[0m\n\u001b[0;32m      4\u001b[0m \u001b[0mmiss_train\u001b[0m \u001b[1;33m=\u001b[0m \u001b[0mimputer\u001b[0m\u001b[1;33m.\u001b[0m\u001b[0mtransform\u001b[0m\u001b[1;33m(\u001b[0m\u001b[0mmiss_train\u001b[0m\u001b[1;33m)\u001b[0m\u001b[1;33m\u001b[0m\u001b[0m\n\u001b[1;32m----> 5\u001b[1;33m \u001b[0mmiss_train\u001b[0m\u001b[1;33m.\u001b[0m\u001b[0minfo\u001b[0m\u001b[1;33m(\u001b[0m\u001b[1;33m)\u001b[0m\u001b[1;33m\u001b[0m\u001b[0m\n\u001b[0m",
      "\u001b[1;31mAttributeError\u001b[0m: 'numpy.ndarray' object has no attribute 'info'"
     ]
    }
   ],
   "source": [
    "miss_train = train[['fine_amount', 'zip_code']]\n",
    "imputer = SimpleImputer(missing_values = 'NaN', strategy = 'most_frequent')\n",
    "imputer.fit(miss_train)\n",
    "miss_train = imputer.transform(miss_train)"
   ]
  },
  {
   "cell_type": "code",
   "execution_count": 26,
   "metadata": {},
   "outputs": [
    {
     "data": {
      "text/html": [
       "<div>\n",
       "<style scoped>\n",
       "    .dataframe tbody tr th:only-of-type {\n",
       "        vertical-align: middle;\n",
       "    }\n",
       "\n",
       "    .dataframe tbody tr th {\n",
       "        vertical-align: top;\n",
       "    }\n",
       "\n",
       "    .dataframe thead th {\n",
       "        text-align: right;\n",
       "    }\n",
       "</style>\n",
       "<table border=\"1\" class=\"dataframe\">\n",
       "  <thead>\n",
       "    <tr style=\"text-align: right;\">\n",
       "      <th></th>\n",
       "      <th>Missing values</th>\n",
       "      <th>% of Total values</th>\n",
       "    </tr>\n",
       "  </thead>\n",
       "  <tbody>\n",
       "    <tr>\n",
       "      <th>0</th>\n",
       "      <td>1</td>\n",
       "      <td>0.0</td>\n",
       "    </tr>\n",
       "    <tr>\n",
       "      <th>1</th>\n",
       "      <td>1</td>\n",
       "      <td>0.0</td>\n",
       "    </tr>\n",
       "  </tbody>\n",
       "</table>\n",
       "</div>"
      ],
      "text/plain": [
       "   Missing values  % of Total values\n",
       "0               1                0.0\n",
       "1               1                0.0"
      ]
     },
     "execution_count": 26,
     "metadata": {},
     "output_type": "execute_result"
    }
   ],
   "source": [
    "miss_train = pd.DataFrame(miss_train)\n",
    "train[['fine_amount', 'zip_code']] = miss_train\n",
    "missing_values(miss_train)"
   ]
  },
  {
   "cell_type": "markdown",
   "metadata": {},
   "source": [
    "1) Количество строк в train.csv в 9 раз больше, чем в test.csv. Нужно не переобучиться\n",
    "\n",
    "2) Всего 13 столбцов с пропущенными значениями"
   ]
  },
  {
   "cell_type": "markdown",
   "metadata": {},
   "source": [
    "### Обнаружение выбросов"
   ]
  },
  {
   "cell_type": "code",
   "execution_count": null,
   "metadata": {},
   "outputs": [],
   "source": [
    "train.describe()"
   ]
  },
  {
   "cell_type": "code",
   "execution_count": null,
   "metadata": {},
   "outputs": [],
   "source": [
    "train_numerical = train.dtypes('float64')\n",
    "train_numerical.head()"
   ]
  },
  {
   "cell_type": "code",
   "execution_count": null,
   "metadata": {},
   "outputs": [],
   "source": []
  }
 ],
 "metadata": {
  "kernelspec": {
   "display_name": "Python 3",
   "language": "python",
   "name": "python3"
  },
  "language_info": {
   "codemirror_mode": {
    "name": "ipython",
    "version": 3
   },
   "file_extension": ".py",
   "mimetype": "text/x-python",
   "name": "python",
   "nbconvert_exporter": "python",
   "pygments_lexer": "ipython3",
   "version": "3.7.0"
  }
 },
 "nbformat": 4,
 "nbformat_minor": 2
}
