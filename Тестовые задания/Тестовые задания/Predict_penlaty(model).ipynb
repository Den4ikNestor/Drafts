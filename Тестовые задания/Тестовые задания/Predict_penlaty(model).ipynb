{
 "cells": [
  {
   "cell_type": "code",
   "execution_count": 1,
   "metadata": {},
   "outputs": [],
   "source": [
    "import numpy as np\n",
    "import pandas as pd\n",
    "import matplotlib.pyplot as plt\n",
    "%matplotlib inline\n",
    "import seaborn as sns\n",
    "from sklearn.preprocessing import StandardScaler, MinMaxScaler, MaxAbsScaler\n",
    "from sklearn.linear_model import LogisticRegression\n",
    "from sklearn.metrics import roc_auc_score\n",
    "from sklearn.model_selection import train_test_split, TimeSeriesSplit, GridSearchCV, cross_val_score\n",
    "from scipy.sparse import hstack\n",
    "from nltk import word_tokenize\n",
    "from nltk.corpus import stopwords\n",
    "from sklearn.feature_extraction.text import TfidfVectorizer\n",
    "\n",
    "import warnings\n",
    "warnings.simplefilter(\"ignore\")"
   ]
  },
  {
   "cell_type": "code",
   "execution_count": 2,
   "metadata": {},
   "outputs": [],
   "source": [
    "dates_train = ['ticket_issued_date', 'hearing_date', 'payment_date']\n",
    "dates_test = ['ticket_issued_date', 'hearing_date']\n",
    "train = pd.read_csv(\"../Тестовые задания/train_2.csv\", index_col = 0, parse_dates = [i for i in dates_train])\n",
    "test =  pd.read_csv(\"../Тестовые задания/test_2.csv\", index_col = 0, parse_dates = [i for i in dates_test])"
   ]
  },
  {
   "cell_type": "code",
   "execution_count": 3,
   "metadata": {},
   "outputs": [
    {
     "data": {
      "text/plain": [
       "object            16\n",
       "float64           14\n",
       "datetime64[ns]     3\n",
       "int64              1\n",
       "dtype: int64"
      ]
     },
     "execution_count": 3,
     "metadata": {},
     "output_type": "execute_result"
    }
   ],
   "source": [
    "train.dtypes.value_counts()"
   ]
  },
  {
   "cell_type": "code",
   "execution_count": 4,
   "metadata": {},
   "outputs": [
    {
     "data": {
      "text/plain": [
       "((225000, 34), (25305, 27))"
      ]
     },
     "execution_count": 4,
     "metadata": {},
     "output_type": "execute_result"
    }
   ],
   "source": [
    "train.shape, test.shape"
   ]
  },
  {
   "cell_type": "code",
   "execution_count": 5,
   "metadata": {},
   "outputs": [
    {
     "data": {
      "text/html": [
       "<div>\n",
       "<style scoped>\n",
       "    .dataframe tbody tr th:only-of-type {\n",
       "        vertical-align: middle;\n",
       "    }\n",
       "\n",
       "    .dataframe tbody tr th {\n",
       "        vertical-align: top;\n",
       "    }\n",
       "\n",
       "    .dataframe thead th {\n",
       "        text-align: right;\n",
       "    }\n",
       "</style>\n",
       "<table border=\"1\" class=\"dataframe\">\n",
       "  <thead>\n",
       "    <tr style=\"text-align: right;\">\n",
       "      <th></th>\n",
       "      <th>ticket_id</th>\n",
       "      <th>agency_name</th>\n",
       "      <th>inspector_name</th>\n",
       "      <th>violator_name</th>\n",
       "      <th>violation_street_number</th>\n",
       "      <th>violation_street_name</th>\n",
       "      <th>violation_zip_code</th>\n",
       "      <th>mailing_address_str_number</th>\n",
       "      <th>mailing_address_str_name</th>\n",
       "      <th>city</th>\n",
       "      <th>...</th>\n",
       "      <th>clean_up_cost</th>\n",
       "      <th>judgment_amount</th>\n",
       "      <th>payment_amount</th>\n",
       "      <th>balance_due</th>\n",
       "      <th>payment_date</th>\n",
       "      <th>payment_status</th>\n",
       "      <th>collection_status</th>\n",
       "      <th>grafitti_status</th>\n",
       "      <th>compliance_detail</th>\n",
       "      <th>compliance</th>\n",
       "    </tr>\n",
       "  </thead>\n",
       "  <tbody>\n",
       "    <tr>\n",
       "      <th>0</th>\n",
       "      <td>22056</td>\n",
       "      <td>Buildings, Safety Engineering &amp; Env Department</td>\n",
       "      <td>Sims, Martinzie</td>\n",
       "      <td>INVESTMENT INC., MIDWEST MORTGAGE</td>\n",
       "      <td>2900.0</td>\n",
       "      <td>TYLER</td>\n",
       "      <td>NaN</td>\n",
       "      <td>3.0</td>\n",
       "      <td>S. WICKER</td>\n",
       "      <td>CHICAGO</td>\n",
       "      <td>...</td>\n",
       "      <td>0.0</td>\n",
       "      <td>305.0</td>\n",
       "      <td>0.0</td>\n",
       "      <td>305.0</td>\n",
       "      <td>NaT</td>\n",
       "      <td>NO PAYMENT APPLIED</td>\n",
       "      <td>NaN</td>\n",
       "      <td>NaN</td>\n",
       "      <td>non-compliant by no payment</td>\n",
       "      <td>0.0</td>\n",
       "    </tr>\n",
       "    <tr>\n",
       "      <th>1</th>\n",
       "      <td>27586</td>\n",
       "      <td>Buildings, Safety Engineering &amp; Env Department</td>\n",
       "      <td>Williams, Darrin</td>\n",
       "      <td>Michigan, Covenant House</td>\n",
       "      <td>4311.0</td>\n",
       "      <td>CENTRAL</td>\n",
       "      <td>NaN</td>\n",
       "      <td>2959.0</td>\n",
       "      <td>Martin Luther King</td>\n",
       "      <td>Detroit</td>\n",
       "      <td>...</td>\n",
       "      <td>0.0</td>\n",
       "      <td>855.0</td>\n",
       "      <td>780.0</td>\n",
       "      <td>75.0</td>\n",
       "      <td>2005-06-02</td>\n",
       "      <td>PAID IN FULL</td>\n",
       "      <td>NaN</td>\n",
       "      <td>NaN</td>\n",
       "      <td>compliant by late payment within 1 month</td>\n",
       "      <td>1.0</td>\n",
       "    </tr>\n",
       "    <tr>\n",
       "      <th>2</th>\n",
       "      <td>22062</td>\n",
       "      <td>Buildings, Safety Engineering &amp; Env Department</td>\n",
       "      <td>Sims, Martinzie</td>\n",
       "      <td>SANDERS, DERRON</td>\n",
       "      <td>1449.0</td>\n",
       "      <td>LONGFELLOW</td>\n",
       "      <td>NaN</td>\n",
       "      <td>23658.0</td>\n",
       "      <td>P.O. BOX</td>\n",
       "      <td>DETROIT</td>\n",
       "      <td>...</td>\n",
       "      <td>0.0</td>\n",
       "      <td>0.0</td>\n",
       "      <td>0.0</td>\n",
       "      <td>0.0</td>\n",
       "      <td>NaT</td>\n",
       "      <td>NO PAYMENT APPLIED</td>\n",
       "      <td>NaN</td>\n",
       "      <td>NaN</td>\n",
       "      <td>not responsible by disposition</td>\n",
       "      <td>NaN</td>\n",
       "    </tr>\n",
       "  </tbody>\n",
       "</table>\n",
       "<p>3 rows × 34 columns</p>\n",
       "</div>"
      ],
      "text/plain": [
       "   ticket_id                                     agency_name  \\\n",
       "0      22056  Buildings, Safety Engineering & Env Department   \n",
       "1      27586  Buildings, Safety Engineering & Env Department   \n",
       "2      22062  Buildings, Safety Engineering & Env Department   \n",
       "\n",
       "     inspector_name                      violator_name  \\\n",
       "0   Sims, Martinzie  INVESTMENT INC., MIDWEST MORTGAGE   \n",
       "1  Williams, Darrin           Michigan, Covenant House   \n",
       "2   Sims, Martinzie                    SANDERS, DERRON   \n",
       "\n",
       "   violation_street_number violation_street_name  violation_zip_code  \\\n",
       "0                   2900.0                 TYLER                 NaN   \n",
       "1                   4311.0               CENTRAL                 NaN   \n",
       "2                   1449.0            LONGFELLOW                 NaN   \n",
       "\n",
       "   mailing_address_str_number mailing_address_str_name     city  ...  \\\n",
       "0                         3.0                S. WICKER  CHICAGO  ...   \n",
       "1                      2959.0       Martin Luther King  Detroit  ...   \n",
       "2                     23658.0                 P.O. BOX  DETROIT  ...   \n",
       "\n",
       "  clean_up_cost judgment_amount payment_amount balance_due payment_date  \\\n",
       "0           0.0           305.0            0.0       305.0          NaT   \n",
       "1           0.0           855.0          780.0        75.0   2005-06-02   \n",
       "2           0.0             0.0            0.0         0.0          NaT   \n",
       "\n",
       "       payment_status collection_status grafitti_status  \\\n",
       "0  NO PAYMENT APPLIED               NaN             NaN   \n",
       "1        PAID IN FULL               NaN             NaN   \n",
       "2  NO PAYMENT APPLIED               NaN             NaN   \n",
       "\n",
       "                          compliance_detail  compliance  \n",
       "0               non-compliant by no payment         0.0  \n",
       "1  compliant by late payment within 1 month         1.0  \n",
       "2            not responsible by disposition         NaN  \n",
       "\n",
       "[3 rows x 34 columns]"
      ]
     },
     "execution_count": 5,
     "metadata": {},
     "output_type": "execute_result"
    }
   ],
   "source": [
    "train.head(3)"
   ]
  },
  {
   "cell_type": "code",
   "execution_count": 6,
   "metadata": {},
   "outputs": [
    {
     "data": {
      "text/html": [
       "<div>\n",
       "<style scoped>\n",
       "    .dataframe tbody tr th:only-of-type {\n",
       "        vertical-align: middle;\n",
       "    }\n",
       "\n",
       "    .dataframe tbody tr th {\n",
       "        vertical-align: top;\n",
       "    }\n",
       "\n",
       "    .dataframe thead th {\n",
       "        text-align: right;\n",
       "    }\n",
       "</style>\n",
       "<table border=\"1\" class=\"dataframe\">\n",
       "  <thead>\n",
       "    <tr style=\"text-align: right;\">\n",
       "      <th></th>\n",
       "      <th>ticket_id</th>\n",
       "      <th>agency_name</th>\n",
       "      <th>inspector_name</th>\n",
       "      <th>violator_name</th>\n",
       "      <th>violation_street_number</th>\n",
       "      <th>violation_street_name</th>\n",
       "      <th>violation_zip_code</th>\n",
       "      <th>mailing_address_str_number</th>\n",
       "      <th>mailing_address_str_name</th>\n",
       "      <th>city</th>\n",
       "      <th>...</th>\n",
       "      <th>violation_description</th>\n",
       "      <th>disposition</th>\n",
       "      <th>fine_amount</th>\n",
       "      <th>admin_fee</th>\n",
       "      <th>state_fee</th>\n",
       "      <th>late_fee</th>\n",
       "      <th>discount_amount</th>\n",
       "      <th>clean_up_cost</th>\n",
       "      <th>judgment_amount</th>\n",
       "      <th>grafitti_status</th>\n",
       "    </tr>\n",
       "  </thead>\n",
       "  <tbody>\n",
       "    <tr>\n",
       "      <th>225001</th>\n",
       "      <td>259669</td>\n",
       "      <td>Buildings, Safety Engineering &amp; Env Department</td>\n",
       "      <td>Sloane, Bennie J</td>\n",
       "      <td>Jobczyk, Richard</td>\n",
       "      <td>5502.0</td>\n",
       "      <td>CHOPIN</td>\n",
       "      <td>NaN</td>\n",
       "      <td>556.0</td>\n",
       "      <td>Chopin</td>\n",
       "      <td>Detroit</td>\n",
       "      <td>...</td>\n",
       "      <td>Failure of owner to obtain certificate of comp...</td>\n",
       "      <td>Responsible by Default</td>\n",
       "      <td>250.0</td>\n",
       "      <td>20.0</td>\n",
       "      <td>10.0</td>\n",
       "      <td>25.0</td>\n",
       "      <td>0.0</td>\n",
       "      <td>0.0</td>\n",
       "      <td>305.0</td>\n",
       "      <td>NaN</td>\n",
       "    </tr>\n",
       "    <tr>\n",
       "      <th>225002</th>\n",
       "      <td>259733</td>\n",
       "      <td>Buildings, Safety Engineering &amp; Env Department</td>\n",
       "      <td>Sloane, Bennie J</td>\n",
       "      <td>Jobczyk, Richard</td>\n",
       "      <td>5502.0</td>\n",
       "      <td>CHOPIN</td>\n",
       "      <td>NaN</td>\n",
       "      <td>556.0</td>\n",
       "      <td>Chopin</td>\n",
       "      <td>Detroit</td>\n",
       "      <td>...</td>\n",
       "      <td>Failure to obtain certificate of registration ...</td>\n",
       "      <td>Responsible by Default</td>\n",
       "      <td>250.0</td>\n",
       "      <td>20.0</td>\n",
       "      <td>10.0</td>\n",
       "      <td>25.0</td>\n",
       "      <td>0.0</td>\n",
       "      <td>0.0</td>\n",
       "      <td>305.0</td>\n",
       "      <td>NaN</td>\n",
       "    </tr>\n",
       "    <tr>\n",
       "      <th>225003</th>\n",
       "      <td>258776</td>\n",
       "      <td>Buildings, Safety Engineering &amp; Env Department</td>\n",
       "      <td>Addison, Michael</td>\n",
       "      <td>REAL ESTATE, S &amp; N</td>\n",
       "      <td>7661.0</td>\n",
       "      <td>VERNOR</td>\n",
       "      <td>NaN</td>\n",
       "      <td>319.0</td>\n",
       "      <td>WATERFALL</td>\n",
       "      <td>TROY</td>\n",
       "      <td>...</td>\n",
       "      <td>Failure of owner to obtain certificate of comp...</td>\n",
       "      <td>Responsible by Default</td>\n",
       "      <td>250.0</td>\n",
       "      <td>20.0</td>\n",
       "      <td>10.0</td>\n",
       "      <td>25.0</td>\n",
       "      <td>0.0</td>\n",
       "      <td>0.0</td>\n",
       "      <td>305.0</td>\n",
       "      <td>NaN</td>\n",
       "    </tr>\n",
       "  </tbody>\n",
       "</table>\n",
       "<p>3 rows × 27 columns</p>\n",
       "</div>"
      ],
      "text/plain": [
       "        ticket_id                                     agency_name  \\\n",
       "225001     259669  Buildings, Safety Engineering & Env Department   \n",
       "225002     259733  Buildings, Safety Engineering & Env Department   \n",
       "225003     258776  Buildings, Safety Engineering & Env Department   \n",
       "\n",
       "          inspector_name       violator_name  violation_street_number  \\\n",
       "225001  Sloane, Bennie J    Jobczyk, Richard                   5502.0   \n",
       "225002  Sloane, Bennie J    Jobczyk, Richard                   5502.0   \n",
       "225003  Addison, Michael  REAL ESTATE, S & N                   7661.0   \n",
       "\n",
       "       violation_street_name  violation_zip_code  mailing_address_str_number  \\\n",
       "225001                CHOPIN                 NaN                       556.0   \n",
       "225002                CHOPIN                 NaN                       556.0   \n",
       "225003                VERNOR                 NaN                       319.0   \n",
       "\n",
       "       mailing_address_str_name     city  ...  \\\n",
       "225001                   Chopin  Detroit  ...   \n",
       "225002                   Chopin  Detroit  ...   \n",
       "225003                WATERFALL     TROY  ...   \n",
       "\n",
       "                                    violation_description  \\\n",
       "225001  Failure of owner to obtain certificate of comp...   \n",
       "225002  Failure to obtain certificate of registration ...   \n",
       "225003  Failure of owner to obtain certificate of comp...   \n",
       "\n",
       "                   disposition fine_amount admin_fee state_fee late_fee  \\\n",
       "225001  Responsible by Default       250.0      20.0      10.0     25.0   \n",
       "225002  Responsible by Default       250.0      20.0      10.0     25.0   \n",
       "225003  Responsible by Default       250.0      20.0      10.0     25.0   \n",
       "\n",
       "       discount_amount clean_up_cost judgment_amount  grafitti_status  \n",
       "225001             0.0           0.0           305.0              NaN  \n",
       "225002             0.0           0.0           305.0              NaN  \n",
       "225003             0.0           0.0           305.0              NaN  \n",
       "\n",
       "[3 rows x 27 columns]"
      ]
     },
     "execution_count": 6,
     "metadata": {},
     "output_type": "execute_result"
    }
   ],
   "source": [
    "test.head(3)"
   ]
  },
  {
   "cell_type": "markdown",
   "metadata": {},
   "source": [
    "### EDA"
   ]
  },
  {
   "cell_type": "code",
   "execution_count": 7,
   "metadata": {},
   "outputs": [
    {
     "name": "stdout",
     "output_type": "stream",
     "text": [
      "(225000, 34) (25305, 27)\n",
      "0.8989033379277281 0.10109666207227183\n",
      "\n"
     ]
    }
   ],
   "source": [
    "print(train.shape, test.shape)\n",
    "rows = train.shape[0] + test.shape[0]\n",
    "print(train.shape[0] / rows, test.shape[0] / rows)\n",
    "print()"
   ]
  },
  {
   "cell_type": "code",
   "execution_count": 8,
   "metadata": {},
   "outputs": [
    {
     "name": "stdout",
     "output_type": "stream",
     "text": [
      "<class 'pandas.core.frame.DataFrame'>\n",
      "Int64Index: 225000 entries, 0 to 224999\n",
      "Data columns (total 34 columns):\n",
      "ticket_id                     225000 non-null int64\n",
      "agency_name                   225000 non-null object\n",
      "inspector_name                225000 non-null object\n",
      "violator_name                 224969 non-null object\n",
      "violation_street_number       225000 non-null float64\n",
      "violation_street_name         225000 non-null object\n",
      "violation_zip_code            0 non-null float64\n",
      "mailing_address_str_number    222105 non-null float64\n",
      "mailing_address_str_name      224996 non-null object\n",
      "city                          225000 non-null object\n",
      "state                         224979 non-null object\n",
      "zip_code                      224999 non-null object\n",
      "non_us_str_code               1 non-null object\n",
      "country                       225000 non-null object\n",
      "ticket_issued_date            225000 non-null datetime64[ns]\n",
      "hearing_date                  214104 non-null datetime64[ns]\n",
      "violation_code                225000 non-null object\n",
      "violation_description         225000 non-null object\n",
      "disposition                   225000 non-null object\n",
      "fine_amount                   224999 non-null float64\n",
      "admin_fee                     225000 non-null float64\n",
      "state_fee                     225000 non-null float64\n",
      "late_fee                      225000 non-null float64\n",
      "discount_amount               225000 non-null float64\n",
      "clean_up_cost                 225000 non-null float64\n",
      "judgment_amount               225000 non-null float64\n",
      "payment_amount                225000 non-null float64\n",
      "balance_due                   225000 non-null float64\n",
      "payment_date                  38138 non-null datetime64[ns]\n",
      "payment_status                225000 non-null object\n",
      "collection_status             32744 non-null object\n",
      "grafitti_status               0 non-null float64\n",
      "compliance_detail             225000 non-null object\n",
      "compliance                    144528 non-null float64\n",
      "dtypes: datetime64[ns](3), float64(14), int64(1), object(16)\n",
      "memory usage: 60.1+ MB\n"
     ]
    }
   ],
   "source": [
    "train.info()"
   ]
  },
  {
   "cell_type": "code",
   "execution_count": 9,
   "metadata": {},
   "outputs": [
    {
     "data": {
      "text/html": [
       "<div>\n",
       "<style scoped>\n",
       "    .dataframe tbody tr th:only-of-type {\n",
       "        vertical-align: middle;\n",
       "    }\n",
       "\n",
       "    .dataframe tbody tr th {\n",
       "        vertical-align: top;\n",
       "    }\n",
       "\n",
       "    .dataframe thead th {\n",
       "        text-align: right;\n",
       "    }\n",
       "</style>\n",
       "<table border=\"1\" class=\"dataframe\">\n",
       "  <thead>\n",
       "    <tr style=\"text-align: right;\">\n",
       "      <th></th>\n",
       "      <th>ticket_id</th>\n",
       "      <th>violation_street_number</th>\n",
       "      <th>violation_zip_code</th>\n",
       "      <th>mailing_address_str_number</th>\n",
       "      <th>fine_amount</th>\n",
       "      <th>admin_fee</th>\n",
       "      <th>state_fee</th>\n",
       "      <th>late_fee</th>\n",
       "      <th>discount_amount</th>\n",
       "      <th>clean_up_cost</th>\n",
       "      <th>judgment_amount</th>\n",
       "      <th>payment_amount</th>\n",
       "      <th>balance_due</th>\n",
       "      <th>grafitti_status</th>\n",
       "      <th>compliance</th>\n",
       "    </tr>\n",
       "  </thead>\n",
       "  <tbody>\n",
       "    <tr>\n",
       "      <th>count</th>\n",
       "      <td>225000.000000</td>\n",
       "      <td>2.250000e+05</td>\n",
       "      <td>0.0</td>\n",
       "      <td>2.221050e+05</td>\n",
       "      <td>224999.000000</td>\n",
       "      <td>225000.000000</td>\n",
       "      <td>225000.000000</td>\n",
       "      <td>225000.000000</td>\n",
       "      <td>225000.000000</td>\n",
       "      <td>225000.0</td>\n",
       "      <td>225000.000000</td>\n",
       "      <td>225000.000000</td>\n",
       "      <td>225000.000000</td>\n",
       "      <td>0.0</td>\n",
       "      <td>144528.000000</td>\n",
       "    </tr>\n",
       "    <tr>\n",
       "      <th>mean</th>\n",
       "      <td>139236.542458</td>\n",
       "      <td>1.064427e+04</td>\n",
       "      <td>NaN</td>\n",
       "      <td>9.247658e+03</td>\n",
       "      <td>378.468793</td>\n",
       "      <td>12.846933</td>\n",
       "      <td>6.423467</td>\n",
       "      <td>21.923544</td>\n",
       "      <td>0.137867</td>\n",
       "      <td>0.0</td>\n",
       "      <td>274.147722</td>\n",
       "      <td>50.951902</td>\n",
       "      <td>225.868484</td>\n",
       "      <td>NaN</td>\n",
       "      <td>0.072560</td>\n",
       "    </tr>\n",
       "    <tr>\n",
       "      <th>std</th>\n",
       "      <td>69554.395583</td>\n",
       "      <td>3.353385e+04</td>\n",
       "      <td>NaN</td>\n",
       "      <td>3.679203e+04</td>\n",
       "      <td>729.659232</td>\n",
       "      <td>9.586208</td>\n",
       "      <td>4.793104</td>\n",
       "      <td>58.716439</td>\n",
       "      <td>3.614186</td>\n",
       "      <td>0.0</td>\n",
       "      <td>651.622194</td>\n",
       "      <td>230.959662</td>\n",
       "      <td>629.964750</td>\n",
       "      <td>NaN</td>\n",
       "      <td>0.259414</td>\n",
       "    </tr>\n",
       "    <tr>\n",
       "      <th>min</th>\n",
       "      <td>18645.000000</td>\n",
       "      <td>0.000000e+00</td>\n",
       "      <td>NaN</td>\n",
       "      <td>1.000000e+00</td>\n",
       "      <td>0.000000</td>\n",
       "      <td>0.000000</td>\n",
       "      <td>0.000000</td>\n",
       "      <td>0.000000</td>\n",
       "      <td>0.000000</td>\n",
       "      <td>0.0</td>\n",
       "      <td>0.000000</td>\n",
       "      <td>0.000000</td>\n",
       "      <td>-7750.000000</td>\n",
       "      <td>NaN</td>\n",
       "      <td>0.000000</td>\n",
       "    </tr>\n",
       "    <tr>\n",
       "      <th>25%</th>\n",
       "      <td>79805.750000</td>\n",
       "      <td>4.762000e+03</td>\n",
       "      <td>NaN</td>\n",
       "      <td>5.520000e+02</td>\n",
       "      <td>200.000000</td>\n",
       "      <td>0.000000</td>\n",
       "      <td>0.000000</td>\n",
       "      <td>0.000000</td>\n",
       "      <td>0.000000</td>\n",
       "      <td>0.0</td>\n",
       "      <td>0.000000</td>\n",
       "      <td>0.000000</td>\n",
       "      <td>0.000000</td>\n",
       "      <td>NaN</td>\n",
       "      <td>0.000000</td>\n",
       "    </tr>\n",
       "    <tr>\n",
       "      <th>50%</th>\n",
       "      <td>139140.500000</td>\n",
       "      <td>1.030000e+04</td>\n",
       "      <td>NaN</td>\n",
       "      <td>2.484000e+03</td>\n",
       "      <td>250.000000</td>\n",
       "      <td>20.000000</td>\n",
       "      <td>10.000000</td>\n",
       "      <td>10.000000</td>\n",
       "      <td>0.000000</td>\n",
       "      <td>0.0</td>\n",
       "      <td>140.000000</td>\n",
       "      <td>0.000000</td>\n",
       "      <td>25.000000</td>\n",
       "      <td>NaN</td>\n",
       "      <td>0.000000</td>\n",
       "    </tr>\n",
       "    <tr>\n",
       "      <th>75%</th>\n",
       "      <td>199471.750000</td>\n",
       "      <td>1.572925e+04</td>\n",
       "      <td>NaN</td>\n",
       "      <td>1.312700e+04</td>\n",
       "      <td>250.000000</td>\n",
       "      <td>20.000000</td>\n",
       "      <td>10.000000</td>\n",
       "      <td>25.000000</td>\n",
       "      <td>0.000000</td>\n",
       "      <td>0.0</td>\n",
       "      <td>305.000000</td>\n",
       "      <td>0.000000</td>\n",
       "      <td>305.000000</td>\n",
       "      <td>NaN</td>\n",
       "      <td>0.000000</td>\n",
       "    </tr>\n",
       "    <tr>\n",
       "      <th>max</th>\n",
       "      <td>261048.000000</td>\n",
       "      <td>1.415411e+07</td>\n",
       "      <td>NaN</td>\n",
       "      <td>5.111345e+06</td>\n",
       "      <td>10000.000000</td>\n",
       "      <td>20.000000</td>\n",
       "      <td>10.000000</td>\n",
       "      <td>1000.000000</td>\n",
       "      <td>350.000000</td>\n",
       "      <td>0.0</td>\n",
       "      <td>11030.000000</td>\n",
       "      <td>11075.000000</td>\n",
       "      <td>11030.000000</td>\n",
       "      <td>NaN</td>\n",
       "      <td>1.000000</td>\n",
       "    </tr>\n",
       "  </tbody>\n",
       "</table>\n",
       "</div>"
      ],
      "text/plain": [
       "           ticket_id  violation_street_number  violation_zip_code  \\\n",
       "count  225000.000000             2.250000e+05                 0.0   \n",
       "mean   139236.542458             1.064427e+04                 NaN   \n",
       "std     69554.395583             3.353385e+04                 NaN   \n",
       "min     18645.000000             0.000000e+00                 NaN   \n",
       "25%     79805.750000             4.762000e+03                 NaN   \n",
       "50%    139140.500000             1.030000e+04                 NaN   \n",
       "75%    199471.750000             1.572925e+04                 NaN   \n",
       "max    261048.000000             1.415411e+07                 NaN   \n",
       "\n",
       "       mailing_address_str_number    fine_amount      admin_fee  \\\n",
       "count                2.221050e+05  224999.000000  225000.000000   \n",
       "mean                 9.247658e+03     378.468793      12.846933   \n",
       "std                  3.679203e+04     729.659232       9.586208   \n",
       "min                  1.000000e+00       0.000000       0.000000   \n",
       "25%                  5.520000e+02     200.000000       0.000000   \n",
       "50%                  2.484000e+03     250.000000      20.000000   \n",
       "75%                  1.312700e+04     250.000000      20.000000   \n",
       "max                  5.111345e+06   10000.000000      20.000000   \n",
       "\n",
       "           state_fee       late_fee  discount_amount  clean_up_cost  \\\n",
       "count  225000.000000  225000.000000    225000.000000       225000.0   \n",
       "mean        6.423467      21.923544         0.137867            0.0   \n",
       "std         4.793104      58.716439         3.614186            0.0   \n",
       "min         0.000000       0.000000         0.000000            0.0   \n",
       "25%         0.000000       0.000000         0.000000            0.0   \n",
       "50%        10.000000      10.000000         0.000000            0.0   \n",
       "75%        10.000000      25.000000         0.000000            0.0   \n",
       "max        10.000000    1000.000000       350.000000            0.0   \n",
       "\n",
       "       judgment_amount  payment_amount    balance_due  grafitti_status  \\\n",
       "count    225000.000000   225000.000000  225000.000000              0.0   \n",
       "mean        274.147722       50.951902     225.868484              NaN   \n",
       "std         651.622194      230.959662     629.964750              NaN   \n",
       "min           0.000000        0.000000   -7750.000000              NaN   \n",
       "25%           0.000000        0.000000       0.000000              NaN   \n",
       "50%         140.000000        0.000000      25.000000              NaN   \n",
       "75%         305.000000        0.000000     305.000000              NaN   \n",
       "max       11030.000000    11075.000000   11030.000000              NaN   \n",
       "\n",
       "          compliance  \n",
       "count  144528.000000  \n",
       "mean        0.072560  \n",
       "std         0.259414  \n",
       "min         0.000000  \n",
       "25%         0.000000  \n",
       "50%         0.000000  \n",
       "75%         0.000000  \n",
       "max         1.000000  "
      ]
     },
     "execution_count": 9,
     "metadata": {},
     "output_type": "execute_result"
    }
   ],
   "source": [
    "train.describe()"
   ]
  },
  {
   "cell_type": "markdown",
   "metadata": {},
   "source": [
    "#### Explore the main features"
   ]
  },
  {
   "cell_type": "code",
   "execution_count": 10,
   "metadata": {},
   "outputs": [
    {
     "data": {
      "text/plain": [
       "((10487, 34), (134041, 34))"
      ]
     },
     "execution_count": 10,
     "metadata": {},
     "output_type": "execute_result"
    }
   ],
   "source": [
    "# Изучим всех налогоплательщиков по-отдельности: оплатившие и неоплатившие, соответственно\n",
    "train_paid = train[train['compliance'] == 1]\n",
    "train_not_paid = train[train['compliance'] == 0]\n",
    "train_paid.shape, train_not_paid.shape"
   ]
  },
  {
   "cell_type": "code",
   "execution_count": 11,
   "metadata": {},
   "outputs": [
    {
     "data": {
      "text/plain": [
       "compliance  agency_name                                   \n",
       "0.0         Buildings, Safety Engineering & Env Department    83435\n",
       "            Department of Public Works                        40621\n",
       "            Health Department                                  6639\n",
       "            Detroit Police Department                          3345\n",
       "            Neighborhood City Halls                               1\n",
       "1.0         Buildings, Safety Engineering & Env Department     5563\n",
       "            Department of Public Works                         3979\n",
       "            Detroit Police Department                           477\n",
       "            Health Department                                   468\n",
       "Name: agency_name, dtype: int64"
      ]
     },
     "execution_count": 11,
     "metadata": {},
     "output_type": "execute_result"
    }
   ],
   "source": [
    "# Интересно посмотреть, кто из инспекторов и агенств чаще всего штрафовал налогплательщиков\n",
    "train.groupby(['compliance'])['agency_name'].value_counts()"
   ]
  },
  {
   "cell_type": "markdown",
   "metadata": {},
   "source": [
    "Как видно, чаще всего налоги не оплачивают в сферах Строительства, Инженерии и Экологии"
   ]
  },
  {
   "cell_type": "code",
   "execution_count": 12,
   "metadata": {},
   "outputs": [
    {
     "data": {
      "text/plain": [
       "compliance  inspector_name  \n",
       "0.0         Morris, John        10043\n",
       "            O'Neal, Claude       7530\n",
       "            Samaan, Neil J       7262\n",
       "            Devaney, John        6441\n",
       "            Steele, Jonathan     6090\n",
       "Name: inspector_name, dtype: int64"
      ]
     },
     "execution_count": 12,
     "metadata": {},
     "output_type": "execute_result"
    }
   ],
   "source": [
    "train.groupby(['compliance'])['inspector_name'].value_counts().head()"
   ]
  },
  {
   "cell_type": "markdown",
   "metadata": {},
   "source": [
    "Morris John охотник на налогонеплательщиков)"
   ]
  },
  {
   "cell_type": "code",
   "execution_count": 13,
   "metadata": {},
   "outputs": [
    {
     "data": {
      "text/plain": [
       "compliance  violator_name        \n",
       "0.0         INVESTMENT, ACORN        618\n",
       "            INVESTMENT CO., ACORN    343\n",
       "            BANK, WELLS FARGO        241\n",
       "            MILLER, JOHN             168\n",
       "            NEW YORK, BANK OF        135\n",
       "Name: violator_name, dtype: int64"
      ]
     },
     "execution_count": 13,
     "metadata": {},
     "output_type": "execute_result"
    }
   ],
   "source": [
    "# Взглянем ещё и на тех, кто чаще всего не платит налоги\n",
    "train.groupby(['compliance'])['violator_name'].value_counts().head()"
   ]
  },
  {
   "cell_type": "code",
   "execution_count": 14,
   "metadata": {},
   "outputs": [
    {
     "data": {
      "text/plain": [
       "Failure of owner to obtain certificate of compliance                                                    4562\n",
       "Failure of owner to keep property, its sidewalks, or adjoining public property free from solid waste    1352\n",
       "Excessive weeds or plant growth one- or two-family dwelling or commercial Building                      1111\n",
       "Failure to obtain certificate of registration for rental property                                        718\n",
       "Violation of time limit for approved containers to remain at curbside - early or late                    536\n",
       "Name: violation_description, dtype: int64"
      ]
     },
     "execution_count": 14,
     "metadata": {},
     "output_type": "execute_result"
    }
   ],
   "source": [
    "train_paid['violation_description'].value_counts().head()"
   ]
  },
  {
   "cell_type": "code",
   "execution_count": 15,
   "metadata": {},
   "outputs": [
    {
     "data": {
      "text/plain": [
       "Failure of owner to obtain certificate of compliance                                                    55898\n",
       "Failure to obtain certificate of registration for rental property                                       21190\n",
       "Failure of owner to keep property, its sidewalks, or adjoining public property free from solid waste    17720\n",
       "Excessive weeds or plant growth one- or two-family dwelling or commercial Building                      12630\n",
       "Violation of time limit for approved containers to remain at curbside - early or late                    3538\n",
       "Name: violation_description, dtype: int64"
      ]
     },
     "execution_count": 15,
     "metadata": {},
     "output_type": "execute_result"
    }
   ],
   "source": [
    "train_not_paid['violation_description'].value_counts().head()"
   ]
  },
  {
   "cell_type": "markdown",
   "metadata": {},
   "source": [
    "Самые популярные описания нарушений среди налогонеплательщиков:\n",
    "1. Неспособность владельца получить сертификат соответствия\n",
    "2. Непредставление свидетельства о регистрации арендуемого имущества\n",
    "3. Неспособность владельца содержать имущество, его тротуары или прилегающую общественную собственность без твердых отходов\n",
    "4. Чрезмерные сорняки или рост растений жилое или коммерческое здание на одну или две семьи\n",
    "5. Нарушение срока пребывания утвержденных контейнеров на обочине-рано или поздно"
   ]
  },
  {
   "cell_type": "code",
   "execution_count": 16,
   "metadata": {},
   "outputs": [
    {
     "data": {
      "text/plain": [
       "0.0     9383\n",
       "25.0     587\n",
       "5.0      154\n",
       "10.0     139\n",
       "20.0     110\n",
       "Name: discount_amount, dtype: int64"
      ]
     },
     "execution_count": 16,
     "metadata": {},
     "output_type": "execute_result"
    }
   ],
   "source": [
    "train_paid['discount_amount'].value_counts().head()"
   ]
  },
  {
   "cell_type": "code",
   "execution_count": 17,
   "metadata": {},
   "outputs": [
    {
     "data": {
      "text/plain": [
       "0.0     133985\n",
       "25.0        17\n",
       "10.0        14\n",
       "20.0        13\n",
       "5.0          8\n",
       "Name: discount_amount, dtype: int64"
      ]
     },
     "execution_count": 17,
     "metadata": {},
     "output_type": "execute_result"
    }
   ],
   "source": [
    "train_not_paid['discount_amount'].value_counts().head()"
   ]
  },
  {
   "cell_type": "markdown",
   "metadata": {},
   "source": [
    "Интересно, что среди тех, кто не заплатил налог, очень маленьких процент людей получили скидку. Но я не думаю, что люди (компании) не платят налоги, потому что им не дали скидку. Особенность интересная, но не является показательной для определения платежеспособности"
   ]
  },
  {
   "cell_type": "code",
   "execution_count": 18,
   "metadata": {},
   "outputs": [
    {
     "name": "stdout",
     "output_type": "stream",
     "text": [
      "50\n",
      "0.0 11030.0\n"
     ]
    },
    {
     "data": {
      "image/png": "[encoded data removed]",
      "text/plain": [
       "<Figure size 432x288 with 1 Axes>"
      ]
     },
     "metadata": {
      "needs_background": "light"
     },
     "output_type": "display_data"
    }
   ],
   "source": [
    "print(train['judgment_amount'].nunique())\n",
    "print(train['judgment_amount'].min(), train['judgment_amount'].max())\n",
    "plt.hist(train['judgment_amount'], 50);"
   ]
  },
  {
   "cell_type": "code",
   "execution_count": 19,
   "metadata": {},
   "outputs": [
    {
     "data": {
      "image/png": "[encoded data removed]",
      "text/plain": [
       "<Figure size 720x504 with 2 Axes>"
      ]
     },
     "metadata": {
      "needs_background": "light"
     },
     "output_type": "display_data"
    }
   ],
   "source": [
    "plt.figure(figsize=(10,7))\n",
    "plt.subplot(2,1,1)\n",
    "plt.title('Общая сумма платежа тех, кто оплатил налог')\n",
    "plt.hist(train_paid['judgment_amount'],100);\n",
    "plt.subplot(2,1,2)\n",
    "plt.title('Общая сумма платежа тех, кто не оплатил налог')\n",
    "plt.hist(train_not_paid['judgment_amount'],100);"
   ]
  },
  {
   "cell_type": "markdown",
   "metadata": {},
   "source": [
    "Гитограммы показывают, что общая сумма платежей у обеих групп имеет максимальное распределение в диапазоне от 0 до 500 платежных единиц. Графики очень даже похожи друг на друга, т.е. среди налогонеплательщиков нет налогов с очень большой суммой, которую невозможно покрыть, хотя на второй гистаграмме есть очень маленький процент налогоплательщиков с суммой > 10.000"
   ]
  },
  {
   "cell_type": "code",
   "execution_count": 20,
   "metadata": {},
   "outputs": [
    {
     "data": {
      "text/plain": [
       "0.001447318357815892"
      ]
     },
     "execution_count": 20,
     "metadata": {},
     "output_type": "execute_result"
    }
   ],
   "source": [
    "# процент людей с налогом > 10 тыс\n",
    "train_not_paid[train_not_paid['judgment_amount'] > 10000].shape[0] / train_not_paid.shape[0]"
   ]
  },
  {
   "cell_type": "code",
   "execution_count": 21,
   "metadata": {},
   "outputs": [
    {
     "data": {
      "text/plain": [
       "Failure of owner to keep property, its sidewalks, or adjoining public property free from solid waste                                      185\n",
       "Failure of owner to keep property, its sidewalks, or adjoining public property free from medical or hazardous waste                         4\n",
       "Failure to remove, or cause to be removed, and properly dispose of solid waste before vacting priovate property or water                    2\n",
       "Dumping,  or deposting solid waste of five (5) cubic feet or more from any motor vehicle upon any public or private property or street      1\n",
       "Dumping, storing or depositing solid waste on any publicly-owned property, or private property or water, without a permit                   1\n",
       "Name: violation_description, dtype: int64"
      ]
     },
     "execution_count": 21,
     "metadata": {},
     "output_type": "execute_result"
    }
   ],
   "source": [
    "train_not_paid[train_not_paid['judgment_amount'] > 10000]['violation_description'].value_counts().head()"
   ]
  },
  {
   "cell_type": "markdown",
   "metadata": {},
   "source": [
    "Удивительно, но самая распространенная причина такой большой суммы налога - это неспособность владельца содержать имущество, тротуары или прилегающую общественную собственность без твердых отходов."
   ]
  },
  {
   "cell_type": "markdown",
   "metadata": {},
   "source": [
    "#### Explore additional information"
   ]
  },
  {
   "cell_type": "code",
   "execution_count": 22,
   "metadata": {},
   "outputs": [
    {
     "name": "stdout",
     "output_type": "stream",
     "text": [
      "2005-01-25 00:00:00 2017-01-25 00:00:00\n",
      "-7750.0 11030.0\n",
      "IN COLLECTION    32744\n",
      "Name: collection_status, dtype: int64\n"
     ]
    },
    {
     "data": {
      "text/plain": [
       "balance_due      -0.074192\n",
       "payment_amount    0.152199\n",
       "compliance        1.000000\n",
       "Name: compliance, dtype: float64"
      ]
     },
     "execution_count": 22,
     "metadata": {},
     "output_type": "execute_result"
    }
   ],
   "source": [
    "# payment_amount – размер оплаты\n",
    "# payment_date – дата оплаты\n",
    "# payment_status – статус оплаты по состоянию на 01/02/2017\n",
    "# balance_due – остаток штрафа\n",
    "# collection_status – флаг для платежей в процессе сбора\n",
    "# compliance_detail – краткое описание статуса целевой переменной\n",
    "additional_train_columns = ['payment_amount', 'payment_date', 'payment_status', 'balance_due',\n",
    "                            'collection_status', 'compliance_detail', 'compliance']\n",
    "print(train['payment_date'].min(), train['payment_date'].max())\n",
    "print(train['balance_due'].min(), train['balance_due'].max())\n",
    "print(train['collection_status'].value_counts())\n",
    "train[additional_train_columns].dropna().corr()['compliance'].dropna().sort_values()"
   ]
  },
  {
   "cell_type": "code",
   "execution_count": 23,
   "metadata": {},
   "outputs": [
    {
     "data": {
      "text/plain": [
       "((10487, 34), (134041, 34))"
      ]
     },
     "execution_count": 23,
     "metadata": {},
     "output_type": "execute_result"
    }
   ],
   "source": [
    "train_paid = train[train['compliance'] == 1]\n",
    "train_not_paid = train[train['compliance'] == 0]\n",
    "train_paid.shape, train_not_paid.shape"
   ]
  },
  {
   "cell_type": "code",
   "execution_count": 24,
   "metadata": {},
   "outputs": [
    {
     "data": {
      "text/plain": [
       "non-compliant by no payment                        116236\n",
       "not responsible by disposition                      79908\n",
       "non-compliant by late payment more than 1 month     17805\n",
       "compliant by late payment within 1 month             5665\n",
       "compliant by on-time payment                         3555\n",
       "compliant by early payment                            989\n",
       "not responsible by pending judgment disposition       564\n",
       "compliant by payment with no scheduled hearing        140\n",
       "compliant by no fine                                   69\n",
       "compliant by payment on unknown date                   69\n",
       "Name: compliance_detail, dtype: int64"
      ]
     },
     "execution_count": 24,
     "metadata": {},
     "output_type": "execute_result"
    }
   ],
   "source": [
    "# compliance_detail\n",
    "train['compliance_detail'].value_counts()"
   ]
  },
  {
   "cell_type": "code",
   "execution_count": 25,
   "metadata": {},
   "outputs": [
    {
     "data": {
      "text/plain": [
       "compliant by late payment within 1 month          5665\n",
       "compliant by on-time payment                      3555\n",
       "compliant by early payment                         989\n",
       "compliant by payment with no scheduled hearing     140\n",
       "compliant by payment on unknown date                69\n",
       "compliant by no fine                                69\n",
       "Name: compliance_detail, dtype: int64"
      ]
     },
     "execution_count": 25,
     "metadata": {},
     "output_type": "execute_result"
    }
   ],
   "source": [
    "train_paid['compliance_detail'].value_counts()"
   ]
  },
  {
   "cell_type": "code",
   "execution_count": 26,
   "metadata": {},
   "outputs": [
    {
     "data": {
      "text/plain": [
       "non-compliant by no payment                        116236\n",
       "non-compliant by late payment more than 1 month     17805\n",
       "Name: compliance_detail, dtype: int64"
      ]
     },
     "execution_count": 26,
     "metadata": {},
     "output_type": "execute_result"
    }
   ],
   "source": [
    "train_not_paid['compliance_detail'].value_counts().head()"
   ]
  },
  {
   "cell_type": "markdown",
   "metadata": {},
   "source": [
    "Интересный флаг **'compliance_detail'**, который дает знать о характере оплаты человека, о том, как стабильно проводятся выплаты.\n",
    "Этот флаг имеется у всех записей в датасет, и мог бы стать важным признаком определения платежеспособности."
   ]
  },
  {
   "cell_type": "code",
   "execution_count": 27,
   "metadata": {},
   "outputs": [
    {
     "data": {
      "text/plain": [
       "NO PAYMENT APPLIED         186862\n",
       "PAID IN FULL                29591\n",
       "PARTIAL PAYMENT APPLIED      8547\n",
       "Name: payment_status, dtype: int64"
      ]
     },
     "execution_count": 27,
     "metadata": {},
     "output_type": "execute_result"
    }
   ],
   "source": [
    "# payment_status\n",
    "train['payment_status'].value_counts()"
   ]
  },
  {
   "cell_type": "code",
   "execution_count": 28,
   "metadata": {},
   "outputs": [
    {
     "data": {
      "text/plain": [
       "PAID IN FULL          10420\n",
       "NO PAYMENT APPLIED       67\n",
       "Name: payment_status, dtype: int64"
      ]
     },
     "execution_count": 28,
     "metadata": {},
     "output_type": "execute_result"
    }
   ],
   "source": [
    "train_paid['payment_status'].value_counts()"
   ]
  },
  {
   "cell_type": "code",
   "execution_count": 29,
   "metadata": {},
   "outputs": [
    {
     "data": {
      "text/plain": [
       "NO PAYMENT APPLIED         107689\n",
       "PAID IN FULL                17805\n",
       "PARTIAL PAYMENT APPLIED      8547\n",
       "Name: payment_status, dtype: int64"
      ]
     },
     "execution_count": 29,
     "metadata": {},
     "output_type": "execute_result"
    }
   ],
   "source": [
    "train_not_paid['payment_status'].value_counts()"
   ]
  },
  {
   "cell_type": "markdown",
   "metadata": {},
   "source": [
    "Признак **'paymnet_status'** также бы являлся одним из определяющих признаков платежеспособности"
   ]
  },
  {
   "cell_type": "code",
   "execution_count": 30,
   "metadata": {},
   "outputs": [
    {
     "name": "stdout",
     "output_type": "stream",
     "text": [
      "582\n",
      "-7750.0 11030.0 25.0\n"
     ]
    },
    {
     "data": {
      "image/png": "[encoded data removed]",
      "text/plain": [
       "<Figure size 432x288 with 1 Axes>"
      ]
     },
     "metadata": {
      "needs_background": "light"
     },
     "output_type": "display_data"
    }
   ],
   "source": [
    "# balance_due\n",
    "print(train['balance_due'].nunique())\n",
    "print(train['balance_due'].min(), train['balance_due'].max(), train['balance_due'].median())\n",
    "plt.hist(train['balance_due'], 10);"
   ]
  },
  {
   "cell_type": "code",
   "execution_count": 31,
   "metadata": {},
   "outputs": [
    {
     "data": {
      "image/png": "[encoded data removed]",
      "text/plain": [
       "<Figure size 720x504 with 2 Axes>"
      ]
     },
     "metadata": {
      "needs_background": "light"
     },
     "output_type": "display_data"
    }
   ],
   "source": [
    "plt.figure(figsize=(10,7))\n",
    "plt.subplot(2,1,1)\n",
    "plt.title('Balance due оплативших налог')\n",
    "plt.hist(train_paid['balance_due'],50);\n",
    "plt.subplot(2,1,2)\n",
    "plt.title('Balance due неоплативших налог')\n",
    "plt.hist(train_not_paid['balance_due'],50);"
   ]
  },
  {
   "cell_type": "code",
   "execution_count": 32,
   "metadata": {},
   "outputs": [
    {
     "name": "stdout",
     "output_type": "stream",
     "text": [
      "511\n",
      "0.0 11075.0\n"
     ]
    },
    {
     "data": {
      "image/png": "[encoded data removed]",
      "text/plain": [
       "<Figure size 432x288 with 1 Axes>"
      ]
     },
     "metadata": {
      "needs_background": "light"
     },
     "output_type": "display_data"
    }
   ],
   "source": [
    "# payment_amount\n",
    "print(train['payment_amount'].nunique())\n",
    "print(train['payment_amount'].min(), train['payment_amount'].max())\n",
    "plt.hist(train['payment_amount'], 20);"
   ]
  },
  {
   "cell_type": "code",
   "execution_count": 33,
   "metadata": {},
   "outputs": [
    {
     "data": {
      "image/png": "[encoded data removed]",
      "text/plain": [
       "<Figure size 720x504 with 2 Axes>"
      ]
     },
     "metadata": {
      "needs_background": "light"
     },
     "output_type": "display_data"
    }
   ],
   "source": [
    "plt.figure(figsize=(10,7))\n",
    "plt.subplot(2,1,1)\n",
    "plt.title('Payment amount оплативших налог')\n",
    "plt.hist(train_paid['payment_amount'],100);\n",
    "plt.subplot(2,1,2)\n",
    "plt.title('Payment amount неоплативших налог')\n",
    "plt.hist(train_not_paid['payment_amount'],100);"
   ]
  },
  {
   "cell_type": "markdown",
   "metadata": {},
   "source": [
    "Теперь посмотрим разницу между общей суммой платежа и оплаченной суммой"
   ]
  },
  {
   "cell_type": "code",
   "execution_count": 34,
   "metadata": {},
   "outputs": [],
   "source": [
    "data_columns = ['ticket_issued_date', 'compliance']\n",
    "data = pd.DataFrame()\n",
    "data['difference_amount'] = train['judgment_amount'] - train['payment_amount']\n",
    "data[data_columns] = train[data_columns]\n",
    "data_paid = data[data['compliance'] == 1]\n",
    "data_not_paid = data[data['compliance'] == 0]"
   ]
  },
  {
   "cell_type": "code",
   "execution_count": 35,
   "metadata": {},
   "outputs": [
    {
     "data": {
      "image/png": "[encoded data removed]",
      "text/plain": [
       "<Figure size 720x504 with 2 Axes>"
      ]
     },
     "metadata": {
      "needs_background": "light"
     },
     "output_type": "display_data"
    }
   ],
   "source": [
    "plt.figure(figsize=(10,7))\n",
    "plt.subplot(2,1,1)\n",
    "plt.title('Разница между общей суммой платежа и оплаченной суммой у оплативших налог')\n",
    "plt.hist(data_paid['difference_amount'],100);\n",
    "plt.subplot(2,1,2)\n",
    "plt.title('Разница между общей суммой платежа и оплаченной суммой у неоплативших налог')\n",
    "plt.hist(data_not_paid['difference_amount'],100);"
   ]
  },
  {
   "cell_type": "markdown",
   "metadata": {},
   "source": [
    "Что и следовало ожидать: учитывая графики общей суммы платежа и оплаченной суммой, у оплативших налог разница между этими двумя суммами стремится к нулю, в то время как у неоплативших налог, такая тенденция не проявляется"
   ]
  },
  {
   "cell_type": "code",
   "execution_count": 36,
   "metadata": {},
   "outputs": [
    {
     "name": "stdout",
     "output_type": "stream",
     "text": [
      "2203\n",
      "2005-01-25 00:00:00 2017-01-25 00:00:00\n"
     ]
    }
   ],
   "source": [
    "# payment_date\n",
    "print(train['payment_date'].nunique())\n",
    "print(train['payment_date'].min(), train['payment_date'].max())"
   ]
  },
  {
   "cell_type": "code",
   "execution_count": 37,
   "metadata": {},
   "outputs": [],
   "source": [
    "data_paid['duration_paymnet_days'] = (train_paid['payment_date'] - data_paid['ticket_issued_date']).apply(lambda x: x.days)\n",
    "data_not_paid['duration_paymnet_days'] = (train_not_paid['payment_date'] - \\\n",
    "                                          data_not_paid['ticket_issued_date']).apply(lambda x: x.days)"
   ]
  },
  {
   "cell_type": "code",
   "execution_count": 38,
   "metadata": {},
   "outputs": [
    {
     "data": {
      "text/plain": [
       "(56.0, 181.0)"
      ]
     },
     "execution_count": 38,
     "metadata": {},
     "output_type": "execute_result"
    }
   ],
   "source": [
    "# медианы длительности от выписки штрафа до её оплаты для двух категорий налогоплательщиков\n",
    "data_paid['duration_paymnet_days'].median(), data_not_paid['duration_paymnet_days'].median()"
   ]
  },
  {
   "cell_type": "code",
   "execution_count": 39,
   "metadata": {},
   "outputs": [
    {
     "name": "stdout",
     "output_type": "stream",
     "text": [
      "Unique values :    1\n",
      "IN COLLECTION    115\n",
      "Name: collection_status, dtype: int64\n",
      "IN COLLECTION    32629\n",
      "Name: collection_status, dtype: int64\n",
      "(10487, 34) (134041, 34)\n"
     ]
    }
   ],
   "source": [
    "# collection_status\n",
    "print('Unique values :    ' + str(train_paid['collection_status'].nunique()))\n",
    "print(train_paid['collection_status'].value_counts())\n",
    "print(train_not_paid['collection_status'].value_counts())\n",
    "print(train_paid.shape, train_not_paid.shape)"
   ]
  },
  {
   "cell_type": "markdown",
   "metadata": {},
   "source": [
    "Далеко неочевидный признак всего с одним уникальным значением, у которого большая часть значений неопределена"
   ]
  },
  {
   "cell_type": "markdown",
   "metadata": {},
   "source": [
    "### Preprocess data"
   ]
  },
  {
   "cell_type": "markdown",
   "metadata": {},
   "source": [
    "#### Missing values"
   ]
  },
  {
   "cell_type": "code",
   "execution_count": 40,
   "metadata": {},
   "outputs": [],
   "source": [
    "def missing_values(file):\n",
    "    sum_miss_val = file.isnull().sum()\n",
    "    percent_miss_val = sum_miss_val * 100 / len(file)\n",
    "    miss_val_table = pd.concat([sum_miss_val, percent_miss_val], axis = 1)\n",
    "    miss_val_table = miss_val_table.rename(columns = {0 : 'Missing values', \n",
    "                                                      1 : '% of Total values'})\n",
    "    miss_val_table = miss_val_table[miss_val_table.iloc[:,1] != 0].sort_values(\n",
    "        '% of Total values', ascending=False).round(1)\n",
    "    return miss_val_table"
   ]
  },
  {
   "cell_type": "code",
   "execution_count": 41,
   "metadata": {},
   "outputs": [
    {
     "data": {
      "text/html": [
       "<div>\n",
       "<style scoped>\n",
       "    .dataframe tbody tr th:only-of-type {\n",
       "        vertical-align: middle;\n",
       "    }\n",
       "\n",
       "    .dataframe tbody tr th {\n",
       "        vertical-align: top;\n",
       "    }\n",
       "\n",
       "    .dataframe thead th {\n",
       "        text-align: right;\n",
       "    }\n",
       "</style>\n",
       "<table border=\"1\" class=\"dataframe\">\n",
       "  <thead>\n",
       "    <tr style=\"text-align: right;\">\n",
       "      <th></th>\n",
       "      <th>Missing values</th>\n",
       "      <th>% of Total values</th>\n",
       "    </tr>\n",
       "  </thead>\n",
       "  <tbody>\n",
       "    <tr>\n",
       "      <th>violation_zip_code</th>\n",
       "      <td>225000</td>\n",
       "      <td>100.0</td>\n",
       "    </tr>\n",
       "    <tr>\n",
       "      <th>grafitti_status</th>\n",
       "      <td>225000</td>\n",
       "      <td>100.0</td>\n",
       "    </tr>\n",
       "    <tr>\n",
       "      <th>non_us_str_code</th>\n",
       "      <td>224999</td>\n",
       "      <td>100.0</td>\n",
       "    </tr>\n",
       "    <tr>\n",
       "      <th>collection_status</th>\n",
       "      <td>192256</td>\n",
       "      <td>85.4</td>\n",
       "    </tr>\n",
       "    <tr>\n",
       "      <th>payment_date</th>\n",
       "      <td>186862</td>\n",
       "      <td>83.0</td>\n",
       "    </tr>\n",
       "    <tr>\n",
       "      <th>compliance</th>\n",
       "      <td>80472</td>\n",
       "      <td>35.8</td>\n",
       "    </tr>\n",
       "    <tr>\n",
       "      <th>hearing_date</th>\n",
       "      <td>10896</td>\n",
       "      <td>4.8</td>\n",
       "    </tr>\n",
       "    <tr>\n",
       "      <th>mailing_address_str_number</th>\n",
       "      <td>2895</td>\n",
       "      <td>1.3</td>\n",
       "    </tr>\n",
       "    <tr>\n",
       "      <th>violator_name</th>\n",
       "      <td>31</td>\n",
       "      <td>0.0</td>\n",
       "    </tr>\n",
       "    <tr>\n",
       "      <th>state</th>\n",
       "      <td>21</td>\n",
       "      <td>0.0</td>\n",
       "    </tr>\n",
       "    <tr>\n",
       "      <th>mailing_address_str_name</th>\n",
       "      <td>4</td>\n",
       "      <td>0.0</td>\n",
       "    </tr>\n",
       "    <tr>\n",
       "      <th>zip_code</th>\n",
       "      <td>1</td>\n",
       "      <td>0.0</td>\n",
       "    </tr>\n",
       "    <tr>\n",
       "      <th>fine_amount</th>\n",
       "      <td>1</td>\n",
       "      <td>0.0</td>\n",
       "    </tr>\n",
       "  </tbody>\n",
       "</table>\n",
       "</div>"
      ],
      "text/plain": [
       "                            Missing values  % of Total values\n",
       "violation_zip_code                  225000              100.0\n",
       "grafitti_status                     225000              100.0\n",
       "non_us_str_code                     224999              100.0\n",
       "collection_status                   192256               85.4\n",
       "payment_date                        186862               83.0\n",
       "compliance                           80472               35.8\n",
       "hearing_date                         10896                4.8\n",
       "mailing_address_str_number            2895                1.3\n",
       "violator_name                           31                0.0\n",
       "state                                   21                0.0\n",
       "mailing_address_str_name                 4                0.0\n",
       "zip_code                                 1                0.0\n",
       "fine_amount                              1                0.0"
      ]
     },
     "execution_count": 41,
     "metadata": {},
     "output_type": "execute_result"
    }
   ],
   "source": [
    "missing_values(train)"
   ]
  },
  {
   "cell_type": "code",
   "execution_count": 42,
   "metadata": {},
   "outputs": [
    {
     "data": {
      "text/html": [
       "<div>\n",
       "<style scoped>\n",
       "    .dataframe tbody tr th:only-of-type {\n",
       "        vertical-align: middle;\n",
       "    }\n",
       "\n",
       "    .dataframe tbody tr th {\n",
       "        vertical-align: top;\n",
       "    }\n",
       "\n",
       "    .dataframe thead th {\n",
       "        text-align: right;\n",
       "    }\n",
       "</style>\n",
       "<table border=\"1\" class=\"dataframe\">\n",
       "  <thead>\n",
       "    <tr style=\"text-align: right;\">\n",
       "      <th></th>\n",
       "      <th>Missing values</th>\n",
       "      <th>% of Total values</th>\n",
       "    </tr>\n",
       "  </thead>\n",
       "  <tbody>\n",
       "    <tr>\n",
       "      <th>violation_zip_code</th>\n",
       "      <td>25305</td>\n",
       "      <td>100.0</td>\n",
       "    </tr>\n",
       "    <tr>\n",
       "      <th>grafitti_status</th>\n",
       "      <td>25304</td>\n",
       "      <td>100.0</td>\n",
       "    </tr>\n",
       "    <tr>\n",
       "      <th>non_us_str_code</th>\n",
       "      <td>25303</td>\n",
       "      <td>100.0</td>\n",
       "    </tr>\n",
       "    <tr>\n",
       "      <th>hearing_date</th>\n",
       "      <td>1595</td>\n",
       "      <td>6.3</td>\n",
       "    </tr>\n",
       "    <tr>\n",
       "      <th>mailing_address_str_number</th>\n",
       "      <td>707</td>\n",
       "      <td>2.8</td>\n",
       "    </tr>\n",
       "    <tr>\n",
       "      <th>state</th>\n",
       "      <td>72</td>\n",
       "      <td>0.3</td>\n",
       "    </tr>\n",
       "    <tr>\n",
       "      <th>violator_name</th>\n",
       "      <td>3</td>\n",
       "      <td>0.0</td>\n",
       "    </tr>\n",
       "  </tbody>\n",
       "</table>\n",
       "</div>"
      ],
      "text/plain": [
       "                            Missing values  % of Total values\n",
       "violation_zip_code                   25305              100.0\n",
       "grafitti_status                      25304              100.0\n",
       "non_us_str_code                      25303              100.0\n",
       "hearing_date                          1595                6.3\n",
       "mailing_address_str_number             707                2.8\n",
       "state                                   72                0.3\n",
       "violator_name                            3                0.0"
      ]
     },
     "execution_count": 42,
     "metadata": {},
     "output_type": "execute_result"
    }
   ],
   "source": [
    "missing_values(test)"
   ]
  },
  {
   "cell_type": "code",
   "execution_count": 43,
   "metadata": {},
   "outputs": [],
   "source": [
    "# признаки, где нет ни одногой записи со значением\n",
    "only_missing_columns = ['violation_zip_code', 'grafitti_status', 'non_us_str_code']\n",
    "\n",
    "# признаки, которые есть только в train.csv, но нет в test.csv \n",
    "additional_train_columns = ['payment_amount', 'payment_date', 'payment_status', 'balance_due', 'collection_status',\n",
    "                            'compliance_detail']\n",
    "\n",
    "train.drop(columns= only_missing_columns,axis = 1, inplace = True)\n",
    "train.dropna(subset = ['compliance'], inplace = True)\n",
    "train.drop(columns= additional_train_columns,axis = 1, inplace = True)\n",
    "\n",
    "test.drop(columns= only_missing_columns,axis = 1, inplace = True)"
   ]
  },
  {
   "cell_type": "code",
   "execution_count": 44,
   "metadata": {},
   "outputs": [
    {
     "data": {
      "text/html": [
       "<div>\n",
       "<style scoped>\n",
       "    .dataframe tbody tr th:only-of-type {\n",
       "        vertical-align: middle;\n",
       "    }\n",
       "\n",
       "    .dataframe tbody tr th {\n",
       "        vertical-align: top;\n",
       "    }\n",
       "\n",
       "    .dataframe thead th {\n",
       "        text-align: right;\n",
       "    }\n",
       "</style>\n",
       "<table border=\"1\" class=\"dataframe\">\n",
       "  <thead>\n",
       "    <tr style=\"text-align: right;\">\n",
       "      <th></th>\n",
       "      <th>Missing values</th>\n",
       "      <th>% of Total values</th>\n",
       "    </tr>\n",
       "  </thead>\n",
       "  <tbody>\n",
       "    <tr>\n",
       "      <th>mailing_address_str_number</th>\n",
       "      <td>2108</td>\n",
       "      <td>1.5</td>\n",
       "    </tr>\n",
       "    <tr>\n",
       "      <th>hearing_date</th>\n",
       "      <td>190</td>\n",
       "      <td>0.1</td>\n",
       "    </tr>\n",
       "    <tr>\n",
       "      <th>violator_name</th>\n",
       "      <td>24</td>\n",
       "      <td>0.0</td>\n",
       "    </tr>\n",
       "    <tr>\n",
       "      <th>state</th>\n",
       "      <td>19</td>\n",
       "      <td>0.0</td>\n",
       "    </tr>\n",
       "    <tr>\n",
       "      <th>mailing_address_str_name</th>\n",
       "      <td>3</td>\n",
       "      <td>0.0</td>\n",
       "    </tr>\n",
       "    <tr>\n",
       "      <th>zip_code</th>\n",
       "      <td>1</td>\n",
       "      <td>0.0</td>\n",
       "    </tr>\n",
       "  </tbody>\n",
       "</table>\n",
       "</div>"
      ],
      "text/plain": [
       "                            Missing values  % of Total values\n",
       "mailing_address_str_number            2108                1.5\n",
       "hearing_date                           190                0.1\n",
       "violator_name                           24                0.0\n",
       "state                                   19                0.0\n",
       "mailing_address_str_name                 3                0.0\n",
       "zip_code                                 1                0.0"
      ]
     },
     "execution_count": 44,
     "metadata": {},
     "output_type": "execute_result"
    }
   ],
   "source": [
    "missing_values(train)"
   ]
  },
  {
   "cell_type": "code",
   "execution_count": 45,
   "metadata": {},
   "outputs": [
    {
     "data": {
      "text/html": [
       "<div>\n",
       "<style scoped>\n",
       "    .dataframe tbody tr th:only-of-type {\n",
       "        vertical-align: middle;\n",
       "    }\n",
       "\n",
       "    .dataframe tbody tr th {\n",
       "        vertical-align: top;\n",
       "    }\n",
       "\n",
       "    .dataframe thead th {\n",
       "        text-align: right;\n",
       "    }\n",
       "</style>\n",
       "<table border=\"1\" class=\"dataframe\">\n",
       "  <thead>\n",
       "    <tr style=\"text-align: right;\">\n",
       "      <th></th>\n",
       "      <th>Missing values</th>\n",
       "      <th>% of Total values</th>\n",
       "    </tr>\n",
       "  </thead>\n",
       "  <tbody>\n",
       "    <tr>\n",
       "      <th>hearing_date</th>\n",
       "      <td>1595</td>\n",
       "      <td>6.3</td>\n",
       "    </tr>\n",
       "    <tr>\n",
       "      <th>mailing_address_str_number</th>\n",
       "      <td>707</td>\n",
       "      <td>2.8</td>\n",
       "    </tr>\n",
       "    <tr>\n",
       "      <th>state</th>\n",
       "      <td>72</td>\n",
       "      <td>0.3</td>\n",
       "    </tr>\n",
       "    <tr>\n",
       "      <th>violator_name</th>\n",
       "      <td>3</td>\n",
       "      <td>0.0</td>\n",
       "    </tr>\n",
       "  </tbody>\n",
       "</table>\n",
       "</div>"
      ],
      "text/plain": [
       "                            Missing values  % of Total values\n",
       "hearing_date                          1595                6.3\n",
       "mailing_address_str_number             707                2.8\n",
       "state                                   72                0.3\n",
       "violator_name                            3                0.0"
      ]
     },
     "execution_count": 45,
     "metadata": {},
     "output_type": "execute_result"
    }
   ],
   "source": [
    "missing_values(test)"
   ]
  },
  {
   "cell_type": "code",
   "execution_count": 46,
   "metadata": {},
   "outputs": [
    {
     "data": {
      "text/plain": [
       "((144528, 25), (25305, 24))"
      ]
     },
     "execution_count": 46,
     "metadata": {},
     "output_type": "execute_result"
    }
   ],
   "source": [
    "# Размерность датасетов после удаления записей с 'compliance' = NaN\n",
    "train.shape, test.shape"
   ]
  },
  {
   "cell_type": "code",
   "execution_count": 47,
   "metadata": {},
   "outputs": [
    {
     "name": "stdout",
     "output_type": "stream",
     "text": [
      "2005-12-20 09:00:00    590\n",
      "Name: hearing_date, dtype: int64\n",
      "2011-03-07 13:30:00    99\n",
      "Name: hearing_date, dtype: int64\n",
      "213.0    1481\n",
      "Name: mailing_address_str_number, dtype: int64\n",
      "1.0    214\n",
      "Name: mailing_address_str_number, dtype: int64\n",
      "MI    130681\n",
      "Name: state, dtype: int64\n",
      "MI    22186\n",
      "Name: state, dtype: int64\n",
      "INVESTMENT, ACORN    618\n",
      "Name: violator_name, dtype: int64\n",
      "FARWELL, WILLIAM B    100\n",
      "Name: violator_name, dtype: int64\n",
      "PO BOX    5614\n",
      "Name: mailing_address_str_name, dtype: int64\n",
      "48221    4030\n",
      "Name: zip_code, dtype: int64\n"
     ]
    }
   ],
   "source": [
    "# Теперь найдем самый популярное значение в каждом признаке, чтобы заменить им пропущенные значения\n",
    "columns_miss_values = ['hearing_date', 'mailing_address_str_number', 'state', 'violator_name']\n",
    "columns_miss_values_left = ['mailing_address_str_name', 'zip_code']\n",
    "\n",
    "for col in columns_miss_values:\n",
    "    print(train[col].value_counts().head(1))\n",
    "    print(test[col].value_counts().head(1))\n",
    "\n",
    "for col in columns_miss_values_left:\n",
    "    print(train[col].value_counts().head(1))"
   ]
  },
  {
   "cell_type": "code",
   "execution_count": 48,
   "metadata": {},
   "outputs": [],
   "source": [
    "train['hearing_date'].fillna('2005-12-20 09:00:00', inplace = True)\n",
    "train['mailing_address_str_number'].fillna('213.0', inplace = True)\n",
    "train['state'].fillna('MI', inplace = True)\n",
    "train['violator_name'].fillna('INVESTMENT, ACORN', inplace = True)\n",
    "\n",
    "test['hearing_date'].fillna('2011-03-07 13:30:00', inplace = True)\n",
    "test['mailing_address_str_number'].fillna('1.0', inplace = True)\n",
    "test['state'].fillna('MI', inplace = True)\n",
    "test['violator_name'].fillna('FARWELL, WILLIAM B', inplace = True)"
   ]
  },
  {
   "cell_type": "code",
   "execution_count": 49,
   "metadata": {},
   "outputs": [],
   "source": [
    "train['mailing_address_str_name'].fillna('PO BOX', inplace = True)\n",
    "train['zip_code'].fillna('48221', inplace = True)"
   ]
  },
  {
   "cell_type": "code",
   "execution_count": 50,
   "metadata": {},
   "outputs": [
    {
     "data": {
      "text/html": [
       "<div>\n",
       "<style scoped>\n",
       "    .dataframe tbody tr th:only-of-type {\n",
       "        vertical-align: middle;\n",
       "    }\n",
       "\n",
       "    .dataframe tbody tr th {\n",
       "        vertical-align: top;\n",
       "    }\n",
       "\n",
       "    .dataframe thead th {\n",
       "        text-align: right;\n",
       "    }\n",
       "</style>\n",
       "<table border=\"1\" class=\"dataframe\">\n",
       "  <thead>\n",
       "    <tr style=\"text-align: right;\">\n",
       "      <th></th>\n",
       "      <th>Missing values</th>\n",
       "      <th>% of Total values</th>\n",
       "    </tr>\n",
       "  </thead>\n",
       "  <tbody>\n",
       "  </tbody>\n",
       "</table>\n",
       "</div>"
      ],
      "text/plain": [
       "Empty DataFrame\n",
       "Columns: [Missing values, % of Total values]\n",
       "Index: []"
      ]
     },
     "execution_count": 50,
     "metadata": {},
     "output_type": "execute_result"
    }
   ],
   "source": [
    "missing_values(train)"
   ]
  },
  {
   "cell_type": "code",
   "execution_count": 51,
   "metadata": {},
   "outputs": [
    {
     "data": {
      "text/html": [
       "<div>\n",
       "<style scoped>\n",
       "    .dataframe tbody tr th:only-of-type {\n",
       "        vertical-align: middle;\n",
       "    }\n",
       "\n",
       "    .dataframe tbody tr th {\n",
       "        vertical-align: top;\n",
       "    }\n",
       "\n",
       "    .dataframe thead th {\n",
       "        text-align: right;\n",
       "    }\n",
       "</style>\n",
       "<table border=\"1\" class=\"dataframe\">\n",
       "  <thead>\n",
       "    <tr style=\"text-align: right;\">\n",
       "      <th></th>\n",
       "      <th>Missing values</th>\n",
       "      <th>% of Total values</th>\n",
       "    </tr>\n",
       "  </thead>\n",
       "  <tbody>\n",
       "  </tbody>\n",
       "</table>\n",
       "</div>"
      ],
      "text/plain": [
       "Empty DataFrame\n",
       "Columns: [Missing values, % of Total values]\n",
       "Index: []"
      ]
     },
     "execution_count": 51,
     "metadata": {},
     "output_type": "execute_result"
    }
   ],
   "source": [
    "missing_values(test)"
   ]
  },
  {
   "cell_type": "code",
   "execution_count": 52,
   "metadata": {},
   "outputs": [
    {
     "data": {
      "text/plain": [
       "((144528, 25), (25305, 24))"
      ]
     },
     "execution_count": 52,
     "metadata": {},
     "output_type": "execute_result"
    }
   ],
   "source": [
    "# Важно, что размерность после преобразования пропущенных значений не была изменена\n",
    "train.shape, test.shape"
   ]
  },
  {
   "cell_type": "code",
   "execution_count": 53,
   "metadata": {},
   "outputs": [
    {
     "data": {
      "text/plain": [
       "0.0    144528\n",
       "Name: clean_up_cost, dtype: int64"
      ]
     },
     "execution_count": 53,
     "metadata": {},
     "output_type": "execute_result"
    }
   ],
   "source": [
    "# Признак стоимости удаления граффити со стены полностью содержит значению из нулей, что не несет никакой информации\n",
    "# Поэтому и его удалим из train.csv и test.csv\n",
    "train['clean_up_cost'].value_counts()"
   ]
  },
  {
   "cell_type": "code",
   "execution_count": 54,
   "metadata": {},
   "outputs": [
    {
     "data": {
      "text/plain": [
       "10.0    144528\n",
       "Name: state_fee, dtype: int64"
      ]
     },
     "execution_count": 54,
     "metadata": {},
     "output_type": "execute_result"
    }
   ],
   "source": [
    "# Аналогично и с государственной составляющий налога\n",
    "train['state_fee'].value_counts()"
   ]
  },
  {
   "cell_type": "code",
   "execution_count": 55,
   "metadata": {},
   "outputs": [],
   "source": [
    "const_columns_drop = ['clean_up_cost', 'state_fee']\n",
    "train.drop(columns= const_columns_drop,axis = 1, inplace = True)\n",
    "test.drop(columns= const_columns_drop,axis = 1, inplace = True)"
   ]
  },
  {
   "cell_type": "code",
   "execution_count": 56,
   "metadata": {},
   "outputs": [
    {
     "data": {
      "text/plain": [
       "((144528, 23), (25305, 22))"
      ]
     },
     "execution_count": 56,
     "metadata": {},
     "output_type": "execute_result"
    }
   ],
   "source": [
    "train.shape, test.shape"
   ]
  },
  {
   "cell_type": "code",
   "execution_count": 57,
   "metadata": {},
   "outputs": [
    {
     "data": {
      "text/plain": [
       "Index(['ticket_id', 'agency_name', 'inspector_name', 'violator_name',\n",
       "       'violation_street_number', 'violation_street_name',\n",
       "       'mailing_address_str_number', 'mailing_address_str_name', 'city',\n",
       "       'state', 'zip_code', 'country', 'ticket_issued_date', 'hearing_date',\n",
       "       'violation_code', 'violation_description', 'disposition', 'fine_amount',\n",
       "       'admin_fee', 'late_fee', 'discount_amount', 'judgment_amount',\n",
       "       'compliance'],\n",
       "      dtype='object')"
      ]
     },
     "execution_count": 57,
     "metadata": {},
     "output_type": "execute_result"
    }
   ],
   "source": [
    "train.columns"
   ]
  },
  {
   "cell_type": "code",
   "execution_count": 58,
   "metadata": {},
   "outputs": [],
   "source": [
    "y_train = train['compliance']"
   ]
  },
  {
   "cell_type": "markdown",
   "metadata": {},
   "source": [
    "#### Numerical features scaling"
   ]
  },
  {
   "cell_type": "code",
   "execution_count": 59,
   "metadata": {},
   "outputs": [
    {
     "name": "stdout",
     "output_type": "stream",
     "text": [
      "<class 'pandas.core.frame.DataFrame'>\n",
      "Int64Index: 144528 entries, 0 to 224999\n",
      "Data columns (total 23 columns):\n",
      "ticket_id                     144528 non-null int64\n",
      "agency_name                   144528 non-null object\n",
      "inspector_name                144528 non-null object\n",
      "violator_name                 144528 non-null object\n",
      "violation_street_number       144528 non-null float64\n",
      "violation_street_name         144528 non-null object\n",
      "mailing_address_str_number    144528 non-null object\n",
      "mailing_address_str_name      144528 non-null object\n",
      "city                          144528 non-null object\n",
      "state                         144528 non-null object\n",
      "zip_code                      144528 non-null object\n",
      "country                       144528 non-null object\n",
      "ticket_issued_date            144528 non-null datetime64[ns]\n",
      "hearing_date                  144528 non-null object\n",
      "violation_code                144528 non-null object\n",
      "violation_description         144528 non-null object\n",
      "disposition                   144528 non-null object\n",
      "fine_amount                   144528 non-null float64\n",
      "admin_fee                     144528 non-null float64\n",
      "late_fee                      144528 non-null float64\n",
      "discount_amount               144528 non-null float64\n",
      "judgment_amount               144528 non-null float64\n",
      "compliance                    144528 non-null float64\n",
      "dtypes: datetime64[ns](1), float64(7), int64(1), object(14)\n",
      "memory usage: 26.5+ MB\n"
     ]
    }
   ],
   "source": [
    "train.info()"
   ]
  },
  {
   "cell_type": "code",
   "execution_count": 60,
   "metadata": {},
   "outputs": [],
   "source": [
    "train['mailing_address_str_number'] = train['mailing_address_str_number'].astype('float64');\n",
    "test['mailing_address_str_number'] = test['mailing_address_str_number'].astype('float64');\n",
    "train['hearing_date'] = train['hearing_date'].astype('datetime64');\n",
    "test['hearing_date'] = test['hearing_date'].astype('datetime64');"
   ]
  },
  {
   "cell_type": "code",
   "execution_count": 61,
   "metadata": {},
   "outputs": [
    {
     "name": "stdout",
     "output_type": "stream",
     "text": [
      "<class 'pandas.core.frame.DataFrame'>\n",
      "Int64Index: 144528 entries, 0 to 224999\n",
      "Data columns (total 23 columns):\n",
      "ticket_id                     144528 non-null int64\n",
      "agency_name                   144528 non-null object\n",
      "inspector_name                144528 non-null object\n",
      "violator_name                 144528 non-null object\n",
      "violation_street_number       144528 non-null float64\n",
      "violation_street_name         144528 non-null object\n",
      "mailing_address_str_number    144528 non-null float64\n",
      "mailing_address_str_name      144528 non-null object\n",
      "city                          144528 non-null object\n",
      "state                         144528 non-null object\n",
      "zip_code                      144528 non-null object\n",
      "country                       144528 non-null object\n",
      "ticket_issued_date            144528 non-null datetime64[ns]\n",
      "hearing_date                  144528 non-null datetime64[ns]\n",
      "violation_code                144528 non-null object\n",
      "violation_description         144528 non-null object\n",
      "disposition                   144528 non-null object\n",
      "fine_amount                   144528 non-null float64\n",
      "admin_fee                     144528 non-null float64\n",
      "late_fee                      144528 non-null float64\n",
      "discount_amount               144528 non-null float64\n",
      "judgment_amount               144528 non-null float64\n",
      "compliance                    144528 non-null float64\n",
      "dtypes: datetime64[ns](2), float64(8), int64(1), object(12)\n",
      "memory usage: 26.5+ MB\n"
     ]
    }
   ],
   "source": [
    "train.info()"
   ]
  },
  {
   "cell_type": "code",
   "execution_count": 62,
   "metadata": {},
   "outputs": [],
   "source": [
    "# Создадим наборы данных, содержащих только численные значения для удобства исследования и предобработки\n",
    "train_num = train.select_dtypes('float64')\n",
    "test_num = test.select_dtypes('float64')\n",
    "\n",
    "num_df = pd.concat([train_num.drop('compliance', axis = 1), test_num])\n",
    "index_split_num = train_num.shape[0]"
   ]
  },
  {
   "cell_type": "code",
   "execution_count": 63,
   "metadata": {},
   "outputs": [
    {
     "data": {
      "text/plain": [
       "((144528, 8), (25305, 7), (169833, 7))"
      ]
     },
     "execution_count": 63,
     "metadata": {},
     "output_type": "execute_result"
    }
   ],
   "source": [
    "train_num.shape, test_num.shape, num_df.shape"
   ]
  },
  {
   "cell_type": "code",
   "execution_count": 64,
   "metadata": {},
   "outputs": [
    {
     "data": {
      "text/html": [
       "<div>\n",
       "<style scoped>\n",
       "    .dataframe tbody tr th:only-of-type {\n",
       "        vertical-align: middle;\n",
       "    }\n",
       "\n",
       "    .dataframe tbody tr th {\n",
       "        vertical-align: top;\n",
       "    }\n",
       "\n",
       "    .dataframe thead th {\n",
       "        text-align: right;\n",
       "    }\n",
       "</style>\n",
       "<table border=\"1\" class=\"dataframe\">\n",
       "  <thead>\n",
       "    <tr style=\"text-align: right;\">\n",
       "      <th></th>\n",
       "      <th>violation_street_number</th>\n",
       "      <th>mailing_address_str_number</th>\n",
       "      <th>fine_amount</th>\n",
       "      <th>admin_fee</th>\n",
       "      <th>late_fee</th>\n",
       "      <th>discount_amount</th>\n",
       "      <th>judgment_amount</th>\n",
       "    </tr>\n",
       "  </thead>\n",
       "  <tbody>\n",
       "    <tr>\n",
       "      <th>count</th>\n",
       "      <td>1.698330e+05</td>\n",
       "      <td>1.698330e+05</td>\n",
       "      <td>169833.000000</td>\n",
       "      <td>169833.00000</td>\n",
       "      <td>169833.000000</td>\n",
       "      <td>169833.000000</td>\n",
       "      <td>169833.000000</td>\n",
       "    </tr>\n",
       "    <tr>\n",
       "      <th>mean</th>\n",
       "      <td>1.069378e+04</td>\n",
       "      <td>8.912033e+03</td>\n",
       "      <td>359.067896</td>\n",
       "      <td>18.82779</td>\n",
       "      <td>31.679349</td>\n",
       "      <td>0.184475</td>\n",
       "      <td>395.997667</td>\n",
       "    </tr>\n",
       "    <tr>\n",
       "      <th>std</th>\n",
       "      <td>3.521791e+04</td>\n",
       "      <td>3.563232e+04</td>\n",
       "      <td>671.921235</td>\n",
       "      <td>4.69790</td>\n",
       "      <td>66.153319</td>\n",
       "      <td>4.162982</td>\n",
       "      <td>727.211467</td>\n",
       "    </tr>\n",
       "    <tr>\n",
       "      <th>min</th>\n",
       "      <td>0.000000e+00</td>\n",
       "      <td>1.000000e+00</td>\n",
       "      <td>0.000000</td>\n",
       "      <td>0.00000</td>\n",
       "      <td>0.000000</td>\n",
       "      <td>0.000000</td>\n",
       "      <td>0.000000</td>\n",
       "    </tr>\n",
       "    <tr>\n",
       "      <th>25%</th>\n",
       "      <td>4.858000e+03</td>\n",
       "      <td>4.710000e+02</td>\n",
       "      <td>200.000000</td>\n",
       "      <td>20.00000</td>\n",
       "      <td>5.000000</td>\n",
       "      <td>0.000000</td>\n",
       "      <td>140.000000</td>\n",
       "    </tr>\n",
       "    <tr>\n",
       "      <th>50%</th>\n",
       "      <td>1.032000e+04</td>\n",
       "      <td>2.291000e+03</td>\n",
       "      <td>250.000000</td>\n",
       "      <td>20.00000</td>\n",
       "      <td>25.000000</td>\n",
       "      <td>0.000000</td>\n",
       "      <td>305.000000</td>\n",
       "    </tr>\n",
       "    <tr>\n",
       "      <th>75%</th>\n",
       "      <td>1.579100e+04</td>\n",
       "      <td>1.263100e+04</td>\n",
       "      <td>250.000000</td>\n",
       "      <td>20.00000</td>\n",
       "      <td>25.000000</td>\n",
       "      <td>0.000000</td>\n",
       "      <td>305.000000</td>\n",
       "    </tr>\n",
       "    <tr>\n",
       "      <th>max</th>\n",
       "      <td>1.415411e+07</td>\n",
       "      <td>5.111345e+06</td>\n",
       "      <td>10000.000000</td>\n",
       "      <td>20.00000</td>\n",
       "      <td>1000.000000</td>\n",
       "      <td>350.000000</td>\n",
       "      <td>11030.000000</td>\n",
       "    </tr>\n",
       "  </tbody>\n",
       "</table>\n",
       "</div>"
      ],
      "text/plain": [
       "       violation_street_number  mailing_address_str_number    fine_amount  \\\n",
       "count             1.698330e+05                1.698330e+05  169833.000000   \n",
       "mean              1.069378e+04                8.912033e+03     359.067896   \n",
       "std               3.521791e+04                3.563232e+04     671.921235   \n",
       "min               0.000000e+00                1.000000e+00       0.000000   \n",
       "25%               4.858000e+03                4.710000e+02     200.000000   \n",
       "50%               1.032000e+04                2.291000e+03     250.000000   \n",
       "75%               1.579100e+04                1.263100e+04     250.000000   \n",
       "max               1.415411e+07                5.111345e+06   10000.000000   \n",
       "\n",
       "          admin_fee       late_fee  discount_amount  judgment_amount  \n",
       "count  169833.00000  169833.000000    169833.000000    169833.000000  \n",
       "mean       18.82779      31.679349         0.184475       395.997667  \n",
       "std         4.69790      66.153319         4.162982       727.211467  \n",
       "min         0.00000       0.000000         0.000000         0.000000  \n",
       "25%        20.00000       5.000000         0.000000       140.000000  \n",
       "50%        20.00000      25.000000         0.000000       305.000000  \n",
       "75%        20.00000      25.000000         0.000000       305.000000  \n",
       "max        20.00000    1000.000000       350.000000     11030.000000  "
      ]
     },
     "execution_count": 64,
     "metadata": {},
     "output_type": "execute_result"
    }
   ],
   "source": [
    "num_df.describe()"
   ]
  },
  {
   "cell_type": "code",
   "execution_count": 65,
   "metadata": {},
   "outputs": [
    {
     "data": {
      "text/plain": [
       "violation_street_number       18246\n",
       "mailing_address_str_number    14358\n",
       "fine_amount                      41\n",
       "admin_fee                         2\n",
       "late_fee                         37\n",
       "discount_amount                  13\n",
       "judgment_amount                  57\n",
       "dtype: int64"
      ]
     },
     "execution_count": 65,
     "metadata": {},
     "output_type": "execute_result"
    }
   ],
   "source": [
    "num_df.nunique()"
   ]
  },
  {
   "cell_type": "code",
   "execution_count": 66,
   "metadata": {},
   "outputs": [
    {
     "data": {
      "text/plain": [
       "1509.0     187\n",
       "600.0      159\n",
       "1401.0     116\n",
       "0.0        108\n",
       "19300.0    103\n",
       "Name: violation_street_number, dtype: int64"
      ]
     },
     "execution_count": 66,
     "metadata": {},
     "output_type": "execute_result"
    }
   ],
   "source": [
    "num_df['violation_street_number'].value_counts().head()"
   ]
  },
  {
   "cell_type": "code",
   "execution_count": 67,
   "metadata": {},
   "outputs": [
    {
     "name": "stdout",
     "output_type": "stream",
     "text": [
      "(169833, 7)\n"
     ]
    },
    {
     "data": {
      "text/html": [
       "<div>\n",
       "<style scoped>\n",
       "    .dataframe tbody tr th:only-of-type {\n",
       "        vertical-align: middle;\n",
       "    }\n",
       "\n",
       "    .dataframe tbody tr th {\n",
       "        vertical-align: top;\n",
       "    }\n",
       "\n",
       "    .dataframe thead th {\n",
       "        text-align: right;\n",
       "    }\n",
       "</style>\n",
       "<table border=\"1\" class=\"dataframe\">\n",
       "  <thead>\n",
       "    <tr style=\"text-align: right;\">\n",
       "      <th></th>\n",
       "      <th>0</th>\n",
       "      <th>1</th>\n",
       "      <th>2</th>\n",
       "      <th>3</th>\n",
       "      <th>4</th>\n",
       "      <th>5</th>\n",
       "      <th>6</th>\n",
       "    </tr>\n",
       "  </thead>\n",
       "  <tbody>\n",
       "    <tr>\n",
       "      <th>count</th>\n",
       "      <td>169833.000000</td>\n",
       "      <td>1.698330e+05</td>\n",
       "      <td>169833.000000</td>\n",
       "      <td>169833.000000</td>\n",
       "      <td>169833.000000</td>\n",
       "      <td>169833.000000</td>\n",
       "      <td>169833.000000</td>\n",
       "    </tr>\n",
       "    <tr>\n",
       "      <th>mean</th>\n",
       "      <td>0.000756</td>\n",
       "      <td>1.743579e-03</td>\n",
       "      <td>0.035907</td>\n",
       "      <td>0.941389</td>\n",
       "      <td>0.031679</td>\n",
       "      <td>0.000527</td>\n",
       "      <td>0.035902</td>\n",
       "    </tr>\n",
       "    <tr>\n",
       "      <th>std</th>\n",
       "      <td>0.002488</td>\n",
       "      <td>6.971223e-03</td>\n",
       "      <td>0.067192</td>\n",
       "      <td>0.234895</td>\n",
       "      <td>0.066153</td>\n",
       "      <td>0.011894</td>\n",
       "      <td>0.065930</td>\n",
       "    </tr>\n",
       "    <tr>\n",
       "      <th>min</th>\n",
       "      <td>0.000000</td>\n",
       "      <td>1.956432e-07</td>\n",
       "      <td>0.000000</td>\n",
       "      <td>0.000000</td>\n",
       "      <td>0.000000</td>\n",
       "      <td>0.000000</td>\n",
       "      <td>0.000000</td>\n",
       "    </tr>\n",
       "    <tr>\n",
       "      <th>25%</th>\n",
       "      <td>0.000343</td>\n",
       "      <td>9.214796e-05</td>\n",
       "      <td>0.020000</td>\n",
       "      <td>1.000000</td>\n",
       "      <td>0.005000</td>\n",
       "      <td>0.000000</td>\n",
       "      <td>0.012693</td>\n",
       "    </tr>\n",
       "    <tr>\n",
       "      <th>50%</th>\n",
       "      <td>0.000729</td>\n",
       "      <td>4.482186e-04</td>\n",
       "      <td>0.025000</td>\n",
       "      <td>1.000000</td>\n",
       "      <td>0.025000</td>\n",
       "      <td>0.000000</td>\n",
       "      <td>0.027652</td>\n",
       "    </tr>\n",
       "    <tr>\n",
       "      <th>75%</th>\n",
       "      <td>0.001116</td>\n",
       "      <td>2.471170e-03</td>\n",
       "      <td>0.025000</td>\n",
       "      <td>1.000000</td>\n",
       "      <td>0.025000</td>\n",
       "      <td>0.000000</td>\n",
       "      <td>0.027652</td>\n",
       "    </tr>\n",
       "    <tr>\n",
       "      <th>max</th>\n",
       "      <td>1.000000</td>\n",
       "      <td>1.000000e+00</td>\n",
       "      <td>1.000000</td>\n",
       "      <td>1.000000</td>\n",
       "      <td>1.000000</td>\n",
       "      <td>1.000000</td>\n",
       "      <td>1.000000</td>\n",
       "    </tr>\n",
       "  </tbody>\n",
       "</table>\n",
       "</div>"
      ],
      "text/plain": [
       "                   0             1              2              3  \\\n",
       "count  169833.000000  1.698330e+05  169833.000000  169833.000000   \n",
       "mean        0.000756  1.743579e-03       0.035907       0.941389   \n",
       "std         0.002488  6.971223e-03       0.067192       0.234895   \n",
       "min         0.000000  1.956432e-07       0.000000       0.000000   \n",
       "25%         0.000343  9.214796e-05       0.020000       1.000000   \n",
       "50%         0.000729  4.482186e-04       0.025000       1.000000   \n",
       "75%         0.001116  2.471170e-03       0.025000       1.000000   \n",
       "max         1.000000  1.000000e+00       1.000000       1.000000   \n",
       "\n",
       "                   4              5              6  \n",
       "count  169833.000000  169833.000000  169833.000000  \n",
       "mean        0.031679       0.000527       0.035902  \n",
       "std         0.066153       0.011894       0.065930  \n",
       "min         0.000000       0.000000       0.000000  \n",
       "25%         0.005000       0.000000       0.012693  \n",
       "50%         0.025000       0.000000       0.027652  \n",
       "75%         0.025000       0.000000       0.027652  \n",
       "max         1.000000       1.000000       1.000000  "
      ]
     },
     "execution_count": 67,
     "metadata": {},
     "output_type": "execute_result"
    }
   ],
   "source": [
    "maxabs = MaxAbsScaler()\n",
    "minmax = MinMaxScaler()\n",
    "# onehot = OneHotEncoder()\n",
    "# scaler = StandardScaler(copy = True)\n",
    "# num_df_fee_amount = num_df.drop(columns= ['violation_street_number', 'mailing_address_str_number'], axis = 1)\n",
    "\n",
    "\n",
    "num_df_scal = maxabs.fit_transform(num_df)\n",
    "\n",
    "print(pd.DataFrame(num_df_scal).shape)\n",
    "pd.DataFrame(num_df_scal).describe()"
   ]
  },
  {
   "cell_type": "code",
   "execution_count": 68,
   "metadata": {},
   "outputs": [
    {
     "data": {
      "text/plain": [
       "((144528, 7), (25305, 7))"
      ]
     },
     "execution_count": 68,
     "metadata": {},
     "output_type": "execute_result"
    }
   ],
   "source": [
    "X_train_num = pd.DataFrame(num_df_scal).iloc[:index_split_num, :]\n",
    "X_test_num = pd.DataFrame(num_df_scal).iloc[index_split_num:, :]\n",
    "\n",
    "X_train_num.columns = ['violation_street_number', 'mailing_address_str_number', 'fine_amount', 'admin_fee', 'late_fee', \n",
    "                       'discount_amount', 'judgment_amount']\n",
    "X_test_num.columns = ['violation_street_number', 'mailing_address_str_number', 'fine_amount', 'admin_fee', 'late_fee', \n",
    "                       'discount_amount', 'judgment_amount']\n",
    "\n",
    "X_train_num.shape, X_test_num.shape"
   ]
  },
  {
   "cell_type": "markdown",
   "metadata": {},
   "source": [
    "#### Date features scaling"
   ]
  },
  {
   "cell_type": "code",
   "execution_count": 69,
   "metadata": {},
   "outputs": [],
   "source": [
    "# Создадим наборы данных, содержащих только значения с типом datetime для удобства исследования и предобработки\n",
    "train_date = train.select_dtypes('datetime64')\n",
    "test_date = test.select_dtypes('datetime64')\n",
    "\n",
    "date_df = pd.concat([train_date, test_date])\n",
    "index_split_date = train_date.shape[0]"
   ]
  },
  {
   "cell_type": "code",
   "execution_count": 70,
   "metadata": {},
   "outputs": [],
   "source": [
    "# создадим новые признаки\n",
    "date_df['duration_to_hearing_days'] = (date_df['hearing_date'] - date_df['ticket_issued_date']).apply(lambda x: x.days)\n",
    "date_df['duration_to_hearing_months'] = date_df['duration_to_hearing_days'] // 30\n",
    "date_df['duration_to_hearing_years'] = date_df['duration_to_hearing_days'] // 365"
   ]
  },
  {
   "cell_type": "code",
   "execution_count": 71,
   "metadata": {},
   "outputs": [],
   "source": [
    "date_df['ticket_issues_date_year'] = date_df['ticket_issued_date'].apply(lambda x: x.year)\n",
    "date_df['ticket_issues_date_month'] = date_df['ticket_issued_date'].apply(lambda x: x.month)\n",
    "date_df['ticket_issues_date_day'] = date_df['ticket_issued_date'].apply(lambda x: x.day)\n",
    "date_df['ticket_issues_date_hour'] = date_df['ticket_issued_date'].apply(lambda x: x.hour)\n",
    "\n",
    "date_df['hearing_date_year'] = date_df['hearing_date'].apply(lambda x: x.year)\n",
    "date_df['hearing_date_month'] = date_df['hearing_date'].apply(lambda x: x.month)\n",
    "date_df['hearing_date_day'] = date_df['hearing_date'].apply(lambda x: x.day)\n",
    "date_df['hearing_date_hour'] = date_df['hearing_date'].apply(lambda x: x.hour)"
   ]
  },
  {
   "cell_type": "code",
   "execution_count": 72,
   "metadata": {},
   "outputs": [
    {
     "data": {
      "text/html": [
       "<div>\n",
       "<style scoped>\n",
       "    .dataframe tbody tr th:only-of-type {\n",
       "        vertical-align: middle;\n",
       "    }\n",
       "\n",
       "    .dataframe tbody tr th {\n",
       "        vertical-align: top;\n",
       "    }\n",
       "\n",
       "    .dataframe thead th {\n",
       "        text-align: right;\n",
       "    }\n",
       "</style>\n",
       "<table border=\"1\" class=\"dataframe\">\n",
       "  <thead>\n",
       "    <tr style=\"text-align: right;\">\n",
       "      <th></th>\n",
       "      <th>ticket_issued_date</th>\n",
       "      <th>hearing_date</th>\n",
       "      <th>duration_to_hearing_days</th>\n",
       "      <th>duration_to_hearing_months</th>\n",
       "      <th>duration_to_hearing_years</th>\n",
       "      <th>ticket_issues_date_year</th>\n",
       "      <th>ticket_issues_date_month</th>\n",
       "      <th>ticket_issues_date_day</th>\n",
       "      <th>ticket_issues_date_hour</th>\n",
       "      <th>hearing_date_year</th>\n",
       "      <th>hearing_date_month</th>\n",
       "      <th>hearing_date_day</th>\n",
       "      <th>hearing_date_hour</th>\n",
       "    </tr>\n",
       "  </thead>\n",
       "  <tbody>\n",
       "    <tr>\n",
       "      <th>0</th>\n",
       "      <td>2004-03-16 11:40:00</td>\n",
       "      <td>2005-03-21 10:30:00</td>\n",
       "      <td>369</td>\n",
       "      <td>12</td>\n",
       "      <td>1</td>\n",
       "      <td>2004</td>\n",
       "      <td>3</td>\n",
       "      <td>16</td>\n",
       "      <td>11</td>\n",
       "      <td>2005</td>\n",
       "      <td>3</td>\n",
       "      <td>21</td>\n",
       "      <td>10</td>\n",
       "    </tr>\n",
       "    <tr>\n",
       "      <th>1</th>\n",
       "      <td>2004-04-23 12:30:00</td>\n",
       "      <td>2005-05-06 13:30:00</td>\n",
       "      <td>378</td>\n",
       "      <td>12</td>\n",
       "      <td>1</td>\n",
       "      <td>2004</td>\n",
       "      <td>4</td>\n",
       "      <td>23</td>\n",
       "      <td>12</td>\n",
       "      <td>2005</td>\n",
       "      <td>5</td>\n",
       "      <td>6</td>\n",
       "      <td>13</td>\n",
       "    </tr>\n",
       "    <tr>\n",
       "      <th>5</th>\n",
       "      <td>2004-05-01 11:50:00</td>\n",
       "      <td>2005-03-21 10:30:00</td>\n",
       "      <td>323</td>\n",
       "      <td>10</td>\n",
       "      <td>0</td>\n",
       "      <td>2004</td>\n",
       "      <td>5</td>\n",
       "      <td>1</td>\n",
       "      <td>11</td>\n",
       "      <td>2005</td>\n",
       "      <td>3</td>\n",
       "      <td>21</td>\n",
       "      <td>10</td>\n",
       "    </tr>\n",
       "    <tr>\n",
       "      <th>6</th>\n",
       "      <td>2004-06-14 14:15:00</td>\n",
       "      <td>2005-02-22 15:00:00</td>\n",
       "      <td>253</td>\n",
       "      <td>8</td>\n",
       "      <td>0</td>\n",
       "      <td>2004</td>\n",
       "      <td>6</td>\n",
       "      <td>14</td>\n",
       "      <td>14</td>\n",
       "      <td>2005</td>\n",
       "      <td>2</td>\n",
       "      <td>22</td>\n",
       "      <td>15</td>\n",
       "    </tr>\n",
       "    <tr>\n",
       "      <th>7</th>\n",
       "      <td>2004-06-16 12:30:00</td>\n",
       "      <td>2005-02-22 15:00:00</td>\n",
       "      <td>251</td>\n",
       "      <td>8</td>\n",
       "      <td>0</td>\n",
       "      <td>2004</td>\n",
       "      <td>6</td>\n",
       "      <td>16</td>\n",
       "      <td>12</td>\n",
       "      <td>2005</td>\n",
       "      <td>2</td>\n",
       "      <td>22</td>\n",
       "      <td>15</td>\n",
       "    </tr>\n",
       "  </tbody>\n",
       "</table>\n",
       "</div>"
      ],
      "text/plain": [
       "   ticket_issued_date        hearing_date  duration_to_hearing_days  \\\n",
       "0 2004-03-16 11:40:00 2005-03-21 10:30:00                       369   \n",
       "1 2004-04-23 12:30:00 2005-05-06 13:30:00                       378   \n",
       "5 2004-05-01 11:50:00 2005-03-21 10:30:00                       323   \n",
       "6 2004-06-14 14:15:00 2005-02-22 15:00:00                       253   \n",
       "7 2004-06-16 12:30:00 2005-02-22 15:00:00                       251   \n",
       "\n",
       "   duration_to_hearing_months  duration_to_hearing_years  \\\n",
       "0                          12                          1   \n",
       "1                          12                          1   \n",
       "5                          10                          0   \n",
       "6                           8                          0   \n",
       "7                           8                          0   \n",
       "\n",
       "   ticket_issues_date_year  ticket_issues_date_month  ticket_issues_date_day  \\\n",
       "0                     2004                         3                      16   \n",
       "1                     2004                         4                      23   \n",
       "5                     2004                         5                       1   \n",
       "6                     2004                         6                      14   \n",
       "7                     2004                         6                      16   \n",
       "\n",
       "   ticket_issues_date_hour  hearing_date_year  hearing_date_month  \\\n",
       "0                       11               2005                   3   \n",
       "1                       12               2005                   5   \n",
       "5                       11               2005                   3   \n",
       "6                       14               2005                   2   \n",
       "7                       12               2005                   2   \n",
       "\n",
       "   hearing_date_day  hearing_date_hour  \n",
       "0                21                 10  \n",
       "1                 6                 13  \n",
       "5                21                 10  \n",
       "6                22                 15  \n",
       "7                22                 15  "
      ]
     },
     "execution_count": 72,
     "metadata": {},
     "output_type": "execute_result"
    }
   ],
   "source": [
    "date_df.head()"
   ]
  },
  {
   "cell_type": "code",
   "execution_count": 73,
   "metadata": {},
   "outputs": [
    {
     "data": {
      "text/html": [
       "<div>\n",
       "<style scoped>\n",
       "    .dataframe tbody tr th:only-of-type {\n",
       "        vertical-align: middle;\n",
       "    }\n",
       "\n",
       "    .dataframe tbody tr th {\n",
       "        vertical-align: top;\n",
       "    }\n",
       "\n",
       "    .dataframe thead th {\n",
       "        text-align: right;\n",
       "    }\n",
       "</style>\n",
       "<table border=\"1\" class=\"dataframe\">\n",
       "  <thead>\n",
       "    <tr style=\"text-align: right;\">\n",
       "      <th></th>\n",
       "      <th>duration_to_hearing_days</th>\n",
       "      <th>duration_to_hearing_months</th>\n",
       "      <th>duration_to_hearing_years</th>\n",
       "      <th>ticket_issues_date_year</th>\n",
       "      <th>ticket_issues_date_month</th>\n",
       "      <th>ticket_issues_date_day</th>\n",
       "      <th>ticket_issues_date_hour</th>\n",
       "      <th>hearing_date_year</th>\n",
       "      <th>hearing_date_month</th>\n",
       "      <th>hearing_date_day</th>\n",
       "      <th>hearing_date_hour</th>\n",
       "    </tr>\n",
       "  </thead>\n",
       "  <tbody>\n",
       "    <tr>\n",
       "      <th>count</th>\n",
       "      <td>169833.000000</td>\n",
       "      <td>169833.000000</td>\n",
       "      <td>169833.000000</td>\n",
       "      <td>169833.000000</td>\n",
       "      <td>169833.000000</td>\n",
       "      <td>169833.000000</td>\n",
       "      <td>169833.000000</td>\n",
       "      <td>169833.000000</td>\n",
       "      <td>169833.000000</td>\n",
       "      <td>169833.000000</td>\n",
       "      <td>169833.000000</td>\n",
       "    </tr>\n",
       "    <tr>\n",
       "      <th>mean</th>\n",
       "      <td>0.184737</td>\n",
       "      <td>0.185853</td>\n",
       "      <td>0.192141</td>\n",
       "      <td>0.857009</td>\n",
       "      <td>0.488798</td>\n",
       "      <td>0.487083</td>\n",
       "      <td>0.460870</td>\n",
       "      <td>0.262709</td>\n",
       "      <td>0.507184</td>\n",
       "      <td>0.478266</td>\n",
       "      <td>0.251486</td>\n",
       "    </tr>\n",
       "    <tr>\n",
       "      <th>std</th>\n",
       "      <td>0.007415</td>\n",
       "      <td>0.007516</td>\n",
       "      <td>0.005555</td>\n",
       "      <td>0.082706</td>\n",
       "      <td>0.301088</td>\n",
       "      <td>0.288703</td>\n",
       "      <td>0.088672</td>\n",
       "      <td>0.175909</td>\n",
       "      <td>0.306844</td>\n",
       "      <td>0.289652</td>\n",
       "      <td>0.253914</td>\n",
       "    </tr>\n",
       "    <tr>\n",
       "      <th>min</th>\n",
       "      <td>0.000000</td>\n",
       "      <td>0.000000</td>\n",
       "      <td>0.000000</td>\n",
       "      <td>0.000000</td>\n",
       "      <td>0.000000</td>\n",
       "      <td>0.000000</td>\n",
       "      <td>0.000000</td>\n",
       "      <td>0.000000</td>\n",
       "      <td>0.000000</td>\n",
       "      <td>0.000000</td>\n",
       "      <td>0.000000</td>\n",
       "    </tr>\n",
       "    <tr>\n",
       "      <th>25%</th>\n",
       "      <td>0.180527</td>\n",
       "      <td>0.183230</td>\n",
       "      <td>0.192308</td>\n",
       "      <td>0.782609</td>\n",
       "      <td>0.181818</td>\n",
       "      <td>0.233333</td>\n",
       "      <td>0.391304</td>\n",
       "      <td>0.090909</td>\n",
       "      <td>0.272727</td>\n",
       "      <td>0.200000</td>\n",
       "      <td>0.000000</td>\n",
       "    </tr>\n",
       "    <tr>\n",
       "      <th>50%</th>\n",
       "      <td>0.182912</td>\n",
       "      <td>0.183230</td>\n",
       "      <td>0.192308</td>\n",
       "      <td>0.869565</td>\n",
       "      <td>0.454545</td>\n",
       "      <td>0.466667</td>\n",
       "      <td>0.434783</td>\n",
       "      <td>0.272727</td>\n",
       "      <td>0.454545</td>\n",
       "      <td>0.466667</td>\n",
       "      <td>0.111111</td>\n",
       "    </tr>\n",
       "    <tr>\n",
       "      <th>75%</th>\n",
       "      <td>0.187681</td>\n",
       "      <td>0.189441</td>\n",
       "      <td>0.192308</td>\n",
       "      <td>0.913043</td>\n",
       "      <td>0.727273</td>\n",
       "      <td>0.733333</td>\n",
       "      <td>0.521739</td>\n",
       "      <td>0.363636</td>\n",
       "      <td>0.818182</td>\n",
       "      <td>0.700000</td>\n",
       "      <td>0.444444</td>\n",
       "    </tr>\n",
       "    <tr>\n",
       "      <th>max</th>\n",
       "      <td>1.000000</td>\n",
       "      <td>1.000000</td>\n",
       "      <td>1.000000</td>\n",
       "      <td>1.000000</td>\n",
       "      <td>1.000000</td>\n",
       "      <td>1.000000</td>\n",
       "      <td>1.000000</td>\n",
       "      <td>1.000000</td>\n",
       "      <td>1.000000</td>\n",
       "      <td>1.000000</td>\n",
       "      <td>1.000000</td>\n",
       "    </tr>\n",
       "  </tbody>\n",
       "</table>\n",
       "</div>"
      ],
      "text/plain": [
       "       duration_to_hearing_days  duration_to_hearing_months  \\\n",
       "count             169833.000000               169833.000000   \n",
       "mean                   0.184737                    0.185853   \n",
       "std                    0.007415                    0.007516   \n",
       "min                    0.000000                    0.000000   \n",
       "25%                    0.180527                    0.183230   \n",
       "50%                    0.182912                    0.183230   \n",
       "75%                    0.187681                    0.189441   \n",
       "max                    1.000000                    1.000000   \n",
       "\n",
       "       duration_to_hearing_years  ticket_issues_date_year  \\\n",
       "count              169833.000000            169833.000000   \n",
       "mean                    0.192141                 0.857009   \n",
       "std                     0.005555                 0.082706   \n",
       "min                     0.000000                 0.000000   \n",
       "25%                     0.192308                 0.782609   \n",
       "50%                     0.192308                 0.869565   \n",
       "75%                     0.192308                 0.913043   \n",
       "max                     1.000000                 1.000000   \n",
       "\n",
       "       ticket_issues_date_month  ticket_issues_date_day  \\\n",
       "count             169833.000000           169833.000000   \n",
       "mean                   0.488798                0.487083   \n",
       "std                    0.301088                0.288703   \n",
       "min                    0.000000                0.000000   \n",
       "25%                    0.181818                0.233333   \n",
       "50%                    0.454545                0.466667   \n",
       "75%                    0.727273                0.733333   \n",
       "max                    1.000000                1.000000   \n",
       "\n",
       "       ticket_issues_date_hour  hearing_date_year  hearing_date_month  \\\n",
       "count            169833.000000      169833.000000       169833.000000   \n",
       "mean                  0.460870           0.262709            0.507184   \n",
       "std                   0.088672           0.175909            0.306844   \n",
       "min                   0.000000           0.000000            0.000000   \n",
       "25%                   0.391304           0.090909            0.272727   \n",
       "50%                   0.434783           0.272727            0.454545   \n",
       "75%                   0.521739           0.363636            0.818182   \n",
       "max                   1.000000           1.000000            1.000000   \n",
       "\n",
       "       hearing_date_day  hearing_date_hour  \n",
       "count     169833.000000      169833.000000  \n",
       "mean           0.478266           0.251486  \n",
       "std            0.289652           0.253914  \n",
       "min            0.000000           0.000000  \n",
       "25%            0.200000           0.000000  \n",
       "50%            0.466667           0.111111  \n",
       "75%            0.700000           0.444444  \n",
       "max            1.000000           1.000000  "
      ]
     },
     "execution_count": 73,
     "metadata": {},
     "output_type": "execute_result"
    }
   ],
   "source": [
    "date_df_columns = ['duration_to_hearing_days', 'duration_to_hearing_months', 'duration_to_hearing_years',\n",
    "                   'ticket_issues_date_year', 'ticket_issues_date_month', 'ticket_issues_date_day',\n",
    "                   'ticket_issues_date_hour', 'hearing_date_year','hearing_date_month',\n",
    "                   'hearing_date_day', 'hearing_date_hour']\n",
    "\n",
    "date_df_scaler = minmax.fit_transform(date_df[date_df_columns])\n",
    "\n",
    "date_df_scaler = pd.DataFrame(date_df_scaler)\n",
    "date_df_scaler.columns = date_df_columns\n",
    "date_df_scaler.describe()"
   ]
  },
  {
   "cell_type": "code",
   "execution_count": 74,
   "metadata": {},
   "outputs": [
    {
     "data": {
      "text/plain": [
       "((144528, 11), (25305, 11))"
      ]
     },
     "execution_count": 74,
     "metadata": {},
     "output_type": "execute_result"
    }
   ],
   "source": [
    "X_train_date = pd.DataFrame(date_df[date_df_columns]).iloc[:index_split_date, :]\n",
    "X_test_date = pd.DataFrame(date_df[date_df_columns]).iloc[index_split_date:, :]\n",
    "\n",
    "X_train_date.columns = date_df_columns\n",
    "X_test_date.columns = date_df_columns\n",
    "\n",
    "X_train_date.shape, X_test_date.shape"
   ]
  },
  {
   "cell_type": "code",
   "execution_count": 75,
   "metadata": {},
   "outputs": [
    {
     "data": {
      "text/plain": [
       "(<144528x18 sparse matrix of type '<class 'numpy.float64'>'\n",
       " \twith 2267622 stored elements in COOrdinate format>,\n",
       " <25305x18 sparse matrix of type '<class 'numpy.float64'>'\n",
       " \twith 364908 stored elements in COOrdinate format>)"
      ]
     },
     "execution_count": 75,
     "metadata": {},
     "output_type": "execute_result"
    }
   ],
   "source": [
    "X_train = hstack([X_train_num, X_train_date])\n",
    "X_test = hstack([X_test_num, X_test_date])\n",
    "X_train, X_test"
   ]
  },
  {
   "cell_type": "markdown",
   "metadata": {},
   "source": [
    "#### Text features scaling"
   ]
  },
  {
   "cell_type": "code",
   "execution_count": 76,
   "metadata": {},
   "outputs": [],
   "source": [
    "# Создадим наборы данных, содержащих только значения с типом object для удобства исследования и предобработки\n",
    "train_text = train.select_dtypes('object')\n",
    "test_text = test.select_dtypes('object')\n",
    "\n",
    "text_df = pd.concat([train_text, test_text])\n",
    "index_split_text = train_text.shape[0]"
   ]
  },
  {
   "cell_type": "code",
   "execution_count": 77,
   "metadata": {},
   "outputs": [
    {
     "data": {
      "text/html": [
       "<div>\n",
       "<style scoped>\n",
       "    .dataframe tbody tr th:only-of-type {\n",
       "        vertical-align: middle;\n",
       "    }\n",
       "\n",
       "    .dataframe tbody tr th {\n",
       "        vertical-align: top;\n",
       "    }\n",
       "\n",
       "    .dataframe thead th {\n",
       "        text-align: right;\n",
       "    }\n",
       "</style>\n",
       "<table border=\"1\" class=\"dataframe\">\n",
       "  <thead>\n",
       "    <tr style=\"text-align: right;\">\n",
       "      <th></th>\n",
       "      <th>agency_name</th>\n",
       "      <th>inspector_name</th>\n",
       "      <th>violator_name</th>\n",
       "      <th>violation_street_name</th>\n",
       "      <th>mailing_address_str_name</th>\n",
       "      <th>city</th>\n",
       "      <th>state</th>\n",
       "      <th>zip_code</th>\n",
       "      <th>country</th>\n",
       "      <th>violation_code</th>\n",
       "      <th>violation_description</th>\n",
       "      <th>disposition</th>\n",
       "    </tr>\n",
       "  </thead>\n",
       "  <tbody>\n",
       "    <tr>\n",
       "      <th>0</th>\n",
       "      <td>Buildings, Safety Engineering &amp; Env Department</td>\n",
       "      <td>Sims, Martinzie</td>\n",
       "      <td>INVESTMENT INC., MIDWEST MORTGAGE</td>\n",
       "      <td>TYLER</td>\n",
       "      <td>S. WICKER</td>\n",
       "      <td>CHICAGO</td>\n",
       "      <td>IL</td>\n",
       "      <td>60606</td>\n",
       "      <td>USA</td>\n",
       "      <td>9-1-36(a)</td>\n",
       "      <td>Failure of owner to obtain certificate of comp...</td>\n",
       "      <td>Responsible by Default</td>\n",
       "    </tr>\n",
       "    <tr>\n",
       "      <th>1</th>\n",
       "      <td>Buildings, Safety Engineering &amp; Env Department</td>\n",
       "      <td>Williams, Darrin</td>\n",
       "      <td>Michigan, Covenant House</td>\n",
       "      <td>CENTRAL</td>\n",
       "      <td>Martin Luther King</td>\n",
       "      <td>Detroit</td>\n",
       "      <td>MI</td>\n",
       "      <td>48208</td>\n",
       "      <td>USA</td>\n",
       "      <td>61-63.0600</td>\n",
       "      <td>Failed To Secure Permit For Lawful Use Of Buil...</td>\n",
       "      <td>Responsible by Determination</td>\n",
       "    </tr>\n",
       "    <tr>\n",
       "      <th>5</th>\n",
       "      <td>Buildings, Safety Engineering &amp; Env Department</td>\n",
       "      <td>Sims, Martinzie</td>\n",
       "      <td>KASIMU, UKWELI</td>\n",
       "      <td>NORTHFIELD</td>\n",
       "      <td>E. 17TH</td>\n",
       "      <td>LOG BEACH</td>\n",
       "      <td>CA</td>\n",
       "      <td>908041512</td>\n",
       "      <td>USA</td>\n",
       "      <td>9-1-36(a)</td>\n",
       "      <td>Failure of owner to obtain certificate of comp...</td>\n",
       "      <td>Responsible by Default</td>\n",
       "    </tr>\n",
       "  </tbody>\n",
       "</table>\n",
       "</div>"
      ],
      "text/plain": [
       "                                      agency_name    inspector_name  \\\n",
       "0  Buildings, Safety Engineering & Env Department   Sims, Martinzie   \n",
       "1  Buildings, Safety Engineering & Env Department  Williams, Darrin   \n",
       "5  Buildings, Safety Engineering & Env Department   Sims, Martinzie   \n",
       "\n",
       "                       violator_name violation_street_name  \\\n",
       "0  INVESTMENT INC., MIDWEST MORTGAGE                 TYLER   \n",
       "1           Michigan, Covenant House               CENTRAL   \n",
       "5                     KASIMU, UKWELI            NORTHFIELD   \n",
       "\n",
       "  mailing_address_str_name       city state   zip_code country violation_code  \\\n",
       "0                S. WICKER    CHICAGO    IL      60606     USA      9-1-36(a)   \n",
       "1       Martin Luther King    Detroit    MI      48208     USA     61-63.0600   \n",
       "5                  E. 17TH  LOG BEACH    CA  908041512     USA      9-1-36(a)   \n",
       "\n",
       "                               violation_description  \\\n",
       "0  Failure of owner to obtain certificate of comp...   \n",
       "1  Failed To Secure Permit For Lawful Use Of Buil...   \n",
       "5  Failure of owner to obtain certificate of comp...   \n",
       "\n",
       "                    disposition  \n",
       "0        Responsible by Default  \n",
       "1  Responsible by Determination  \n",
       "5        Responsible by Default  "
      ]
     },
     "execution_count": 77,
     "metadata": {},
     "output_type": "execute_result"
    }
   ],
   "source": [
    "text_df.head(3)"
   ]
  },
  {
   "cell_type": "code",
   "execution_count": 78,
   "metadata": {},
   "outputs": [
    {
     "data": {
      "text/plain": [
       "INVESTMENT, ACORN        649\n",
       "INVESTMENT CO., ACORN    343\n",
       "BANK, WELLS FARGO        261\n",
       "MILLER, JOHN             179\n",
       "STEHLIK, JERRY           158\n",
       "Name: violator_name, dtype: int64"
      ]
     },
     "execution_count": 78,
     "metadata": {},
     "output_type": "execute_result"
    }
   ],
   "source": [
    "text_df['violator_name'].value_counts().head()"
   ]
  },
  {
   "cell_type": "code",
   "execution_count": 79,
   "metadata": {
    "scrolled": true
   },
   "outputs": [
    {
     "data": {
      "text/plain": [
       "agency_name                     5\n",
       "inspector_name                161\n",
       "violator_name               89368\n",
       "violation_street_name        1731\n",
       "mailing_address_str_name    29892\n",
       "city                         4306\n",
       "state                          59\n",
       "zip_code                     4711\n",
       "country                         5\n",
       "violation_code                206\n",
       "violation_description         227\n",
       "disposition                     9\n",
       "dtype: int64"
      ]
     },
     "execution_count": 79,
     "metadata": {},
     "output_type": "execute_result"
    }
   ],
   "source": [
    "text_df.nunique()"
   ]
  },
  {
   "cell_type": "code",
   "execution_count": 80,
   "metadata": {},
   "outputs": [
    {
     "data": {
      "text/html": [
       "<div>\n",
       "<style scoped>\n",
       "    .dataframe tbody tr th:only-of-type {\n",
       "        vertical-align: middle;\n",
       "    }\n",
       "\n",
       "    .dataframe tbody tr th {\n",
       "        vertical-align: top;\n",
       "    }\n",
       "\n",
       "    .dataframe thead th {\n",
       "        text-align: right;\n",
       "    }\n",
       "</style>\n",
       "<table border=\"1\" class=\"dataframe\">\n",
       "  <thead>\n",
       "    <tr style=\"text-align: right;\">\n",
       "      <th></th>\n",
       "      <th>agency_name</th>\n",
       "      <th>inspector_name</th>\n",
       "      <th>violator_name</th>\n",
       "      <th>violation_street_name</th>\n",
       "      <th>mailing_address_str_name</th>\n",
       "      <th>city</th>\n",
       "      <th>state</th>\n",
       "      <th>country</th>\n",
       "      <th>violation_code</th>\n",
       "      <th>violation_description</th>\n",
       "      <th>disposition</th>\n",
       "      <th>zip_code</th>\n",
       "    </tr>\n",
       "  </thead>\n",
       "  <tbody>\n",
       "    <tr>\n",
       "      <th>0</th>\n",
       "      <td>buildings, safety engineering &amp; env department</td>\n",
       "      <td>sims, martinzie</td>\n",
       "      <td>investment inc., midwest mortgage</td>\n",
       "      <td>tyler</td>\n",
       "      <td>s. wicker</td>\n",
       "      <td>chicago</td>\n",
       "      <td>il</td>\n",
       "      <td>usa</td>\n",
       "      <td>9-1-36(a)</td>\n",
       "      <td>failure of owner to obtain certificate of comp...</td>\n",
       "      <td>responsible by default</td>\n",
       "      <td>60606</td>\n",
       "    </tr>\n",
       "    <tr>\n",
       "      <th>1</th>\n",
       "      <td>buildings, safety engineering &amp; env department</td>\n",
       "      <td>williams, darrin</td>\n",
       "      <td>michigan, covenant house</td>\n",
       "      <td>central</td>\n",
       "      <td>martin luther king</td>\n",
       "      <td>detroit</td>\n",
       "      <td>mi</td>\n",
       "      <td>usa</td>\n",
       "      <td>61-63.0600</td>\n",
       "      <td>failed to secure permit for lawful use of buil...</td>\n",
       "      <td>responsible by determination</td>\n",
       "      <td>48208</td>\n",
       "    </tr>\n",
       "    <tr>\n",
       "      <th>5</th>\n",
       "      <td>buildings, safety engineering &amp; env department</td>\n",
       "      <td>sims, martinzie</td>\n",
       "      <td>kasimu, ukweli</td>\n",
       "      <td>northfield</td>\n",
       "      <td>e. 17th</td>\n",
       "      <td>log beach</td>\n",
       "      <td>ca</td>\n",
       "      <td>usa</td>\n",
       "      <td>9-1-36(a)</td>\n",
       "      <td>failure of owner to obtain certificate of comp...</td>\n",
       "      <td>responsible by default</td>\n",
       "      <td>908041512</td>\n",
       "    </tr>\n",
       "  </tbody>\n",
       "</table>\n",
       "</div>"
      ],
      "text/plain": [
       "                                      agency_name    inspector_name  \\\n",
       "0  buildings, safety engineering & env department   sims, martinzie   \n",
       "1  buildings, safety engineering & env department  williams, darrin   \n",
       "5  buildings, safety engineering & env department   sims, martinzie   \n",
       "\n",
       "                       violator_name violation_street_name  \\\n",
       "0  investment inc., midwest mortgage                 tyler   \n",
       "1           michigan, covenant house               central   \n",
       "5                     kasimu, ukweli            northfield   \n",
       "\n",
       "  mailing_address_str_name       city state country violation_code  \\\n",
       "0                s. wicker    chicago    il     usa      9-1-36(a)   \n",
       "1       martin luther king    detroit    mi     usa     61-63.0600   \n",
       "5                  e. 17th  log beach    ca     usa      9-1-36(a)   \n",
       "\n",
       "                               violation_description  \\\n",
       "0  failure of owner to obtain certificate of comp...   \n",
       "1  failed to secure permit for lawful use of buil...   \n",
       "5  failure of owner to obtain certificate of comp...   \n",
       "\n",
       "                    disposition   zip_code  \n",
       "0        responsible by default      60606  \n",
       "1  responsible by determination      48208  \n",
       "5        responsible by default  908041512  "
      ]
     },
     "execution_count": 80,
     "metadata": {},
     "output_type": "execute_result"
    }
   ],
   "source": [
    "# Приведем все символы к нижнему регистру\n",
    "text_df_zip = text_df['zip_code']\n",
    "text_df.drop(columns='zip_code', axis=1,inplace=True)\n",
    "for column in text_df.columns:\n",
    "    text_df[column] = text_df[column].apply(lambda x: x.lower())\n",
    "text_df['zip_code'] = text_df_zip\n",
    "text_df.head(3)"
   ]
  },
  {
   "cell_type": "code",
   "execution_count": 81,
   "metadata": {},
   "outputs": [
    {
     "data": {
      "text/plain": [
       "agency_name                     5\n",
       "inspector_name                160\n",
       "violator_name               84897\n",
       "violation_street_name        1731\n",
       "mailing_address_str_name    26529\n",
       "city                         3626\n",
       "state                          59\n",
       "country                         5\n",
       "violation_code                206\n",
       "violation_description         226\n",
       "disposition                     9\n",
       "zip_code                     4711\n",
       "dtype: int64"
      ]
     },
     "execution_count": 81,
     "metadata": {},
     "output_type": "execute_result"
    }
   ],
   "source": [
    "text_df.nunique()"
   ]
  },
  {
   "cell_type": "code",
   "execution_count": 82,
   "metadata": {},
   "outputs": [],
   "source": [
    "#ordinal = OrdinalEncoder()\n",
    "\n",
    "#text_df_ordinal_columns = ['agency_name', 'state', 'country', 'disposition']\n",
    "\n",
    "#text_df_ordinal = ordinal.fit_transform(text_df[text_df_ordinal_columns])\n",
    "#text_df_ordinal_scal = scaler.fit_transform(text_df_ordinal)\n",
    "\n",
    "#text_df_ordinal_scal = pd.DataFrame(text_df_ordinal_scal)\n",
    "#text_df_ordinal_scal.columns = text_df_ordinal_columns\n",
    "#text_df_ordinal_scal.describe()"
   ]
  },
  {
   "cell_type": "code",
   "execution_count": 83,
   "metadata": {},
   "outputs": [
    {
     "data": {
      "text/plain": [
       "((144528, 12), (25305, 12))"
      ]
     },
     "execution_count": 83,
     "metadata": {},
     "output_type": "execute_result"
    }
   ],
   "source": [
    "X_train_text = pd.DataFrame(text_df).iloc[:index_split_text, :]\n",
    "X_test_text = pd.DataFrame(text_df).iloc[index_split_text:, :]\n",
    "\n",
    "X_train_text.columns = text_df.columns\n",
    "X_test_text.columns = text_df.columns\n",
    "\n",
    "X_train_text.shape, X_test_text.shape"
   ]
  },
  {
   "cell_type": "code",
   "execution_count": 84,
   "metadata": {},
   "outputs": [],
   "source": [
    "def vectorizer(train_full, X_train, X_test):\n",
    "    word_vectorizer = TfidfVectorizer(\n",
    "        sublinear_tf=True,\n",
    "        strip_accents='unicode',\n",
    "        analyzer='word',\n",
    "        token_pattern=r'\\w{1,}',\n",
    "        # delete english stopwords\n",
    "        stop_words=stopwords.words('english'),\n",
    "        ngram_range=(1, 2),\n",
    "        max_features=50000)\n",
    "    word_vectorizer.fit(train_full)\n",
    "    train_word_features = word_vectorizer.transform(X_train)\n",
    "    test_word_features = word_vectorizer.transform(X_test)\n",
    "    return train_word_features, test_word_features"
   ]
  },
  {
   "cell_type": "code",
   "execution_count": 85,
   "metadata": {},
   "outputs": [],
   "source": [
    "text_df.drop(columns=['zip_code', 'violator_name'], axis = 1, inplace = True)"
   ]
  },
  {
   "cell_type": "code",
   "execution_count": 86,
   "metadata": {},
   "outputs": [
    {
     "data": {
      "text/plain": [
       "Index(['agency_name', 'inspector_name', 'violation_street_name',\n",
       "       'mailing_address_str_name', 'city', 'state', 'country',\n",
       "       'violation_code', 'violation_description', 'disposition'],\n",
       "      dtype='object')"
      ]
     },
     "execution_count": 86,
     "metadata": {},
     "output_type": "execute_result"
    }
   ],
   "source": [
    "text_df.columns"
   ]
  },
  {
   "cell_type": "code",
   "execution_count": 87,
   "metadata": {},
   "outputs": [
    {
     "name": "stdout",
     "output_type": "stream",
     "text": [
      "(144528, 42) (25305, 42)\n",
      "(144528, 502) (25305, 502)\n",
      "(144528, 2474) (25305, 2474)\n",
      "(144528, 29911) (25305, 29911)\n",
      "(144528, 34280) (25305, 34280)\n",
      "(144528, 34334) (25305, 34334)\n",
      "(144528, 34339) (25305, 34339)\n",
      "(144528, 34732) (25305, 34732)\n",
      "(144528, 36216) (25305, 36216)\n",
      "(144528, 36241) (25305, 36241)\n",
      "Wall time: 2min 14s\n"
     ]
    }
   ],
   "source": [
    "%%time\n",
    "for col in text_df.columns:\n",
    "    train_word_features, test_word_features = vectorizer(text_df[col], X_train_text[col], X_test_text[col])\n",
    "    X_train = hstack([X_train, train_word_features])\n",
    "    X_test = hstack([X_test, test_word_features])\n",
    "    print(X_train.shape, X_test.shape)"
   ]
  },
  {
   "cell_type": "code",
   "execution_count": 88,
   "metadata": {},
   "outputs": [],
   "source": [
    "# 25194 mailing_address_str_name\n",
    "# 1476 violation_description\n",
    "# 391 violation_code\n",
    "# 50000 violator_name\n",
    "# 460 inspector_name\n",
    "# 52 state\n",
    "# 24 agency_name\n",
    "# 1962 violation_street_name\n",
    "# 3 country\n",
    "# 21 disposition\n",
    "# zip_code (нужно удалить символы и вставить в numerical)"
   ]
  },
  {
   "cell_type": "markdown",
   "metadata": {},
   "source": [
    "### Building predictive model"
   ]
  },
  {
   "cell_type": "code",
   "execution_count": 89,
   "metadata": {},
   "outputs": [],
   "source": [
    "def get_auc_log_regr_valid(X, y, C=0.17, seed=17):\n",
    "    # Split the data into the training and validation sets\n",
    "    X_train, X_test, y_train, y_test = train_test_split(X, y, random_state = 42)\n",
    "    log_regr = LogisticRegression(C=C, random_state=seed, solver='liblinear').fit(X_train, y_train)\n",
    "    #Predict\n",
    "    y_pred = log_regr.predict_proba(X_test)[:, 1]\n",
    "    # ROC_AUC. Probality.\n",
    "    score = roc_auc_score(y_test, y_pred)\n",
    "    \n",
    "    return score"
   ]
  },
  {
   "cell_type": "code",
   "execution_count": 90,
   "metadata": {},
   "outputs": [],
   "source": [
    "# 0.768\n",
    "# 0.798 TFIDVectorizer()"
   ]
  },
  {
   "cell_type": "code",
   "execution_count": 91,
   "metadata": {},
   "outputs": [
    {
     "name": "stdout",
     "output_type": "stream",
     "text": [
      "0.7981616410371767\n",
      "Wall time: 21.6 s\n"
     ]
    }
   ],
   "source": [
    "%%time\n",
    "# получим ROC-AUC значение, используя train_test_split со значением test_split=0.25 по умолчанию\n",
    "print(get_auc_log_regr_valid(X_train, y_train))"
   ]
  },
  {
   "cell_type": "code",
   "execution_count": 92,
   "metadata": {},
   "outputs": [],
   "source": [
    "log_regr = LogisticRegression(C=0.17, random_state=17, solver='liblinear').fit(X_train, y_train)"
   ]
  },
  {
   "cell_type": "code",
   "execution_count": 93,
   "metadata": {},
   "outputs": [
    {
     "name": "stdout",
     "output_type": "stream",
     "text": [
      "0.7585871705162642\n",
      "Wall time: 2min 47s\n"
     ]
    }
   ],
   "source": [
    "%%time\n",
    "cv_score = cross_val_score(log_regr, X=X_train, y=pd.factorize(y_train)[0],\n",
    "                                   scoring='roc_auc', cv=10)\n",
    "print(np.mean(cv_score))"
   ]
  },
  {
   "cell_type": "code",
   "execution_count": 94,
   "metadata": {},
   "outputs": [],
   "source": [
    "log_regr.fit(X_train, y_train)\n",
    "y_test_pred = log_regr.predict_proba(X_test)[:, 1]"
   ]
  },
  {
   "cell_type": "code",
   "execution_count": 95,
   "metadata": {},
   "outputs": [
    {
     "data": {
      "text/plain": [
       "((25305,), (25305, 36241))"
      ]
     },
     "execution_count": 95,
     "metadata": {},
     "output_type": "execute_result"
    }
   ],
   "source": [
    "y_test_pred.shape, X_test.shape"
   ]
  },
  {
   "cell_type": "code",
   "execution_count": 96,
   "metadata": {},
   "outputs": [],
   "source": [
    "sub = pd.DataFrame({'ticket_id': test['ticket_id'],\n",
    "                    'score': y_test_pred})\n",
    "sub.to_csv('submission_tfid_param.csv', index = False)"
   ]
  },
  {
   "cell_type": "code",
   "execution_count": 97,
   "metadata": {},
   "outputs": [
    {
     "data": {
      "text/html": [
       "<div>\n",
       "<style scoped>\n",
       "    .dataframe tbody tr th:only-of-type {\n",
       "        vertical-align: middle;\n",
       "    }\n",
       "\n",
       "    .dataframe tbody tr th {\n",
       "        vertical-align: top;\n",
       "    }\n",
       "\n",
       "    .dataframe thead th {\n",
       "        text-align: right;\n",
       "    }\n",
       "</style>\n",
       "<table border=\"1\" class=\"dataframe\">\n",
       "  <thead>\n",
       "    <tr style=\"text-align: right;\">\n",
       "      <th></th>\n",
       "      <th>ticket_id</th>\n",
       "      <th>score</th>\n",
       "    </tr>\n",
       "  </thead>\n",
       "  <tbody>\n",
       "    <tr>\n",
       "      <th>0</th>\n",
       "      <td>259669</td>\n",
       "      <td>0.040829</td>\n",
       "    </tr>\n",
       "    <tr>\n",
       "      <th>1</th>\n",
       "      <td>259733</td>\n",
       "      <td>0.025210</td>\n",
       "    </tr>\n",
       "    <tr>\n",
       "      <th>2</th>\n",
       "      <td>258776</td>\n",
       "      <td>0.048551</td>\n",
       "    </tr>\n",
       "    <tr>\n",
       "      <th>3</th>\n",
       "      <td>258777</td>\n",
       "      <td>0.041472</td>\n",
       "    </tr>\n",
       "    <tr>\n",
       "      <th>4</th>\n",
       "      <td>259663</td>\n",
       "      <td>0.273092</td>\n",
       "    </tr>\n",
       "  </tbody>\n",
       "</table>\n",
       "</div>"
      ],
      "text/plain": [
       "   ticket_id     score\n",
       "0     259669  0.040829\n",
       "1     259733  0.025210\n",
       "2     258776  0.048551\n",
       "3     258777  0.041472\n",
       "4     259663  0.273092"
      ]
     },
     "execution_count": 97,
     "metadata": {},
     "output_type": "execute_result"
    }
   ],
   "source": [
    "pd.read_csv('submission_tfid_param.csv').head()"
   ]
  },
  {
   "cell_type": "code",
   "execution_count": 98,
   "metadata": {},
   "outputs": [
    {
     "data": {
      "text/plain": [
       "((25305, 2), (25305, 22))"
      ]
     },
     "execution_count": 98,
     "metadata": {},
     "output_type": "execute_result"
    }
   ],
   "source": [
    "sub.shape, test.shape"
   ]
  },
  {
   "cell_type": "code",
   "execution_count": 99,
   "metadata": {},
   "outputs": [
    {
     "data": {
      "text/html": [
       "<div>\n",
       "<style scoped>\n",
       "    .dataframe tbody tr th:only-of-type {\n",
       "        vertical-align: middle;\n",
       "    }\n",
       "\n",
       "    .dataframe tbody tr th {\n",
       "        vertical-align: top;\n",
       "    }\n",
       "\n",
       "    .dataframe thead th {\n",
       "        text-align: right;\n",
       "    }\n",
       "</style>\n",
       "<table border=\"1\" class=\"dataframe\">\n",
       "  <thead>\n",
       "    <tr style=\"text-align: right;\">\n",
       "      <th></th>\n",
       "      <th>0</th>\n",
       "    </tr>\n",
       "  </thead>\n",
       "  <tbody>\n",
       "    <tr>\n",
       "      <th>0</th>\n",
       "      <td>0.040829</td>\n",
       "    </tr>\n",
       "    <tr>\n",
       "      <th>1</th>\n",
       "      <td>0.025210</td>\n",
       "    </tr>\n",
       "    <tr>\n",
       "      <th>2</th>\n",
       "      <td>0.048551</td>\n",
       "    </tr>\n",
       "    <tr>\n",
       "      <th>3</th>\n",
       "      <td>0.041472</td>\n",
       "    </tr>\n",
       "    <tr>\n",
       "      <th>4</th>\n",
       "      <td>0.273092</td>\n",
       "    </tr>\n",
       "    <tr>\n",
       "      <th>5</th>\n",
       "      <td>0.183742</td>\n",
       "    </tr>\n",
       "    <tr>\n",
       "      <th>6</th>\n",
       "      <td>0.037382</td>\n",
       "    </tr>\n",
       "    <tr>\n",
       "      <th>7</th>\n",
       "      <td>0.023137</td>\n",
       "    </tr>\n",
       "    <tr>\n",
       "      <th>8</th>\n",
       "      <td>0.016868</td>\n",
       "    </tr>\n",
       "    <tr>\n",
       "      <th>9</th>\n",
       "      <td>0.027839</td>\n",
       "    </tr>\n",
       "    <tr>\n",
       "      <th>10</th>\n",
       "      <td>0.158688</td>\n",
       "    </tr>\n",
       "    <tr>\n",
       "      <th>11</th>\n",
       "      <td>0.053727</td>\n",
       "    </tr>\n",
       "    <tr>\n",
       "      <th>12</th>\n",
       "      <td>0.236278</td>\n",
       "    </tr>\n",
       "    <tr>\n",
       "      <th>13</th>\n",
       "      <td>0.057434</td>\n",
       "    </tr>\n",
       "    <tr>\n",
       "      <th>14</th>\n",
       "      <td>0.030464</td>\n",
       "    </tr>\n",
       "  </tbody>\n",
       "</table>\n",
       "</div>"
      ],
      "text/plain": [
       "           0\n",
       "0   0.040829\n",
       "1   0.025210\n",
       "2   0.048551\n",
       "3   0.041472\n",
       "4   0.273092\n",
       "5   0.183742\n",
       "6   0.037382\n",
       "7   0.023137\n",
       "8   0.016868\n",
       "9   0.027839\n",
       "10  0.158688\n",
       "11  0.053727\n",
       "12  0.236278\n",
       "13  0.057434\n",
       "14  0.030464"
      ]
     },
     "execution_count": 99,
     "metadata": {},
     "output_type": "execute_result"
    }
   ],
   "source": [
    "pd.DataFrame(y_test_pred).head(15)"
   ]
  }
 ],
 "metadata": {
  "kernelspec": {
   "display_name": "Python 3",
   "language": "python",
   "name": "python3"
  },
  "language_info": {
   "codemirror_mode": {
    "name": "ipython",
    "version": 3
   },
   "file_extension": ".py",
   "mimetype": "text/x-python",
   "name": "python",
   "nbconvert_exporter": "python",
   "pygments_lexer": "ipython3",
   "version": "3.7.0"
  }
 },
 "nbformat": 4,
 "nbformat_minor": 2
}
